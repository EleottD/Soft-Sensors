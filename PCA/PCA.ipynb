{
 "cells": [
  {
   "cell_type": "code",
   "execution_count": 326,
   "id": "fd089e5c-073c-4899-b1fc-e51d8550cc19",
   "metadata": {},
   "outputs": [],
   "source": [
    "import sys\n",
    "sys.path.append(\"..\")\n",
    "\n",
    "import Essentials"
   ]
  },
  {
   "cell_type": "code",
   "execution_count": 327,
   "id": "13d89c2c-e559-41ad-bff9-dbc07c7793bc",
   "metadata": {},
   "outputs": [],
   "source": [
    "import numpy as np\n",
    "from sklearn.model_selection import train_test_split\n",
    "from sklearn.linear_model import LinearRegression\n",
    "from sklearn.decomposition import PCA\n",
    "from sklearn.preprocessing import StandardScaler"
   ]
  },
  {
   "cell_type": "code",
   "execution_count": 328,
   "id": "dd53eeb4-e972-45e1-850d-de1c2920ca30",
   "metadata": {},
   "outputs": [],
   "source": [
    "data_archive = np.load('../Data_First.npz', allow_pickle=True)"
   ]
  },
  {
   "cell_type": "code",
   "execution_count": 329,
   "id": "5310796c-cf33-48a8-b2e0-b4ea5803d8d7",
   "metadata": {},
   "outputs": [],
   "source": [
    "def prepare_Y(y):\n",
    "    timestamp = y[:, 1]   \n",
    "    y = y[:, 0].reshape(len(y), 1)\n",
    "    y = y.astype(np.float64)\n",
    "\n",
    "    return y, timestamp"
   ]
  },
  {
   "cell_type": "code",
   "execution_count": 330,
   "id": "ea1726ec-2d6e-4e3f-85da-1ed6f0b48172",
   "metadata": {},
   "outputs": [],
   "source": [
    "all_X_1 = data_archive['all_X_1']\n",
    "all_Y_1 = data_archive['all_Y_1']\n",
    "\n",
    "all_X_2 = data_archive['all_X_2']\n",
    "all_Y_2 = data_archive['all_Y_2']\n",
    "\n",
    "all_X_3 = data_archive['all_X_3']\n",
    "all_Y_3 = data_archive['all_Y_3']\n",
    "\n",
    "x_summer_half_2 = data_archive['x_summer_half_2']\n",
    "y_summer_half_2 = data_archive['y_summer_half_2']\n",
    "x_winter_half_2 = data_archive['x_winter_half_2']\n",
    "y_winter_half_2 = data_archive['y_winter_half_2']\n",
    "\n",
    "x_summer_half_3 = data_archive['x_summer_half_3']\n",
    "y_summer_half_3 = data_archive['y_summer_half_3']\n",
    "x_winter_half_3 = data_archive['x_winter_half_3']\n",
    "y_winter_half_3 = data_archive['y_winter_half_3']"
   ]
  },
  {
   "cell_type": "code",
   "execution_count": 331,
   "id": "f16872d5-a698-4d3b-b463-d725b045868c",
   "metadata": {},
   "outputs": [],
   "source": [
    "x_train, x_test, y_train, y_test = train_test_split(all_X_1, all_Y_1, test_size=0.2, random_state=42)"
   ]
  },
  {
   "cell_type": "code",
   "execution_count": 332,
   "id": "0b6834be-84bb-4bed-98a6-9b27d1a5440d",
   "metadata": {},
   "outputs": [],
   "source": [
    "y_train, timestamp_train = prepare_Y(y_train)"
   ]
  },
  {
   "cell_type": "code",
   "execution_count": 333,
   "id": "64e84ea7-037c-4aae-86e6-c021100ef594",
   "metadata": {},
   "outputs": [],
   "source": [
    "y_test, timestamp_test = prepare_Y(y_test)"
   ]
  },
  {
   "cell_type": "code",
   "execution_count": 334,
   "id": "b58ecc9e-0e67-46d9-9807-a4d04f521246",
   "metadata": {},
   "outputs": [
    {
     "data": {
      "text/plain": [
       "(104, 96)"
      ]
     },
     "execution_count": 334,
     "metadata": {},
     "output_type": "execute_result"
    }
   ],
   "source": [
    "x_train.shape"
   ]
  },
  {
   "cell_type": "code",
   "execution_count": 335,
   "id": "c7b7b03a-1041-4518-b247-797f76039bf9",
   "metadata": {},
   "outputs": [
    {
     "data": {
      "text/plain": [
       "(27, 96)"
      ]
     },
     "execution_count": 335,
     "metadata": {},
     "output_type": "execute_result"
    }
   ],
   "source": [
    "x_test.shape"
   ]
  },
  {
   "cell_type": "code",
   "execution_count": 336,
   "id": "b177dbb0-14dc-41d7-844a-2ad23e7db6dd",
   "metadata": {},
   "outputs": [],
   "source": [
    "x_train_winter, x_test_winter, y_train_winter, y_test_winter = train_test_split(x_winter_half_2, y_winter_half_2, test_size=0.2, random_state=42)"
   ]
  },
  {
   "cell_type": "code",
   "execution_count": 337,
   "id": "1f8cc4f1-22da-49cf-bd5a-bc95b1a72a73",
   "metadata": {},
   "outputs": [],
   "source": [
    "x_train_summer, x_test_summer, y_train_summer, y_test_summer = train_test_split(x_summer_half_2, y_summer_half_2, test_size=0.2, random_state=42)"
   ]
  },
  {
   "cell_type": "code",
   "execution_count": 338,
   "id": "c50767a9-4fcd-4b84-a063-f406a99b314c",
   "metadata": {},
   "outputs": [],
   "source": [
    "y_train_summer, timestamp_train_summer = prepare_Y(y_train_summer)"
   ]
  },
  {
   "cell_type": "code",
   "execution_count": 339,
   "id": "2b44ea7f-d572-43a9-907c-6bd4366f0d41",
   "metadata": {},
   "outputs": [],
   "source": [
    "y_train_winter, timestamp_train_winter = prepare_Y(y_train_winter)"
   ]
  },
  {
   "cell_type": "code",
   "execution_count": 340,
   "id": "77a05e85-50a8-4043-bb00-7565286eb16a",
   "metadata": {},
   "outputs": [],
   "source": [
    "y_test_summer, timestamp_test_summer = prepare_Y(y_test_summer)"
   ]
  },
  {
   "cell_type": "code",
   "execution_count": 341,
   "id": "1524b2ca-84f9-445f-97fc-42d7106319ae",
   "metadata": {},
   "outputs": [],
   "source": [
    "y_test_winter, timestamp_test_winter = prepare_Y(y_test_winter)"
   ]
  },
  {
   "cell_type": "code",
   "execution_count": 342,
   "id": "2a0f8950-7408-41c6-ae1b-7341fcf8059c",
   "metadata": {},
   "outputs": [],
   "source": [
    "class PCA_LR(Essentials.SoftSensor):\n",
    "    def __init__(self, name, x_train, y_train, n_components):\n",
    "        super().__init__(name)\n",
    "        self.model = LinearRegression()\n",
    "        self.x_pca = PCA(n_components)\n",
    "        self.fit_pca(x_train)\n",
    "        self.train(x_train, y_train)\n",
    "        self.set_model(self.model)\n",
    "\n",
    "    def preprocessing(self, x):\n",
    "        try:\n",
    "            return self.x_pca.transform(x)\n",
    "        except Exception as err:\n",
    "            print(\"Ошибка трансформации данных:\", err)           \n",
    "    \n",
    "    def postprocessing(self, x):\n",
    "        return x\n",
    "\n",
    "    def fit_pca(self, x):\n",
    "        self.x_pca.fit(x)\n",
    "\n",
    "    def evaluate_model(self, x):\n",
    "        predictions = self.get_model().predict(x)\n",
    "        return predictions\n",
    "\n",
    "    def train(self, x_train, y_train):\n",
    "        x_train_pca = self.preprocessing(x_train)\n",
    "        self.model.fit(x_train_pca,y_train)\n",
    "\n",
    "    def __str__(self):\n",
    "        return  f\"Коэффициенты линейной регрссии = {self.get_model().coef_.astype(float).reshape(-1, 1)}, Свободный член = {self.get_model().intercept_.reshape(-1, 1)}\""
   ]
  },
  {
   "cell_type": "code",
   "execution_count": 343,
   "id": "02fc1be8-6972-4342-9162-22d026a3fc3f",
   "metadata": {},
   "outputs": [],
   "source": [
    "PCA_LR_test = PCA_LR(\"PCA_LR\" ,x_train ,y_train, 50)"
   ]
  },
  {
   "cell_type": "code",
   "execution_count": 344,
   "id": "8f472de4-3a08-449c-b2cf-c479921407e9",
   "metadata": {},
   "outputs": [],
   "source": [
    "metric = Essentials.R2Metric()"
   ]
  },
  {
   "cell_type": "code",
   "execution_count": 345,
   "id": "cacadc14-ff37-45f8-bb78-d47ed568032b",
   "metadata": {},
   "outputs": [
    {
     "name": "stdout",
     "output_type": "stream",
     "text": [
      "Коэффициенты линейной регрссии = [[ 1.75165226e-05]\n",
      " [-1.08485795e-02]\n",
      " [ 8.19383458e-04]\n",
      " [-3.92427801e-02]\n",
      " [ 6.82096833e-02]\n",
      " [ 2.74184022e-02]\n",
      " [ 7.13515344e-02]\n",
      " [-8.62394874e-03]\n",
      " [ 1.38488809e-01]\n",
      " [ 7.95220438e-02]\n",
      " [ 2.70978012e-02]\n",
      " [-4.61895198e-02]\n",
      " [ 1.13163042e-01]\n",
      " [-4.41497734e-02]\n",
      " [-2.83590749e-02]\n",
      " [-2.15458583e-01]\n",
      " [ 1.96263307e-01]\n",
      " [-1.43771350e-01]\n",
      " [-1.51269456e-01]\n",
      " [ 1.92150770e-02]\n",
      " [-3.21205037e-01]\n",
      " [ 1.88435074e-01]\n",
      " [ 2.25374157e-01]\n",
      " [-1.84285024e-02]\n",
      " [ 3.23338276e-02]\n",
      " [ 2.32428628e-01]\n",
      " [-7.94255005e-02]\n",
      " [-1.55989982e-01]\n",
      " [-2.59848600e-01]\n",
      " [-4.48903558e-01]\n",
      " [-2.94190669e-01]\n",
      " [-2.57076622e-01]\n",
      " [ 4.88024138e-02]\n",
      " [ 1.53639995e-01]\n",
      " [-1.99081970e-01]\n",
      " [-4.59909808e-01]\n",
      " [ 1.14628497e-01]\n",
      " [ 4.43384006e-01]\n",
      " [-2.69666250e-01]\n",
      " [ 3.25981963e-01]\n",
      " [-2.03213794e-01]\n",
      " [-1.20481249e-01]\n",
      " [-6.59539732e-01]\n",
      " [ 1.11375785e-01]\n",
      " [-3.54486849e-01]\n",
      " [-3.23738612e-01]\n",
      " [ 4.84829002e-01]\n",
      " [ 2.24616969e-01]\n",
      " [-4.86268937e-01]\n",
      " [ 1.79751211e+00]], Свободный член = [[57.25480769]]\n"
     ]
    }
   ],
   "source": [
    "print(PCA_LR_test)"
   ]
  },
  {
   "cell_type": "code",
   "execution_count": 346,
   "id": "f0ab78b9-1742-4e81-8b94-622231eb5ae2",
   "metadata": {},
   "outputs": [
    {
     "data": {
      "text/plain": [
       "(array([[55.09457463],\n",
       "        [57.3255305 ],\n",
       "        [55.56692184],\n",
       "        [58.15756231],\n",
       "        [59.33089814],\n",
       "        [56.13604225],\n",
       "        [60.26053515],\n",
       "        [47.94283835],\n",
       "        [59.62328804],\n",
       "        [60.07116905],\n",
       "        [53.94603576],\n",
       "        [58.51254703],\n",
       "        [59.29039769],\n",
       "        [52.99956955],\n",
       "        [51.14664001],\n",
       "        [52.65548568],\n",
       "        [60.17630016],\n",
       "        [65.26451147],\n",
       "        [54.1632973 ],\n",
       "        [60.56445527],\n",
       "        [60.37246825],\n",
       "        [53.30311003],\n",
       "        [58.42889275],\n",
       "        [55.62256918],\n",
       "        [61.71878197],\n",
       "        [60.0867244 ],\n",
       "        [59.54684753]]),\n",
       " 0.7094163371137975)"
      ]
     },
     "execution_count": 346,
     "metadata": {},
     "output_type": "execute_result"
    }
   ],
   "source": [
    "PCA_LR_test.test(x_test, y_test, metric)"
   ]
  },
  {
   "cell_type": "code",
   "execution_count": 347,
   "id": "5ef12783-2460-4be1-aa82-76b9a391a60b",
   "metadata": {},
   "outputs": [],
   "source": [
    "PCA_LR_test_visual_train = Essentials.Visualizer(x_train, y_train, timestamp_train, [metric], 'Linear with PCA SoftSensor R2 metric on Train')"
   ]
  },
  {
   "cell_type": "code",
   "execution_count": 348,
   "id": "7f8a24a2-aa98-4d9a-9e32-fc92ef684cd2",
   "metadata": {},
   "outputs": [
    {
     "name": "stdout",
     "output_type": "stream",
     "text": [
      "        Coefficient of determination\n",
      "PCA_LR                      0.921648\n"
     ]
    },
    {
     "data": {
      "image/png": "[encoded data removed]",
      "text/plain": [
       "<Figure size 640x480 with 1 Axes>"
      ]
     },
     "metadata": {},
     "output_type": "display_data"
    }
   ],
   "source": [
    "PCA_LR_test_visual_train.visualize([PCA_LR_test])"
   ]
  },
  {
   "cell_type": "code",
   "execution_count": 349,
   "id": "f6ca9f82-da7b-40b5-9e65-9397973dce78",
   "metadata": {},
   "outputs": [],
   "source": [
    "PCA_LR_test_visual_test = Essentials.Visualizer(x_test, y_test, timestamp_test, [metric], 'Linear with PCA SoftSensor R2 metric on Test')"
   ]
  },
  {
   "cell_type": "code",
   "execution_count": 350,
   "id": "9efeaae2-96fa-4df5-93f6-7e95e34e7305",
   "metadata": {},
   "outputs": [
    {
     "name": "stdout",
     "output_type": "stream",
     "text": [
      "        Coefficient of determination\n",
      "PCA_LR                      0.709416\n"
     ]
    },
    {
     "data": {
      "image/png": "[encoded data removed]",
      "text/plain": [
       "<Figure size 640x480 with 1 Axes>"
      ]
     },
     "metadata": {},
     "output_type": "display_data"
    }
   ],
   "source": [
    "PCA_LR_test_visual_test.visualize([PCA_LR_test])"
   ]
  }
 ],
 "metadata": {
  "kernelspec": {
   "display_name": "Python 3 (ipykernel)",
   "language": "python",
   "name": "python3"
  },
  "language_info": {
   "codemirror_mode": {
    "name": "ipython",
    "version": 3
   },
   "file_extension": ".py",
   "mimetype": "text/x-python",
   "name": "python",
   "nbconvert_exporter": "python",
   "pygments_lexer": "ipython3",
   "version": "3.11.7"
  }
 },
 "nbformat": 4,
 "nbformat_minor": 5
}
