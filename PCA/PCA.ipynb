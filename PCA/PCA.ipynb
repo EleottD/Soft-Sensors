{
 "cells": [
  {
   "cell_type": "code",
   "execution_count": 438,
   "id": "fd089e5c-073c-4899-b1fc-e51d8550cc19",
   "metadata": {},
   "outputs": [],
   "source": [
    "import sys\n",
    "sys.path.append(\"..\")\n",
    "\n",
    "import Essentials"
   ]
  },
  {
   "cell_type": "code",
   "execution_count": 439,
   "id": "13d89c2c-e559-41ad-bff9-dbc07c7793bc",
   "metadata": {},
   "outputs": [],
   "source": [
    "import numpy as np\n",
    "from sklearn.linear_model import LinearRegression\n",
    "from sklearn.decomposition import PCA\n",
    "from sklearn.preprocessing import StandardScaler"
   ]
  },
  {
   "cell_type": "code",
   "execution_count": 440,
   "id": "dd53eeb4-e972-45e1-850d-de1c2920ca30",
   "metadata": {},
   "outputs": [],
   "source": [
    "data_archive = np.load('../Data_Average.npz', allow_pickle=True)"
   ]
  },
  {
   "cell_type": "code",
   "execution_count": 441,
   "id": "25214361-3a31-4b64-8533-72d964db39ae",
   "metadata": {},
   "outputs": [],
   "source": [
    "def prepare_Y(y):\n",
    "    timestamp = y[:, 1]   \n",
    "    y = y[:, 0].reshape(len(y), 1)\n",
    "    y = y.astype(np.float64)\n",
    "\n",
    "    return y, timestamp"
   ]
  },
  {
   "cell_type": "code",
   "execution_count": 442,
   "id": "ea1726ec-2d6e-4e3f-85da-1ed6f0b48172",
   "metadata": {},
   "outputs": [
    {
     "name": "stderr",
     "output_type": "stream",
     "text": [
      "C:\\Users\\PC\\AppData\\Local\\Temp\\ipykernel_8004\\4096890530.py:4: DeprecationWarning: Conversion of an array with ndim > 0 to a scalar is deprecated, and will error in future. Ensure you extract a single element from your array before performing this operation. (Deprecated NumPy 1.25.)\n",
      "  y = y.astype(np.float64)\n"
     ]
    }
   ],
   "source": [
    "X_test_1 = data_archive['X_test_1']\n",
    "X_train_1 = data_archive['X_train_1']\n",
    "\n",
    "X_test_2 = data_archive['X_test_2']\n",
    "X_train_2 = data_archive['X_train_2']\n",
    "\n",
    "X_test_3 = data_archive['X_test_3']\n",
    "X_train_3 = data_archive['X_train_3']\n",
    "\n",
    "Y_test_1, timestamp_test_1 = prepare_Y(data_archive['Y_test_1'])\n",
    "Y_train_1, timestamp_train_1 = prepare_Y(data_archive['Y_train_1'])\n",
    "\n",
    "Y_test_2, timestamp_test_2 = prepare_Y(data_archive['Y_test_2'])\n",
    "Y_train_2, timestamp_train_2 = prepare_Y(data_archive['Y_train_2'])\n",
    "\n",
    "Y_test_3, timestamp_test_3 = prepare_Y(data_archive['Y_test_3'])\n",
    "Y_train_3, timestamp_train_3 = prepare_Y(data_archive['Y_train_3'])"
   ]
  },
  {
   "cell_type": "code",
   "execution_count": 443,
   "id": "2a0f8950-7408-41c6-ae1b-7341fcf8059c",
   "metadata": {},
   "outputs": [],
   "source": [
    "class PCA_LR(Essentials.SoftSensor):\n",
    "    def __init__(self, name, x_train, y_train, n_components):\n",
    "        super().__init__(name)\n",
    "        self.model = LinearRegression()\n",
    "        self.x_pca = PCA(n_components)\n",
    "        self.fit_pca(x_train)\n",
    "        self.train(x_train, y_train)\n",
    "        self.set_model(self.model)\n",
    "\n",
    "    def preprocessing(self, x):\n",
    "        try:\n",
    "            return self.x_pca.transform(x)\n",
    "        except Exception as err:\n",
    "            print(\"Ошибка трансформации данных:\", err)           \n",
    "    \n",
    "    def postprocessing(self, x):\n",
    "        return x\n",
    "\n",
    "    def fit_pca(self, x):\n",
    "        self.x_pca.fit(x)\n",
    "\n",
    "    def evaluate_model(self, x):\n",
    "        predictions = self.get_model().predict(x)\n",
    "        return predictions\n",
    "\n",
    "    def train(self, x_train, y_train):\n",
    "        x_train_pca = self.preprocessing(x_train)\n",
    "        self.model.fit(x_train_pca,y_train)\n",
    "\n",
    "    def __str__(self):\n",
    "        return  f\"Коэффициенты линейной регрссии = {self.get_model().coef_.reshape(-1,1)}, Свободный член = {self.get_model().intercept_.reshape(-1, 1)}\""
   ]
  },
  {
   "cell_type": "code",
   "execution_count": 444,
   "id": "02fc1be8-6972-4342-9162-22d026a3fc3f",
   "metadata": {},
   "outputs": [],
   "source": [
    "PCA_LR_test = PCA_LR(\"PCA_LR\" ,X_train_2, Y_train_2, 18)"
   ]
  },
  {
   "cell_type": "code",
   "execution_count": 445,
   "id": "8f472de4-3a08-449c-b2cf-c479921407e9",
   "metadata": {},
   "outputs": [],
   "source": [
    "metric = Essentials.R2Metric()"
   ]
  },
  {
   "cell_type": "code",
   "execution_count": 446,
   "id": "cacadc14-ff37-45f8-bb78-d47ed568032b",
   "metadata": {},
   "outputs": [
    {
     "name": "stdout",
     "output_type": "stream",
     "text": [
      "Коэффициенты линейной регрссии = [[-0.00182561]\n",
      " [ 0.0294457 ]\n",
      " [-0.05985283]\n",
      " [-0.0410162 ]\n",
      " [-0.17293271]\n",
      " [ 0.44211839]\n",
      " [-0.17355875]\n",
      " [-0.04039416]\n",
      " [ 0.39851168]\n",
      " [-0.18510623]\n",
      " [ 0.17112497]\n",
      " [-0.34313368]\n",
      " [ 0.70403027]\n",
      " [-0.6352424 ]\n",
      " [-0.53724389]\n",
      " [-0.35543392]\n",
      " [ 0.63406873]\n",
      " [-0.0784265 ]], Свободный член = [[90.26666667]]\n"
     ]
    }
   ],
   "source": [
    "print(PCA_LR_test)"
   ]
  },
  {
   "cell_type": "code",
   "execution_count": 447,
   "id": "f0ab78b9-1742-4e81-8b94-622231eb5ae2",
   "metadata": {},
   "outputs": [
    {
     "data": {
      "text/plain": [
       "(array([[ 78.49089506],\n",
       "        [ 97.27387808],\n",
       "        [ 96.79526757],\n",
       "        [ 64.58228415],\n",
       "        [ 78.22001461],\n",
       "        [ 80.69812457],\n",
       "        [ 80.06190873],\n",
       "        [ 83.28869823],\n",
       "        [ 80.46132213],\n",
       "        [ 81.07048989],\n",
       "        [ 81.47981637],\n",
       "        [ 77.27967013],\n",
       "        [ 82.41783584],\n",
       "        [ 90.3913538 ],\n",
       "        [ 90.97695065],\n",
       "        [ 82.24420856],\n",
       "        [ 87.16786996],\n",
       "        [ 83.46636933],\n",
       "        [ 85.46659345],\n",
       "        [ 88.44297278],\n",
       "        [ 85.66680538],\n",
       "        [ 83.10544966],\n",
       "        [ 81.4935816 ],\n",
       "        [ 86.78633474],\n",
       "        [ 92.86650814],\n",
       "        [ 83.26908703],\n",
       "        [ 83.11557739],\n",
       "        [ 94.06903143],\n",
       "        [ 88.79493731],\n",
       "        [ 86.90355516],\n",
       "        [ 83.07858999],\n",
       "        [ 80.81877827],\n",
       "        [ 87.99018495],\n",
       "        [104.35689821],\n",
       "        [ 89.60304897]]),\n",
       " 0.4830649237037743)"
      ]
     },
     "execution_count": 447,
     "metadata": {},
     "output_type": "execute_result"
    }
   ],
   "source": [
    "PCA_LR_test.test(X_test_2, Y_test_2, metric)"
   ]
  },
  {
   "cell_type": "code",
   "execution_count": 448,
   "id": "5ef12783-2460-4be1-aa82-76b9a391a60b",
   "metadata": {},
   "outputs": [],
   "source": [
    "PCA_LR_test_visual_train = Essentials.Visualizer(X_train_2, Y_train_2, timestamp_train_2, [metric], 'Linear with PCA SoftSensor R2 metric on Train')"
   ]
  },
  {
   "cell_type": "code",
   "execution_count": 449,
   "id": "7f8a24a2-aa98-4d9a-9e32-fc92ef684cd2",
   "metadata": {},
   "outputs": [
    {
     "name": "stdout",
     "output_type": "stream",
     "text": [
      "        Coefficient of determination\n",
      "PCA_LR                      0.603926\n"
     ]
    },
    {
     "data": {
      "image/png": "[encoded data removed]",
      "text/plain": [
       "<Figure size 640x480 with 1 Axes>"
      ]
     },
     "metadata": {},
     "output_type": "display_data"
    }
   ],
   "source": [
    "PCA_LR_test_visual_train.visualize([PCA_LR_test])"
   ]
  },
  {
   "cell_type": "code",
   "execution_count": 450,
   "id": "f6ca9f82-da7b-40b5-9e65-9397973dce78",
   "metadata": {},
   "outputs": [],
   "source": [
    "PCA_LR_test_visual_test = Essentials.Visualizer(X_test_2, Y_test_2, timestamp_test_2, [metric], 'Linear with PCA SoftSensor R2 metric on Test')"
   ]
  },
  {
   "cell_type": "code",
   "execution_count": 451,
   "id": "9efeaae2-96fa-4df5-93f6-7e95e34e7305",
   "metadata": {},
   "outputs": [
    {
     "name": "stdout",
     "output_type": "stream",
     "text": [
      "        Coefficient of determination\n",
      "PCA_LR                      0.483065\n"
     ]
    },
    {
     "data": {
      "image/png": "[encoded data removed]",
      "text/plain": [
       "<Figure size 640x480 with 1 Axes>"
      ]
     },
     "metadata": {},
     "output_type": "display_data"
    }
   ],
   "source": [
    "PCA_LR_test_visual_test.visualize([PCA_LR_test])"
   ]
  }
 ],
 "metadata": {
  "kernelspec": {
   "display_name": "Python 3 (ipykernel)",
   "language": "python",
   "name": "python3"
  },
  "language_info": {
   "codemirror_mode": {
    "name": "ipython",
    "version": 3
   },
   "file_extension": ".py",
   "mimetype": "text/x-python",
   "name": "python",
   "nbconvert_exporter": "python",
   "pygments_lexer": "ipython3",
   "version": "3.11.7"
  }
 },
 "nbformat": 4,
 "nbformat_minor": 5
}
