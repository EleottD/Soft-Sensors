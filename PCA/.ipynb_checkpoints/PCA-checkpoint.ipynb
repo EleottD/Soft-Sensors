{
 "cells": [
  {
   "cell_type": "code",
   "execution_count": 79,
   "id": "fd089e5c-073c-4899-b1fc-e51d8550cc19",
   "metadata": {},
   "outputs": [],
   "source": [
    "import sys\n",
    "sys.path.append(\"..\")\n",
    "\n",
    "import Essentials"
   ]
  },
  {
   "cell_type": "code",
   "execution_count": 80,
   "id": "13d89c2c-e559-41ad-bff9-dbc07c7793bc",
   "metadata": {},
   "outputs": [],
   "source": [
    "import numpy as np\n",
    "from sklearn.model_selection import train_test_split\n",
    "from sklearn.linear_model import LinearRegression\n",
    "from sklearn.decomposition import PCA\n",
    "from sklearn.preprocessing import StandardScaler\n",
    "from sklearn.metrics import r2_score"
   ]
  },
  {
   "cell_type": "code",
   "execution_count": 81,
   "id": "dd53eeb4-e972-45e1-850d-de1c2920ca30",
   "metadata": {},
   "outputs": [],
   "source": [
    "data_archive = np.load('../Data_Average_Nikita.npz', allow_pickle=True)"
   ]
  },
  {
   "cell_type": "code",
   "execution_count": 82,
   "id": "5310796c-cf33-48a8-b2e0-b4ea5803d8d7",
   "metadata": {},
   "outputs": [],
   "source": [
    "def prepare_Y(y):\n",
    "    timestamp = y[:, 1]   \n",
    "    y = y[:, 0].reshape(len(y), 1)\n",
    "    y = y.astype(np.float64)\n",
    "\n",
    "    return y, timestamp"
   ]
  },
  {
   "cell_type": "code",
   "execution_count": 83,
   "id": "ea1726ec-2d6e-4e3f-85da-1ed6f0b48172",
   "metadata": {},
   "outputs": [],
   "source": [
    "all_X_1 = data_archive['all_X_1']\n",
    "all_Y_1 = data_archive['all_Y_1']\n",
    "\n",
    "all_X_2 = data_archive['all_X_2']\n",
    "all_Y_2 = data_archive['all_Y_2']\n",
    "\n",
    "all_X_3 = data_archive['all_X_3']\n",
    "all_Y_3 = data_archive['all_Y_3']\n",
    "\n",
    "x_summer_half_2 = data_archive['x_summer_half_2']\n",
    "y_summer_half_2 = data_archive['y_summer_half_2']\n",
    "x_winter_half_2 = data_archive['x_winter_half_2']\n",
    "y_winter_half_2 = data_archive['y_winter_half_2']\n",
    "\n",
    "x_summer_half_3 = data_archive['x_summer_half_3']\n",
    "y_summer_half_3 = data_archive['y_summer_half_3']\n",
    "x_winter_half_3 = data_archive['x_winter_half_3']\n",
    "y_winter_half_3 = data_archive['y_winter_half_3']"
   ]
  },
  {
   "cell_type": "code",
   "execution_count": 84,
   "id": "f16872d5-a698-4d3b-b463-d725b045868c",
   "metadata": {},
   "outputs": [],
   "source": [
    "x_train, x_test, y_train, y_test = train_test_split(all_X_1, all_Y_1, test_size=0.2, random_state=10)"
   ]
  },
  {
   "cell_type": "code",
   "execution_count": 85,
   "id": "f278b5a5-157c-480e-bdff-3e004974b9eb",
   "metadata": {},
   "outputs": [
    {
     "data": {
      "text/plain": [
       "(107, 87)"
      ]
     },
     "execution_count": 85,
     "metadata": {},
     "output_type": "execute_result"
    }
   ],
   "source": [
    "all_X_1.shape"
   ]
  },
  {
   "cell_type": "code",
   "execution_count": 86,
   "id": "0b6834be-84bb-4bed-98a6-9b27d1a5440d",
   "metadata": {},
   "outputs": [],
   "source": [
    "y_train, timestamp_train = prepare_Y(y_train)"
   ]
  },
  {
   "cell_type": "code",
   "execution_count": 87,
   "id": "64e84ea7-037c-4aae-86e6-c021100ef594",
   "metadata": {},
   "outputs": [],
   "source": [
    "y_test, timestamp_test = prepare_Y(y_test)"
   ]
  },
  {
   "cell_type": "code",
   "execution_count": 88,
   "id": "b58ecc9e-0e67-46d9-9807-a4d04f521246",
   "metadata": {},
   "outputs": [
    {
     "data": {
      "text/plain": [
       "(85, 87)"
      ]
     },
     "execution_count": 88,
     "metadata": {},
     "output_type": "execute_result"
    }
   ],
   "source": [
    "x_train.shape"
   ]
  },
  {
   "cell_type": "code",
   "execution_count": 89,
   "id": "c7b7b03a-1041-4518-b247-797f76039bf9",
   "metadata": {},
   "outputs": [
    {
     "data": {
      "text/plain": [
       "(22, 87)"
      ]
     },
     "execution_count": 89,
     "metadata": {},
     "output_type": "execute_result"
    }
   ],
   "source": [
    "x_test.shape"
   ]
  },
  {
   "cell_type": "code",
   "execution_count": 90,
   "id": "b177dbb0-14dc-41d7-844a-2ad23e7db6dd",
   "metadata": {},
   "outputs": [],
   "source": [
    "x_train_winter, x_test_winter, y_train_winter, y_test_winter = train_test_split(x_winter_half_2, y_winter_half_2, test_size=0.2, random_state=10)"
   ]
  },
  {
   "cell_type": "code",
   "execution_count": 91,
   "id": "1f8cc4f1-22da-49cf-bd5a-bc95b1a72a73",
   "metadata": {},
   "outputs": [],
   "source": [
    "x_train_summer, x_test_summer, y_train_summer, y_test_summer = train_test_split(x_summer_half_2, y_summer_half_2, test_size=0.2, random_state=10)"
   ]
  },
  {
   "cell_type": "code",
   "execution_count": 92,
   "id": "c50767a9-4fcd-4b84-a063-f406a99b314c",
   "metadata": {},
   "outputs": [],
   "source": [
    "y_train_summer, timestamp_train_summer = prepare_Y(y_train_summer)"
   ]
  },
  {
   "cell_type": "code",
   "execution_count": 93,
   "id": "2b44ea7f-d572-43a9-907c-6bd4366f0d41",
   "metadata": {},
   "outputs": [],
   "source": [
    "y_train_winter, timestamp_train_winter = prepare_Y(y_train_winter)"
   ]
  },
  {
   "cell_type": "code",
   "execution_count": 94,
   "id": "77a05e85-50a8-4043-bb00-7565286eb16a",
   "metadata": {},
   "outputs": [],
   "source": [
    "y_test_summer, timestamp_test_summer = prepare_Y(y_test_summer)"
   ]
  },
  {
   "cell_type": "code",
   "execution_count": 95,
   "id": "1524b2ca-84f9-445f-97fc-42d7106319ae",
   "metadata": {},
   "outputs": [],
   "source": [
    "y_test_winter, timestamp_test_winter = prepare_Y(y_test_winter)"
   ]
  },
  {
   "cell_type": "code",
   "execution_count": 96,
   "id": "2a0f8950-7408-41c6-ae1b-7341fcf8059c",
   "metadata": {},
   "outputs": [],
   "source": [
    "class PCA_LR(Essentials.SoftSensor):\n",
    "    def __init__(self, name, x_train, y_train):\n",
    "        super().__init__(name)\n",
    "        self.x_scaler = StandardScaler()\n",
    "        self.x_pca = None  # Инициализация будет в методе tune_pca_components\n",
    "        self.fit_scaler(x_train)\n",
    "\n",
    "        # Поиск оптимального количества компонент\n",
    "        self.tune_pca_components(x_train, y_train)\n",
    "\n",
    "        # Обучение модели\n",
    "        self.model = LinearRegression()\n",
    "        self.train(x_train, y_train)\n",
    "        self.set_model(self.model)\n",
    "\n",
    "    def tune_pca_components(self, x_train, y_train):\n",
    "        r2_scores = []\n",
    "        for n_components in range(1, 40):\n",
    "            pca = PCA(n_components=n_components)\n",
    "            self.fit_pca(pca, x_train)\n",
    "            pca_x_train = self.preprocessing(x_train)\n",
    "\n",
    "            # Обучение модели на обучающей выборке с текущим количеством компонент\n",
    "            model = LinearRegression()\n",
    "            model.fit(pca_x_train, y_train)\n",
    "\n",
    "            # Предсказание на обучающей выборке\n",
    "            y_pred_train = model.predict(pca_x_train)\n",
    "\n",
    "            # Расчёт R^2 на обучающей выборке и обновление списка r2_scores\n",
    "            r2 = r2_score(y_train, y_pred_train)\n",
    "            r2_scores.append(r2)\n",
    "\n",
    "        # Определение числа компонент с максимальным R^2 на обучающей выборке\n",
    "        optimal_n_components = np.argmax(r2_scores) + 1\n",
    "        print(f\"Оптимальное количество главных компонент (на основе обучающей выборки): {optimal_n_components}\")\n",
    "\n",
    "        # Обучение PCA с оптимальным числом компонент\n",
    "        self.x_pca = PCA(n_components=optimal_n_components)\n",
    "        self.x_pca.fit(self.x_scaler.transform(x_train))\n",
    "    \n",
    "    def preprocessing(self, x):\n",
    "        try:\n",
    "            x_scaled = self.x_scaler.transform(x)\n",
    "            return self.x_pca.transform(x_scaled)\n",
    "        except BaseException as err:\n",
    "            print(\"Ошибка скейлера\")\n",
    "            raise err    \n",
    "    \n",
    "    def postprocessing(self, x):\n",
    "        return x\n",
    "\n",
    "    def fit_scaler(self, x):\n",
    "        self.x_scaler.fit(x)\n",
    "\n",
    "    def fit_pca(self, pca, x):\n",
    "        scaled_x = self.x_scaler.transform(x)\n",
    "        pca.fit(scaled_x)\n",
    "        self.x_pca = pca\n",
    "    \n",
    "    def evaluate_model(self, x):\n",
    "        predictions = self.get_model().predict(x)\n",
    "        return predictions\n",
    "\n",
    "    def train(self, x_train, y_train):\n",
    "        pca_x = self.preprocessing(x_train)\n",
    "        self.model.fit(pca_x,y_train)\n",
    "\n",
    "    def __str__(self):\n",
    "        # Создание формулы для каждого коэффициента модели линейной регрессии\n",
    "        pc_terms = [f\"({coef:.6f}*PC{i+1})\" for i, coef in enumerate(self.model.coef_.flatten())]\n",
    "        # Формула линейной регрессии в формате y = (w1*PC1) + (w2*PC2) + ... + (wN*PCN) + intercept\n",
    "        formula_str = \" + \".join(pc_terms)  # Преобразование списка в одну строку\n",
    "        \n",
    "        intercept = self.model.intercept_\n",
    "        # Для случая, когда перехват (intercept) является массивом\n",
    "        if isinstance(intercept, np.ndarray):\n",
    "            intercept = intercept.item(0)\n",
    "        \n",
    "        # Добавление перехвата (свободного члена) к общей формуле\n",
    "        complete_formula = f\"y = {formula_str} + {intercept:.6f}\"\n",
    "        \n",
    "        return f\"Линейная регрессия с PCA:\\n{complete_formula}\""
   ]
  },
  {
   "cell_type": "code",
   "execution_count": 97,
   "id": "02fc1be8-6972-4342-9162-22d026a3fc3f",
   "metadata": {},
   "outputs": [
    {
     "name": "stdout",
     "output_type": "stream",
     "text": [
      "Оптимальное количество главных компонент (на основе обучающей выборки): 39\n"
     ]
    }
   ],
   "source": [
    "PCA_LR_test = PCA_LR(\"PCA_LR\" ,x_train ,y_train)"
   ]
  },
  {
   "cell_type": "code",
   "execution_count": 98,
   "id": "8f472de4-3a08-449c-b2cf-c479921407e9",
   "metadata": {},
   "outputs": [],
   "source": [
    "metric = Essentials.R2Metric()"
   ]
  },
  {
   "cell_type": "code",
   "execution_count": 99,
   "id": "cacadc14-ff37-45f8-bb78-d47ed568032b",
   "metadata": {},
   "outputs": [
    {
     "name": "stdout",
     "output_type": "stream",
     "text": [
      "Линейная регрессия с PCA:\n",
      "y = (0.313443*PC1) + (-0.232161*PC2) + (0.376245*PC3) + (0.545303*PC4) + (0.179243*PC5) + (0.282002*PC6) + (0.330893*PC7) + (-0.097665*PC8) + (-0.124469*PC9) + (0.178798*PC10) + (-0.241321*PC11) + (0.280571*PC12) + (-0.031371*PC13) + (-0.743688*PC14) + (-0.505037*PC15) + (-0.020385*PC16) + (-0.116544*PC17) + (0.366773*PC18) + (-0.339042*PC19) + (0.116807*PC20) + (0.895913*PC21) + (-0.000088*PC22) + (-0.507286*PC23) + (-0.760502*PC24) + (-0.320919*PC25) + (0.304040*PC26) + (0.219186*PC27) + (0.166698*PC28) + (-1.053392*PC29) + (0.131878*PC30) + (0.283778*PC31) + (1.287588*PC32) + (-1.575599*PC33) + (0.563405*PC34) + (0.416659*PC35) + (-0.868637*PC36) + (1.051866*PC37) + (-0.828467*PC38) + (1.077989*PC39) + 57.537647\n"
     ]
    }
   ],
   "source": [
    "print(PCA_LR_test)"
   ]
  },
  {
   "cell_type": "code",
   "execution_count": 100,
   "id": "f0ab78b9-1742-4e81-8b94-622231eb5ae2",
   "metadata": {},
   "outputs": [
    {
     "data": {
      "text/plain": [
       "(array([[61.31530198],\n",
       "        [59.14480341],\n",
       "        [60.91094645],\n",
       "        [49.73827956],\n",
       "        [60.62072734],\n",
       "        [58.2492864 ],\n",
       "        [58.45983912],\n",
       "        [59.24748517],\n",
       "        [55.74212318],\n",
       "        [56.65875965],\n",
       "        [58.57855936],\n",
       "        [54.72296456],\n",
       "        [59.96371736],\n",
       "        [56.47486866],\n",
       "        [62.926055  ],\n",
       "        [59.12147352],\n",
       "        [53.2706786 ],\n",
       "        [58.96601682],\n",
       "        [55.85151   ],\n",
       "        [51.11354603],\n",
       "        [61.66154848],\n",
       "        [57.2506988 ]]),\n",
       " 0.7817688177778049)"
      ]
     },
     "execution_count": 100,
     "metadata": {},
     "output_type": "execute_result"
    }
   ],
   "source": [
    "PCA_LR_test.test(x_test, y_test, metric)"
   ]
  },
  {
   "cell_type": "code",
   "execution_count": 101,
   "id": "5ef12783-2460-4be1-aa82-76b9a391a60b",
   "metadata": {},
   "outputs": [],
   "source": [
    "PCA_LR_test_visual_train = Essentials.Visualizer(x_train, y_train, timestamp_train, [metric], 'Linear with PCA SoftSensor R2 metric on Train')"
   ]
  },
  {
   "cell_type": "code",
   "execution_count": 102,
   "id": "7f8a24a2-aa98-4d9a-9e32-fc92ef684cd2",
   "metadata": {},
   "outputs": [
    {
     "name": "stdout",
     "output_type": "stream",
     "text": [
      "        Coefficient of determination\n",
      "PCA_LR                       0.87893\n"
     ]
    },
    {
     "data": {
      "image/png": "[encoded data removed]",
      "text/plain": [
       "<Figure size 640x480 with 1 Axes>"
      ]
     },
     "metadata": {},
     "output_type": "display_data"
    }
   ],
   "source": [
    "PCA_LR_test_visual_train.visualize([PCA_LR_test])"
   ]
  },
  {
   "cell_type": "code",
   "execution_count": 103,
   "id": "f6ca9f82-da7b-40b5-9e65-9397973dce78",
   "metadata": {},
   "outputs": [],
   "source": [
    "PCA_LR_test_visual_test = Essentials.Visualizer(x_test, y_test, timestamp_test, [metric], 'Linear with PCA SoftSensor R2 metric on Test')"
   ]
  },
  {
   "cell_type": "code",
   "execution_count": 104,
   "id": "9efeaae2-96fa-4df5-93f6-7e95e34e7305",
   "metadata": {},
   "outputs": [
    {
     "name": "stdout",
     "output_type": "stream",
     "text": [
      "        Coefficient of determination\n",
      "PCA_LR                      0.781769\n"
     ]
    },
    {
     "data": {
      "image/png": "[encoded data removed]",
      "text/plain": [
       "<Figure size 640x480 with 1 Axes>"
      ]
     },
     "metadata": {},
     "output_type": "display_data"
    }
   ],
   "source": [
    "PCA_LR_test_visual_test.visualize([PCA_LR_test])"
   ]
  }
 ],
 "metadata": {
  "kernelspec": {
   "display_name": "Python 3 (ipykernel)",
   "language": "python",
   "name": "python3"
  },
  "language_info": {
   "codemirror_mode": {
    "name": "ipython",
    "version": 3
   },
   "file_extension": ".py",
   "mimetype": "text/x-python",
   "name": "python",
   "nbconvert_exporter": "python",
   "pygments_lexer": "ipython3",
   "version": "3.11.7"
  }
 },
 "nbformat": 4,
 "nbformat_minor": 5
}
