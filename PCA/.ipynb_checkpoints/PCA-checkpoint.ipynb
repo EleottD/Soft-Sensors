{
 "cells": [
  {
   "cell_type": "code",
   "execution_count": 101,
   "id": "fd089e5c-073c-4899-b1fc-e51d8550cc19",
   "metadata": {},
   "outputs": [],
   "source": [
    "import sys\n",
    "sys.path.append(\"..\")\n",
    "\n",
    "import Essentials"
   ]
  },
  {
   "cell_type": "code",
   "execution_count": 102,
   "id": "13d89c2c-e559-41ad-bff9-dbc07c7793bc",
   "metadata": {},
   "outputs": [],
   "source": [
    "import numpy as np\n",
    "from sklearn.model_selection import train_test_split\n",
    "from sklearn.linear_model import LinearRegression\n",
    "from sklearn.decomposition import PCA\n",
    "from sklearn.preprocessing import StandardScaler"
   ]
  },
  {
   "cell_type": "code",
   "execution_count": 103,
   "id": "dd53eeb4-e972-45e1-850d-de1c2920ca30",
   "metadata": {},
   "outputs": [],
   "source": [
    "data_archive = np.load('../Data_First.npz', allow_pickle=True)"
   ]
  },
  {
   "cell_type": "code",
   "execution_count": 104,
   "id": "5310796c-cf33-48a8-b2e0-b4ea5803d8d7",
   "metadata": {},
   "outputs": [],
   "source": [
    "def prepare_Y(y):\n",
    "    timestamp = y[:, 1]   \n",
    "    y = y[:, 0].reshape(len(y), 1)\n",
    "    y = y.astype(np.float64)\n",
    "\n",
    "    return y, timestamp"
   ]
  },
  {
   "cell_type": "code",
   "execution_count": 105,
   "id": "ea1726ec-2d6e-4e3f-85da-1ed6f0b48172",
   "metadata": {},
   "outputs": [],
   "source": [
    "all_X_1 = data_archive['all_X_1']\n",
    "all_Y_1 = data_archive['all_Y_1']\n",
    "\n",
    "all_X_2 = data_archive['all_X_2']\n",
    "all_Y_2 = data_archive['all_Y_2']\n",
    "\n",
    "all_X_3 = data_archive['all_X_3']\n",
    "all_Y_3 = data_archive['all_Y_3']\n",
    "\n",
    "x_summer_half_2 = data_archive['x_summer_half_2']\n",
    "y_summer_half_2 = data_archive['y_summer_half_2']\n",
    "x_winter_half_2 = data_archive['x_winter_half_2']\n",
    "y_winter_half_2 = data_archive['y_winter_half_2']\n",
    "\n",
    "x_summer_half_3 = data_archive['x_summer_half_3']\n",
    "y_summer_half_3 = data_archive['y_summer_half_3']\n",
    "x_winter_half_3 = data_archive['x_winter_half_3']\n",
    "y_winter_half_3 = data_archive['y_winter_half_3']"
   ]
  },
  {
   "cell_type": "code",
   "execution_count": 106,
   "id": "f16872d5-a698-4d3b-b463-d725b045868c",
   "metadata": {},
   "outputs": [],
   "source": [
    "x_train, x_test, y_train, y_test = train_test_split(all_X_3, all_Y_3, test_size=0.2, random_state=42)"
   ]
  },
  {
   "cell_type": "code",
   "execution_count": 107,
   "id": "0b6834be-84bb-4bed-98a6-9b27d1a5440d",
   "metadata": {},
   "outputs": [],
   "source": [
    "y_train, timestamp_train = prepare_Y(y_train)"
   ]
  },
  {
   "cell_type": "code",
   "execution_count": 108,
   "id": "64e84ea7-037c-4aae-86e6-c021100ef594",
   "metadata": {},
   "outputs": [],
   "source": [
    "y_test, timestamp_test = prepare_Y(y_test)"
   ]
  },
  {
   "cell_type": "code",
   "execution_count": 109,
   "id": "b58ecc9e-0e67-46d9-9807-a4d04f521246",
   "metadata": {},
   "outputs": [
    {
     "data": {
      "text/plain": [
       "(180, 81)"
      ]
     },
     "execution_count": 109,
     "metadata": {},
     "output_type": "execute_result"
    }
   ],
   "source": [
    "x_train.shape"
   ]
  },
  {
   "cell_type": "code",
   "execution_count": 110,
   "id": "c7b7b03a-1041-4518-b247-797f76039bf9",
   "metadata": {},
   "outputs": [
    {
     "data": {
      "text/plain": [
       "(46, 81)"
      ]
     },
     "execution_count": 110,
     "metadata": {},
     "output_type": "execute_result"
    }
   ],
   "source": [
    "x_test.shape"
   ]
  },
  {
   "cell_type": "code",
   "execution_count": 111,
   "id": "b177dbb0-14dc-41d7-844a-2ad23e7db6dd",
   "metadata": {},
   "outputs": [],
   "source": [
    "x_train_winter, x_test_winter, y_train_winter, y_test_winter = train_test_split(x_winter_half_2, y_winter_half_2, test_size=0.2, random_state=42)"
   ]
  },
  {
   "cell_type": "code",
   "execution_count": 112,
   "id": "1f8cc4f1-22da-49cf-bd5a-bc95b1a72a73",
   "metadata": {},
   "outputs": [],
   "source": [
    "x_train_summer, x_test_summer, y_train_summer, y_test_summer = train_test_split(x_summer_half_2, y_summer_half_2, test_size=0.2, random_state=42)"
   ]
  },
  {
   "cell_type": "code",
   "execution_count": 113,
   "id": "c50767a9-4fcd-4b84-a063-f406a99b314c",
   "metadata": {},
   "outputs": [],
   "source": [
    "y_train_summer, timestamp_train_summer = prepare_Y(y_train_summer)"
   ]
  },
  {
   "cell_type": "code",
   "execution_count": 114,
   "id": "2b44ea7f-d572-43a9-907c-6bd4366f0d41",
   "metadata": {},
   "outputs": [],
   "source": [
    "y_train_winter, timestamp_train_winter = prepare_Y(y_train_winter)"
   ]
  },
  {
   "cell_type": "code",
   "execution_count": 115,
   "id": "77a05e85-50a8-4043-bb00-7565286eb16a",
   "metadata": {},
   "outputs": [],
   "source": [
    "y_test_summer, timestamp_test_summer = prepare_Y(y_test_summer)"
   ]
  },
  {
   "cell_type": "code",
   "execution_count": 116,
   "id": "1524b2ca-84f9-445f-97fc-42d7106319ae",
   "metadata": {},
   "outputs": [],
   "source": [
    "y_test_winter, timestamp_test_winter = prepare_Y(y_test_winter)"
   ]
  },
  {
   "cell_type": "code",
   "execution_count": 117,
   "id": "2a0f8950-7408-41c6-ae1b-7341fcf8059c",
   "metadata": {},
   "outputs": [],
   "source": [
    "class PCA_LR(Essentials.SoftSensor):\n",
    "    def __init__(self, name, x_train, y_train, n_components):\n",
    "        super().__init__(name)\n",
    "        self.model = LinearRegression()\n",
    "        self.x_pca = PCA(n_components)\n",
    "        self.fit_pca(x_train)\n",
    "        self.train(x_train, y_train)\n",
    "        self.set_model(self.model)\n",
    "\n",
    "    def preprocessing(self, x):\n",
    "        try:\n",
    "            return self.x_pca.transform(x)\n",
    "        except Exception as err:\n",
    "            print(\"Ошибка трансформации данных:\", err)           \n",
    "    \n",
    "    def postprocessing(self, x):\n",
    "        return x\n",
    "\n",
    "    def fit_pca(self, x):\n",
    "        self.x_pca.fit(x)\n",
    "\n",
    "    def evaluate_model(self, x):\n",
    "        predictions = self.get_model().predict(x)\n",
    "        return predictions\n",
    "\n",
    "    def train(self, x_train, y_train):\n",
    "        x_train_pca = self.preprocessing(x_train)\n",
    "        self.model.fit(x_train_pca,y_train)\n",
    "\n",
    "    def __str__(self):\n",
    "        return  f\"Коэффициенты линейной регрссии = {self.get_model().coef_.reshape(-1,1)}, Свободный член = {self.get_model().intercept_.reshape(-1, 1)}\""
   ]
  },
  {
   "cell_type": "code",
   "execution_count": 118,
   "id": "02fc1be8-6972-4342-9162-22d026a3fc3f",
   "metadata": {},
   "outputs": [],
   "source": [
    "PCA_LR_test = PCA_LR(\"PCA_LR\" ,x_train ,y_train, 60)"
   ]
  },
  {
   "cell_type": "code",
   "execution_count": 119,
   "id": "8f472de4-3a08-449c-b2cf-c479921407e9",
   "metadata": {},
   "outputs": [],
   "source": [
    "metric = Essentials.R2Metric()"
   ]
  },
  {
   "cell_type": "code",
   "execution_count": 120,
   "id": "cacadc14-ff37-45f8-bb78-d47ed568032b",
   "metadata": {},
   "outputs": [
    {
     "name": "stdout",
     "output_type": "stream",
     "text": [
      "Коэффициенты линейной регрссии = [[ 8.22735719e-03]\n",
      " [-9.49916735e-03]\n",
      " [ 8.96192063e-03]\n",
      " [-6.81271622e-02]\n",
      " [-1.74668337e-02]\n",
      " [ 7.21450942e-02]\n",
      " [-1.94850639e-02]\n",
      " [-1.51794140e-03]\n",
      " [-7.50262242e-02]\n",
      " [-9.24615715e-03]\n",
      " [-1.17639959e-02]\n",
      " [ 3.82071396e-02]\n",
      " [-1.58630069e-03]\n",
      " [-9.10019284e-02]\n",
      " [ 9.04352641e-02]\n",
      " [-1.17546722e-01]\n",
      " [-3.02638931e-01]\n",
      " [ 8.12346311e-02]\n",
      " [ 9.30374573e-02]\n",
      " [ 5.34231638e-04]\n",
      " [-2.16279987e-01]\n",
      " [ 5.21452953e-02]\n",
      " [-7.79992140e-02]\n",
      " [ 3.50181350e-03]\n",
      " [ 9.80080925e-02]\n",
      " [ 5.27111298e-02]\n",
      " [ 5.32811521e-02]\n",
      " [ 4.44359969e-02]\n",
      " [ 1.38828280e-01]\n",
      " [ 1.40533255e-01]\n",
      " [-1.20444147e-03]\n",
      " [ 4.22251595e-02]\n",
      " [ 2.34205837e-01]\n",
      " [ 2.96850459e-02]\n",
      " [-1.39278450e-01]\n",
      " [ 1.17659998e-01]\n",
      " [-6.32084085e-01]\n",
      " [ 7.53630357e-01]\n",
      " [ 7.71528278e-01]\n",
      " [-2.96940541e-01]\n",
      " [-2.91832692e-01]\n",
      " [-8.05177906e-01]\n",
      " [ 5.47843814e-02]\n",
      " [-1.16278224e+00]\n",
      " [-1.00265031e+00]\n",
      " [ 6.24798711e-01]\n",
      " [ 3.82545182e-01]\n",
      " [ 2.11506525e+00]\n",
      " [ 5.22157983e-02]\n",
      " [-1.74560064e+00]\n",
      " [-1.31495009e+00]\n",
      " [ 8.82399411e-01]\n",
      " [-3.51628027e-02]\n",
      " [-6.02838053e-01]\n",
      " [ 1.41201798e+00]\n",
      " [-2.98798492e-01]\n",
      " [-7.19222545e-01]\n",
      " [ 2.87343714e+00]\n",
      " [-2.60112942e-01]\n",
      " [-2.22506678e+00]], Свободный член = [[28.08166667]]\n"
     ]
    }
   ],
   "source": [
    "print(PCA_LR_test)"
   ]
  },
  {
   "cell_type": "code",
   "execution_count": 121,
   "id": "f0ab78b9-1742-4e81-8b94-622231eb5ae2",
   "metadata": {},
   "outputs": [
    {
     "data": {
      "text/plain": [
       "(array([[26.13914679],\n",
       "        [24.96209913],\n",
       "        [28.64862415],\n",
       "        [23.63113545],\n",
       "        [26.87792523],\n",
       "        [26.31625299],\n",
       "        [25.95595919],\n",
       "        [30.33995437],\n",
       "        [27.86327486],\n",
       "        [28.18504135],\n",
       "        [31.46807222],\n",
       "        [28.7273658 ],\n",
       "        [26.39733404],\n",
       "        [27.01909669],\n",
       "        [28.18749221],\n",
       "        [28.97640678],\n",
       "        [29.33812427],\n",
       "        [27.91989217],\n",
       "        [31.26570729],\n",
       "        [25.95280825],\n",
       "        [32.04508112],\n",
       "        [29.66193463],\n",
       "        [26.80679471],\n",
       "        [27.3410243 ],\n",
       "        [28.62666094],\n",
       "        [31.73468024],\n",
       "        [26.16784233],\n",
       "        [26.65160971],\n",
       "        [24.86435313],\n",
       "        [26.95385742],\n",
       "        [27.82837046],\n",
       "        [32.62917949],\n",
       "        [28.33994977],\n",
       "        [26.65308242],\n",
       "        [25.78474849],\n",
       "        [28.00635013],\n",
       "        [27.30002779],\n",
       "        [28.98584175],\n",
       "        [28.90233938],\n",
       "        [26.93979926],\n",
       "        [26.58547438],\n",
       "        [26.26109489],\n",
       "        [24.48952089],\n",
       "        [22.30386048],\n",
       "        [24.89451679],\n",
       "        [27.50624662]]),\n",
       " 0.4379273811274129)"
      ]
     },
     "execution_count": 121,
     "metadata": {},
     "output_type": "execute_result"
    }
   ],
   "source": [
    "PCA_LR_test.test(x_test, y_test, metric)"
   ]
  },
  {
   "cell_type": "code",
   "execution_count": 122,
   "id": "5ef12783-2460-4be1-aa82-76b9a391a60b",
   "metadata": {},
   "outputs": [],
   "source": [
    "PCA_LR_test_visual_train = Essentials.Visualizer(x_train, y_train, timestamp_train, [metric], 'Linear with PCA SoftSensor R2 metric on Train')"
   ]
  },
  {
   "cell_type": "code",
   "execution_count": 123,
   "id": "7f8a24a2-aa98-4d9a-9e32-fc92ef684cd2",
   "metadata": {},
   "outputs": [
    {
     "name": "stdout",
     "output_type": "stream",
     "text": [
      "        Coefficient of determination\n",
      "PCA_LR                      0.805313\n"
     ]
    },
    {
     "data": {
      "image/png": "[encoded data removed]",
      "text/plain": [
       "<Figure size 640x480 with 1 Axes>"
      ]
     },
     "metadata": {},
     "output_type": "display_data"
    }
   ],
   "source": [
    "PCA_LR_test_visual_train.visualize([PCA_LR_test])"
   ]
  },
  {
   "cell_type": "code",
   "execution_count": 124,
   "id": "f6ca9f82-da7b-40b5-9e65-9397973dce78",
   "metadata": {},
   "outputs": [],
   "source": [
    "PCA_LR_test_visual_test = Essentials.Visualizer(x_test, y_test, timestamp_test, [metric], 'Linear with PCA SoftSensor R2 metric on Test')"
   ]
  },
  {
   "cell_type": "code",
   "execution_count": 125,
   "id": "9efeaae2-96fa-4df5-93f6-7e95e34e7305",
   "metadata": {},
   "outputs": [
    {
     "name": "stdout",
     "output_type": "stream",
     "text": [
      "        Coefficient of determination\n",
      "PCA_LR                      0.437927\n"
     ]
    },
    {
     "data": {
      "image/png": "[encoded data removed]",
      "text/plain": [
       "<Figure size 640x480 with 1 Axes>"
      ]
     },
     "metadata": {},
     "output_type": "display_data"
    }
   ],
   "source": [
    "PCA_LR_test_visual_test.visualize([PCA_LR_test])"
   ]
  }
 ],
 "metadata": {
  "kernelspec": {
   "display_name": "Python 3 (ipykernel)",
   "language": "python",
   "name": "python3"
  },
  "language_info": {
   "codemirror_mode": {
    "name": "ipython",
    "version": 3
   },
   "file_extension": ".py",
   "mimetype": "text/x-python",
   "name": "python",
   "nbconvert_exporter": "python",
   "pygments_lexer": "ipython3",
   "version": "3.11.7"
  }
 },
 "nbformat": 4,
 "nbformat_minor": 5
}
