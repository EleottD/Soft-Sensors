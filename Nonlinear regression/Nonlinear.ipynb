{
 "cells": [
  {
   "cell_type": "code",
   "execution_count": 1,
   "id": "ef4eb98b-798a-4e71-b982-a86c4aa12ba5",
   "metadata": {
    "editable": true,
    "slideshow": {
     "slide_type": ""
    },
    "tags": []
   },
   "outputs": [],
   "source": [
    "import sys\n",
    "sys.path.append(\"..\")\n",
    "\n",
    "import Essentials\n"
   ]
  },
  {
   "cell_type": "code",
   "execution_count": 33,
   "id": "ddfd73aa-5dd4-4f6d-9b27-79e640a9f3bc",
   "metadata": {},
   "outputs": [],
   "source": [
    "import numpy as np\n",
    "import torch\n",
    "import matplotlib.pyplot as plt\n",
    "\n",
    "from sklearn.preprocessing import StandardScaler"
   ]
  },
  {
   "cell_type": "markdown",
   "id": "06aed4bf-511d-4163-8b40-d0a0a2a3d019",
   "metadata": {},
   "source": [
    "Загрузка данных"
   ]
  },
  {
   "cell_type": "code",
   "execution_count": 6,
   "id": "abe1e9e4-447a-4089-954e-50325ebc8d6d",
   "metadata": {},
   "outputs": [],
   "source": [
    "data_archive = np.load('..\\Data_Average.npz', allow_pickle=True)"
   ]
  },
  {
   "cell_type": "code",
   "execution_count": 9,
   "id": "94f6bc4b-df76-4ef9-a97f-0d14f4bdc044",
   "metadata": {},
   "outputs": [],
   "source": [
    "def prepare_Y(y):\n",
    "    timestamp = y[:, 1]   \n",
    "    y = y[:, 0].reshape(len(y), 1)\n",
    "    y = y.astype(np.float64)\n",
    "\n",
    "    return y, timestamp"
   ]
  },
  {
   "cell_type": "markdown",
   "id": "a28fe38c-7d18-49dc-912a-16fbdecc9c53",
   "metadata": {},
   "source": [
    "Загрузка и подготовка данных. Сейчас классы построены таким образом, чтобы работать с numpy массивами X типа {N, C} и numpy массивами Y типа {N, 1}. Необходимо привести данные к такому виду для единнобразия обработки\n",
    "\n",
    "N - количество точек, \n",
    "С - количестов каналов данных Х"
   ]
  },
  {
   "cell_type": "code",
   "execution_count": 10,
   "id": "73e00243-614b-4301-9ee3-7a3ce639983f",
   "metadata": {
    "editable": true,
    "slideshow": {
     "slide_type": ""
    },
    "tags": []
   },
   "outputs": [],
   "source": [
    "X_test_1 = data_archive['X_test_1']\n",
    "X_train_1 = data_archive['X_train_1']\n",
    "\n",
    "X_test_2 = data_archive['X_test_2']\n",
    "X_train_2 = data_archive['X_train_2']\n",
    "\n",
    "X_test_3 = data_archive['X_test_3']\n",
    "X_train_3 = data_archive['X_train_3']\n",
    "\n",
    "Y_test_1, timestamp_test_1 = prepare_Y(data_archive['Y_test_1'])\n",
    "Y_train_1, timestamp_train_1 = prepare_Y(data_archive['Y_train_1'])\n",
    "\n",
    "Y_test_2, timestamp_test_2 = prepare_Y(data_archive['Y_test_2'])\n",
    "Y_train_2, timestamp_train_2 = prepare_Y(data_archive['Y_train_2'])\n",
    "\n",
    "Y_test_3, timestamp_test_3 = prepare_Y(data_archive['Y_test_3'])\n",
    "Y_train_3, timestamp_train_3 = prepare_Y(data_archive['Y_train_3'])"
   ]
  },
  {
   "cell_type": "code",
   "execution_count": 100,
   "id": "59ff358b-cec6-4754-93f9-af21b93fb1ab",
   "metadata": {},
   "outputs": [
    {
     "data": {
      "text/plain": [
       "(57, 98)"
      ]
     },
     "execution_count": 100,
     "metadata": {},
     "output_type": "execute_result"
    }
   ],
   "source": [
    "X_train_1.shape"
   ]
  },
  {
   "cell_type": "code",
   "execution_count": 107,
   "id": "c9d7efb5-7456-4d1d-95d6-287f3b6b55e6",
   "metadata": {},
   "outputs": [],
   "source": [
    "class exp_layer(torch.nn.Module):\n",
    "    def __init__(self, size_in):\n",
    "        super().__init__()\n",
    "        self.size = size_in\n",
    "        self.weight = torch.nn.Parameter(torch.empty(size_in))\n",
    "        torch.nn.init.normal_(self.weight)\n",
    "\n",
    "    def forward(self, x):\n",
    "        return torch.exp(self.weight*x)\n",
    "        "
   ]
  },
  {
   "cell_type": "code",
   "execution_count": 136,
   "id": "1ce0b943-c7ab-483c-95ea-4bb09493157f",
   "metadata": {},
   "outputs": [],
   "source": [
    "class log_layer(torch.nn.Module):\n",
    "    def __init__(self):\n",
    "        super().__init__()\n",
    "\n",
    "    def forward(self, x):\n",
    "        return torch.log(torch.abs(x) + 1)\n",
    "        "
   ]
  },
  {
   "cell_type": "code",
   "execution_count": null,
   "id": "88e1be95-e728-4d96-ae9f-a5c6701a5e39",
   "metadata": {},
   "outputs": [],
   "source": [
    "# class inverse_layer(torch.nn.Module):\n",
    "#     def __init__(self, size_in):\n",
    "#         super().__init__()\n",
    "\n",
    "#     def forward(self, x):\n",
    "#         if torch.abs(x) > 0.0001:\n",
    "#             return 1 / x\n",
    "#         elif x >= 0:\n",
    "#             return 10000\n",
    "#         else:\n",
    "#             return -10000\n",
    "        "
   ]
  },
  {
   "cell_type": "code",
   "execution_count": 111,
   "id": "fbb98cc2-fee9-4604-9b82-774701fd7c9b",
   "metadata": {},
   "outputs": [],
   "source": [
    "class multiply_layer(torch.nn.Module):\n",
    "    def __init__(self, size_in):\n",
    "        super().__init__()\n",
    "\n",
    "    def forward(self, x1, x2):\n",
    "        return x1 * x2"
   ]
  },
  {
   "cell_type": "code",
   "execution_count": 112,
   "id": "ec3541dd-139c-49be-a5b9-e0605fa9f13f",
   "metadata": {},
   "outputs": [],
   "source": [
    "class pow_layer(torch.nn.Module):\n",
    "    def __init__(self, size_in):\n",
    "        super().__init__()\n",
    "        self.size = size_in\n",
    "        self.weight = torch.nn.Parameter(torch.empty(size_in))\n",
    "        torch.nn.init.normal_(self.weight)\n",
    "\n",
    "    def forward(self, x):\n",
    "        return torch.pow(torch.abs(x)+0.0001, self.weight)\n",
    "        "
   ]
  },
  {
   "cell_type": "code",
   "execution_count": 131,
   "id": "10e3d346-352d-472d-ad8f-c030af5007b6",
   "metadata": {},
   "outputs": [],
   "source": [
    "class const_layer(torch.nn.Module):\n",
    "    def __init__(self, size_in):\n",
    "        super().__init__()\n",
    "        self.size = size_in\n",
    "        self.weight = torch.nn.Parameter(torch.empty(size_in))\n",
    "        torch.nn.init.normal_(self.weight)\n",
    "\n",
    "    def forward(self, x):\n",
    "        return x + self.weight\n",
    "        "
   ]
  },
  {
   "cell_type": "code",
   "execution_count": 137,
   "id": "727cbb79-8133-4120-9cad-3d61b387f975",
   "metadata": {},
   "outputs": [],
   "source": [
    "class nonlinear_model(torch.nn.Module):\n",
    "    def __init__(self, size_data):\n",
    "        super().__init__()\n",
    "        self.exp = exp_layer(size_data)\n",
    "        self.log = torch.nn.Sequential(const_layer(size_data), log_layer())\n",
    "        self.pow = torch.nn.Sequential(const_layer(size_data), pow_layer(size_data))\n",
    "        self.final = torch.nn.Linear(4*size_data, 1)\n",
    "\n",
    "    def forward(self, x):\n",
    "        _exp = self.exp(x)\n",
    "        _log = self.log(x)\n",
    "        _pow = self.pow(x)\n",
    "        res = torch.cat((x, _exp, _log, _pow), dim=1)\n",
    "        return self.final(res)"
   ]
  },
  {
   "cell_type": "code",
   "execution_count": 109,
   "id": "094e7d61-97c9-4afc-824c-5e5c8becda27",
   "metadata": {},
   "outputs": [
    {
     "data": {
      "text/plain": [
       "Parameter containing:\n",
       "tensor([-0.9652, -0.5707], requires_grad=True)"
      ]
     },
     "execution_count": 109,
     "metadata": {},
     "output_type": "execute_result"
    }
   ],
   "source": [
    "model = nonlinear_model"
   ]
  },
  {
   "cell_type": "code",
   "execution_count": 110,
   "id": "876cc312-7d40-4e9e-a058-86debf6f985e",
   "metadata": {},
   "outputs": [
    {
     "data": {
      "text/plain": [
       "tensor([[1.0000, 0.5651],\n",
       "        [0.1451, 0.1805]], grad_fn=<ExpBackward0>)"
      ]
     },
     "execution_count": 110,
     "metadata": {},
     "output_type": "execute_result"
    }
   ],
   "source": [
    "model(torch.tensor([[0, 1], [2, 3]]))"
   ]
  },
  {
   "cell_type": "code",
   "execution_count": 84,
   "id": "3aaac719-b9d1-4595-965f-4c354312a20d",
   "metadata": {},
   "outputs": [],
   "source": [
    "criterion = torch.nn.MSELoss()\n",
    "optimizer = torch.optim.Adam(model.parameters(), lr=0.001)"
   ]
  },
  {
   "cell_type": "code",
   "execution_count": 86,
   "id": "7d532892-12f3-4808-b7f7-db85516cbd33",
   "metadata": {},
   "outputs": [],
   "source": [
    "x = torch.linspace(-10, 10, 1000)"
   ]
  },
  {
   "cell_type": "code",
   "execution_count": 88,
   "id": "bcdca943-3882-47a0-b6e9-cf1c1bade580",
   "metadata": {},
   "outputs": [],
   "source": [
    "y = -500 + torch.pow(2, x)"
   ]
  },
  {
   "cell_type": "code",
   "execution_count": 89,
   "id": "613d1e41-64fa-4ae8-9e4c-ba63bef5c316",
   "metadata": {
    "scrolled": true
   },
   "outputs": [
    {
     "name": "stdout",
     "output_type": "stream",
     "text": [
      "215444.484375\n",
      "215431.5625\n",
      "215418.75\n",
      "215406.0625\n",
      "215393.484375\n",
      "215380.984375\n",
      "215368.609375\n",
      "215356.3125\n",
      "215344.125\n",
      "215332.0625\n",
      "215320.109375\n",
      "215308.25\n",
      "215296.53125\n",
      "215284.875\n",
      "215273.359375\n",
      "215261.9375\n",
      "215250.640625\n",
      "215239.421875\n",
      "215228.34375\n",
      "215217.34375\n",
      "215206.46875\n",
      "215195.703125\n",
      "215185.046875\n",
      "215174.46875\n",
      "215164.03125\n",
      "215153.65625\n",
      "215143.421875\n",
      "215133.28125\n",
      "215123.265625\n",
      "215113.3125\n",
      "215103.484375\n",
      "215093.765625\n",
      "215084.109375\n",
      "215074.5625\n",
      "215065.140625\n",
      "215055.8125\n",
      "215046.578125\n",
      "215037.40625\n",
      "215028.375\n",
      "215019.421875\n",
      "215010.53125\n",
      "215001.75\n",
      "214993.0625\n",
      "214984.5\n",
      "214975.96875\n",
      "214967.515625\n",
      "214959.203125\n",
      "214950.9375\n",
      "214942.765625\n",
      "214934.671875\n",
      "214926.65625\n",
      "214918.75\n",
      "214910.890625\n",
      "214903.140625\n",
      "214895.4375\n",
      "214887.84375\n",
      "214880.296875\n",
      "214872.828125\n",
      "214865.40625\n",
      "214858.109375\n",
      "214850.859375\n",
      "214843.6875\n",
      "214836.59375\n",
      "214829.53125\n",
      "214822.59375\n",
      "214815.65625\n",
      "214808.828125\n",
      "214802.0625\n",
      "214795.359375\n",
      "214788.703125\n",
      "214782.125\n",
      "214775.578125\n",
      "214769.140625\n",
      "214762.71875\n",
      "214756.390625\n",
      "214750.109375\n",
      "214743.859375\n",
      "214737.71875\n",
      "214731.59375\n",
      "214725.546875\n",
      "214719.53125\n",
      "214713.578125\n",
      "214707.6875\n",
      "214701.84375\n",
      "214696.046875\n",
      "214690.3125\n",
      "214684.609375\n",
      "214678.953125\n",
      "214673.375\n",
      "214667.84375\n",
      "214662.34375\n",
      "214656.890625\n",
      "214651.5\n",
      "214646.140625\n",
      "214640.8125\n",
      "214635.546875\n",
      "214630.34375\n",
      "214625.15625\n",
      "214620.03125\n",
      "214614.921875\n",
      "214609.890625\n",
      "214604.875\n",
      "214599.921875\n",
      "214595.015625\n",
      "214590.109375\n",
      "214585.28125\n",
      "214580.46875\n",
      "214575.6875\n",
      "214570.953125\n",
      "214566.25\n",
      "214561.625\n",
      "214557.015625\n",
      "214552.4375\n",
      "214547.890625\n",
      "214543.375\n",
      "214538.875\n",
      "214534.46875\n",
      "214530.046875\n",
      "214525.6875\n",
      "214521.359375\n",
      "214517.046875\n",
      "214512.78125\n",
      "214508.53125\n",
      "214504.34375\n",
      "214500.140625\n",
      "214496.015625\n",
      "214491.90625\n",
      "214487.8125\n",
      "214483.75\n",
      "214479.75\n",
      "214475.75\n",
      "214471.78125\n",
      "214467.859375\n",
      "214463.953125\n",
      "214460.046875\n",
      "214456.203125\n",
      "214452.40625\n",
      "214448.59375\n",
      "214444.828125\n",
      "214441.09375\n",
      "214437.359375\n",
      "214433.703125\n",
      "214430.03125\n",
      "214426.40625\n",
      "214422.765625\n",
      "214419.171875\n",
      "214415.640625\n",
      "214412.109375\n",
      "214408.578125\n",
      "214405.078125\n",
      "214401.640625\n",
      "214398.1875\n",
      "214394.765625\n",
      "214391.359375\n",
      "214388.0\n",
      "214384.65625\n",
      "214381.328125\n",
      "214378.046875\n",
      "214374.734375\n",
      "214371.46875\n",
      "214368.21875\n",
      "214365.03125\n",
      "214361.8125\n",
      "214358.625\n",
      "214355.46875\n",
      "214352.34375\n",
      "214349.21875\n",
      "214346.109375\n",
      "214343.046875\n",
      "214339.984375\n",
      "214336.921875\n",
      "214333.90625\n",
      "214330.921875\n",
      "214327.953125\n",
      "214324.953125\n",
      "214322.03125\n",
      "214319.109375\n",
      "214316.203125\n",
      "214313.3125\n",
      "214310.4375\n",
      "214307.546875\n",
      "214304.71875\n",
      "214301.90625\n",
      "214299.09375\n",
      "214296.3125\n",
      "214293.53125\n",
      "214290.75\n",
      "214288.015625\n",
      "214285.3125\n",
      "214282.59375\n",
      "214279.921875\n",
      "214277.234375\n",
      "214274.578125\n",
      "214271.9375\n",
      "214269.296875\n",
      "214266.703125\n",
      "214264.09375\n",
      "214261.5\n",
      "214258.921875\n",
      "214256.390625\n",
      "214253.84375\n",
      "214251.296875\n",
      "214248.796875\n",
      "214246.296875\n",
      "214243.8125\n",
      "214241.34375\n",
      "214238.890625\n",
      "214236.4375\n",
      "214234.0\n",
      "214231.578125\n",
      "214229.171875\n",
      "214226.8125\n",
      "214224.390625\n",
      "214222.03125\n",
      "214219.703125\n",
      "214217.34375\n",
      "214215.015625\n",
      "214212.703125\n",
      "214210.390625\n",
      "214208.09375\n",
      "214205.8125\n",
      "214203.546875\n",
      "214201.296875\n",
      "214199.046875\n",
      "214196.796875\n",
      "214194.59375\n",
      "214192.375\n",
      "214190.15625\n",
      "214187.96875\n",
      "214185.828125\n",
      "214183.625\n",
      "214181.46875\n",
      "214179.328125\n",
      "214177.203125\n",
      "214175.0625\n",
      "214172.953125\n",
      "214170.84375\n",
      "214168.765625\n",
      "214166.6875\n",
      "214164.609375\n",
      "214162.546875\n",
      "214160.484375\n",
      "214158.453125\n",
      "214156.421875\n",
      "214154.390625\n",
      "214152.375\n",
      "214150.375\n",
      "214148.359375\n",
      "214146.390625\n",
      "214144.40625\n",
      "214142.4375\n",
      "214140.484375\n",
      "214138.53125\n",
      "214136.578125\n",
      "214134.65625\n",
      "214132.71875\n",
      "214130.828125\n",
      "214128.90625\n",
      "214127.015625\n",
      "214125.125\n",
      "214123.234375\n",
      "214121.375\n",
      "214119.484375\n",
      "214117.625\n",
      "214115.78125\n",
      "214113.96875\n",
      "214112.140625\n",
      "214110.296875\n",
      "214108.484375\n",
      "214106.65625\n",
      "214104.859375\n",
      "214103.09375\n",
      "214101.3125\n",
      "214099.515625\n",
      "214097.734375\n",
      "214095.984375\n",
      "214094.21875\n",
      "214092.46875\n",
      "214090.75\n",
      "214089.015625\n",
      "214087.265625\n",
      "214085.546875\n",
      "214083.84375\n",
      "214082.109375\n",
      "214080.453125\n",
      "214078.734375\n",
      "214077.0625\n",
      "214075.375\n",
      "214073.703125\n",
      "214072.03125\n",
      "214070.390625\n",
      "214068.734375\n",
      "214067.0625\n",
      "214065.421875\n",
      "214063.8125\n",
      "214062.171875\n",
      "214060.5625\n",
      "214058.921875\n",
      "214057.34375\n",
      "214055.75\n",
      "214054.140625\n",
      "214052.546875\n",
      "214050.96875\n",
      "214049.375\n",
      "214047.828125\n",
      "214046.25\n",
      "214044.6875\n",
      "214043.140625\n",
      "214041.5625\n",
      "214040.03125\n",
      "214038.5\n",
      "214036.9375\n",
      "214035.421875\n",
      "214033.90625\n",
      "214032.421875\n",
      "214030.875\n",
      "214029.375\n",
      "214027.875\n",
      "214026.375\n",
      "214024.875\n",
      "214023.390625\n",
      "214021.921875\n",
      "214020.4375\n",
      "214018.96875\n",
      "214017.5\n",
      "214016.03125\n",
      "214014.578125\n",
      "214013.125\n",
      "214011.6875\n",
      "214010.234375\n",
      "214008.8125\n",
      "214007.375\n",
      "214005.953125\n",
      "214004.546875\n",
      "214003.125\n",
      "214001.703125\n",
      "214000.28125\n",
      "213998.875\n",
      "213997.484375\n",
      "213996.09375\n",
      "213994.6875\n",
      "213993.28125\n",
      "213991.921875\n",
      "213990.5625\n",
      "213989.1875\n",
      "213987.8125\n",
      "213986.4375\n",
      "213985.078125\n",
      "213983.71875\n",
      "213982.375\n",
      "213981.03125\n",
      "213979.65625\n",
      "213978.34375\n",
      "213976.984375\n",
      "213975.640625\n",
      "213974.34375\n",
      "213973.015625\n",
      "213971.6875\n",
      "213970.375\n",
      "213969.0625\n",
      "213967.75\n",
      "213966.4375\n",
      "213965.140625\n",
      "213963.828125\n",
      "213962.53125\n",
      "213961.234375\n",
      "213959.953125\n",
      "213958.671875\n",
      "213957.390625\n",
      "213956.109375\n",
      "213954.828125\n",
      "213953.546875\n",
      "213952.28125\n",
      "213951.046875\n",
      "213949.78125\n",
      "213948.515625\n",
      "213947.25\n",
      "213946.015625\n",
      "213944.765625\n",
      "213943.5\n",
      "213942.25\n",
      "213941.03125\n",
      "213939.796875\n",
      "213938.578125\n",
      "213937.34375\n",
      "213936.09375\n",
      "213934.875\n",
      "213933.65625\n",
      "213932.453125\n",
      "213931.25\n",
      "213930.015625\n",
      "213928.828125\n",
      "213927.625\n",
      "213926.421875\n",
      "213925.234375\n",
      "213924.015625\n",
      "213922.8125\n",
      "213921.625\n",
      "213920.46875\n",
      "213919.265625\n",
      "213918.0625\n",
      "213916.890625\n",
      "213915.71875\n",
      "213914.546875\n",
      "213913.390625\n",
      "213912.203125\n",
      "213911.046875\n",
      "213909.890625\n",
      "213908.71875\n",
      "213907.546875\n",
      "213906.40625\n",
      "213905.25\n",
      "213904.09375\n",
      "213902.953125\n",
      "213901.8125\n",
      "213900.671875\n",
      "213899.515625\n",
      "213898.390625\n",
      "213897.25\n",
      "213896.109375\n",
      "213894.96875\n",
      "213893.859375\n",
      "213892.71875\n",
      "213891.578125\n",
      "213890.46875\n",
      "213889.359375\n",
      "213888.21875\n",
      "213887.125\n",
      "213886.0\n",
      "213884.875\n",
      "213883.796875\n",
      "213882.6875\n",
      "213881.578125\n",
      "213880.484375\n",
      "213879.390625\n",
      "213878.265625\n",
      "213877.1875\n",
      "213876.09375\n",
      "213875.015625\n",
      "213873.90625\n",
      "213872.796875\n",
      "213871.71875\n",
      "213870.65625\n",
      "213869.5625\n",
      "213868.484375\n",
      "213867.40625\n",
      "213866.3125\n",
      "213865.265625\n",
      "213864.171875\n",
      "213863.109375\n",
      "213862.046875\n",
      "213860.984375\n",
      "213859.90625\n",
      "213858.84375\n",
      "213857.796875\n",
      "213856.71875\n",
      "213855.65625\n",
      "213854.609375\n",
      "213853.53125\n",
      "213852.515625\n",
      "213851.4375\n",
      "213850.40625\n",
      "213849.34375\n",
      "213848.3125\n",
      "213847.265625\n",
      "213846.203125\n",
      "213845.171875\n",
      "213844.140625\n",
      "213843.109375\n",
      "213842.046875\n",
      "213841.046875\n",
      "213840.0\n",
      "213838.953125\n",
      "213837.9375\n",
      "213836.90625\n",
      "213835.890625\n",
      "213834.859375\n",
      "213833.84375\n",
      "213832.8125\n",
      "213831.78125\n",
      "213830.765625\n",
      "213829.75\n",
      "213828.71875\n",
      "213827.75\n",
      "213826.71875\n",
      "213825.71875\n",
      "213824.6875\n",
      "213823.6875\n",
      "213822.671875\n",
      "213821.65625\n",
      "213820.640625\n",
      "213819.6875\n",
      "213818.65625\n",
      "213817.640625\n",
      "213816.640625\n",
      "213815.6875\n",
      "213814.65625\n",
      "213813.65625\n",
      "213812.640625\n",
      "213811.640625\n"
     ]
    }
   ],
   "source": [
    "for i in range(500):\n",
    "    optimizer.zero_grad()\n",
    "    Y_pred = model(x)\n",
    "    loss = criterion(Y_pred, y)\n",
    "    loss.backward()\n",
    "    optimizer.step()\n",
    "    print(loss.item())"
   ]
  },
  {
   "cell_type": "code",
   "execution_count": 90,
   "id": "59d6e632-7845-4f14-b8b8-f1076cf82f35",
   "metadata": {},
   "outputs": [
    {
     "data": {
      "image/png": "[encoded data removed]",
      "text/plain": [
       "<Figure size 640x480 with 1 Axes>"
      ]
     },
     "metadata": {},
     "output_type": "display_data"
    }
   ],
   "source": [
    "plt.plot(x, model(x).detach().numpy())\n",
    "plt.plot(x, y)\n",
    "plt.show()"
   ]
  },
  {
   "cell_type": "code",
   "execution_count": 43,
   "id": "ca876d05-1794-49a3-9802-b68d21fae753",
   "metadata": {},
   "outputs": [
    {
     "data": {
      "text/plain": [
       "Parameter containing:\n",
       "tensor([0.5803], requires_grad=True)"
      ]
     },
     "execution_count": 43,
     "metadata": {},
     "output_type": "execute_result"
    }
   ],
   "source": [
    "plt.plot(x, y)"
   ]
  },
  {
   "cell_type": "code",
   "execution_count": 79,
   "id": "7f9a68a4-c770-420b-bcbc-26c5248a0896",
   "metadata": {},
   "outputs": [
    {
     "data": {
      "text/plain": [
       "Parameter containing:\n",
       "tensor([-0.1091], requires_grad=True)"
      ]
     },
     "execution_count": 79,
     "metadata": {},
     "output_type": "execute_result"
    }
   ],
   "source": [
    "model.layer.bias"
   ]
  },
  {
   "cell_type": "code",
   "execution_count": 11,
   "id": "8f2f7ce0-2c5c-4a86-af22-b0842e00bc9d",
   "metadata": {},
   "outputs": [
    {
     "data": {
      "text/plain": [
       "(74, 98)"
      ]
     },
     "execution_count": 11,
     "metadata": {},
     "output_type": "execute_result"
    }
   ],
   "source": [
    "X_test_1.shape"
   ]
  },
  {
   "cell_type": "code",
   "execution_count": null,
   "id": "19138c3d-d18f-48ea-972b-71978f92afb6",
   "metadata": {},
   "outputs": [],
   "source": []
  },
  {
   "cell_type": "code",
   "execution_count": null,
   "id": "bbaf70ea-9dc0-4d7a-a6de-2215285bd6ab",
   "metadata": {},
   "outputs": [],
   "source": []
  },
  {
   "cell_type": "code",
   "execution_count": 152,
   "id": "034794af-eb1d-4d01-ab60-488029685820",
   "metadata": {
    "editable": true,
    "slideshow": {
     "slide_type": ""
    },
    "tags": []
   },
   "outputs": [],
   "source": [
    "class TestSoftSensor(Essentials.SoftSensor):\n",
    "    def __init__(self, x_train, y_train):\n",
    "        super().__init__('Test')\n",
    "        self.x_scaler = StandardScaler() \n",
    "        self.y_scaler = StandardScaler()\n",
    "        self.deleted_rows = None\n",
    "        self.data_size = x_train.shape[1]\n",
    "        self.fit_scaler(x_train, y_train)\n",
    "        self.set_model(nonlinear_model(self.data_size))\n",
    "\n",
    "        self.criterion = torch.nn.MSELoss()\n",
    "        self.optimizer = torch.optim.Adam(model.parameters(), lr=0.001)\n",
    "        \n",
    "        self.train(x_train, y_train)\n",
    "\n",
    "    def prepocessing(self, x):\n",
    "        try:\n",
    "            trunc_x = np.delete(x, self.deleted_rows, 1)\n",
    "            return torch.tensor(self.x_scaler.transform(trunc_x), dtype=torch.float32)\n",
    "        except:\n",
    "            try:\n",
    "               return torch.tensor(self.y_scaler.transform(x), dtype=torch.float32)\n",
    "            except BaseException as err:\n",
    "                print(\"Ошибка скейлера\")\n",
    "                raise err\n",
    "            \n",
    "    def fit_scaler(self, x_train, y_train):\n",
    "        self.x_scaler.fit(x_train)\n",
    "        tmp = self.x_scaler.var_ < 0.01\n",
    "        self.deleted_rows = [i for i, x in enumerate(tmp) if x]\n",
    "        trunc_x = np.delete(x_train, self.deleted_rows, 1)\n",
    "        self.x_scaler.fit(trunc_x)\n",
    "        self.data_size = trunc_x.shape[1]\n",
    "        \n",
    "        self.y_scaler.fit(y_train)\n",
    "    \n",
    "    def postprocessing(self, x):\n",
    "        try:\n",
    "            x_post = x.detach().numpy()\n",
    "            return self.x_scaler.inverse_transform(x_post)\n",
    "        except:\n",
    "            try:\n",
    "                x_post = x.detach().numpy()\n",
    "                return self.y_scaler.inverse_transform(x_post)\n",
    "            except BaseException as err:\n",
    "                print(\"Ошибка скейлера\")\n",
    "                raise err\n",
    "\n",
    "    def evaluate_model(self, x):\n",
    "        model = self.get_model()\n",
    "        return model(x)\n",
    "\n",
    "\n",
    "    def train(self, x_train, y_train):\n",
    "        preproc_y = self.prepocessing(y_train)\n",
    "        preproc_x = self.prepocessing(x_train)\n",
    "        model = self.get_model()\n",
    "        for i in range(1000):\n",
    "            optimizer.zero_grad()\n",
    "            Y_pred = model(preproc_x)\n",
    "            loss = criterion(Y_pred, preproc_y)\n",
    "            loss.backward()\n",
    "            optimizer.step()\n",
    "            \n",
    "        self.set_model(model)\n",
    "\n",
    "\n",
    "    def __str__(self):\n",
    "        pass"
   ]
  },
  {
   "cell_type": "markdown",
   "id": "6bc735e5-4331-41a7-9cae-040bba9ef0f6",
   "metadata": {},
   "source": [
    "Создаём экземпляр класса с нашим алгоритмом. Имеет смысл создать по экземпляру на каждый из рассматриваемых наборов данных, данные необходимые для создания определяются в методе __init__(), там же определяется некоторые опреации, выполняемые автоматически при создании (в данном случае имя железно прописано, не делайте так, + сразу оюучаются функции для предобработки)"
   ]
  },
  {
   "cell_type": "code",
   "execution_count": 153,
   "id": "6880aa9f-2389-4ddf-85f2-a8f62be47dc3",
   "metadata": {
    "editable": true,
    "slideshow": {
     "slide_type": ""
    },
    "tags": []
   },
   "outputs": [],
   "source": [
    "Test_sensor_1 = TestSoftSensor(X_train_1, Y_train_1)"
   ]
  },
  {
   "cell_type": "markdown",
   "id": "e08755fa-2920-45c7-8548-ba33a71d435a",
   "metadata": {},
   "source": [
    "Пример работы метода __str__. Функция print() выдаёт нужную строку, полезно для тестирования и наглядности"
   ]
  },
  {
   "cell_type": "code",
   "execution_count": 144,
   "id": "06d778a4-61a1-4b63-aece-f1fdc45c5383",
   "metadata": {
    "editable": true,
    "slideshow": {
     "slide_type": ""
    },
    "tags": []
   },
   "outputs": [
    {
     "ename": "TypeError",
     "evalue": "__str__ returned non-string (type NoneType)",
     "output_type": "error",
     "traceback": [
      "\u001b[1;31m---------------------------------------------------------------------------\u001b[0m",
      "\u001b[1;31mTypeError\u001b[0m                                 Traceback (most recent call last)",
      "Cell \u001b[1;32mIn[144], line 1\u001b[0m\n\u001b[1;32m----> 1\u001b[0m \u001b[38;5;28;43mprint\u001b[39;49m\u001b[43m(\u001b[49m\u001b[43mTest_sensor_1\u001b[49m\u001b[43m)\u001b[49m\n",
      "\u001b[1;31mTypeError\u001b[0m: __str__ returned non-string (type NoneType)"
     ]
    }
   ],
   "source": [
    "print(Test_sensor_1)"
   ]
  },
  {
   "cell_type": "markdown",
   "id": "6062abfc-920d-42de-8f72-a2ab0e9a27e2",
   "metadata": {},
   "source": [
    "Создание экземпляра метрики, достаточно одного для тестирования"
   ]
  },
  {
   "cell_type": "code",
   "execution_count": 154,
   "id": "a7b09359-82c3-4e4e-be6f-7f8534041b69",
   "metadata": {},
   "outputs": [],
   "source": [
    "metric = Essentials.R2Metric()"
   ]
  },
  {
   "cell_type": "markdown",
   "id": "86b53a9d-142d-47e4-b909-acbbe57e07b5",
   "metadata": {},
   "source": [
    "Визуализация работы алгоритма, для этого необходимо создать экземпляр класса Visualizer из Essentials.py. При создании такого экземпляра необходимо задать тестовые значения и метки X (их мы загрузили заранее), необходимо создать такой экземпляр для каждого из набора данных"
   ]
  },
  {
   "cell_type": "code",
   "execution_count": 155,
   "id": "1e1a93af-4683-4a4f-81d6-145da6f2a13a",
   "metadata": {
    "editable": true,
    "slideshow": {
     "slide_type": ""
    },
    "tags": []
   },
   "outputs": [],
   "source": [
    "test_visual = Essentials.Visualizer(X_train_1, Y_train_1, timestamp_train_1, [metric], 'Test SoftSensor R2 metric')"
   ]
  },
  {
   "cell_type": "code",
   "execution_count": 156,
   "id": "51589a95-805d-4a53-b1a1-476893091791",
   "metadata": {
    "editable": true,
    "scrolled": true,
    "slideshow": {
     "slide_type": ""
    },
    "tags": []
   },
   "outputs": [
    {
     "name": "stdout",
     "output_type": "stream",
     "text": [
      "      Coefficient of determination\n",
      "Test                  -29464.39714\n"
     ]
    },
    {
     "data": {
      "image/png": "[encoded data removed]",
      "text/plain": [
       "<Figure size 640x480 with 1 Axes>"
      ]
     },
     "metadata": {},
     "output_type": "display_data"
    }
   ],
   "source": [
    "test_visual.visualize([Test_sensor_1])"
   ]
  },
  {
   "cell_type": "markdown",
   "id": "f49e89ef-91ca-4216-9f54-3a3e11020373",
   "metadata": {
    "editable": true,
    "slideshow": {
     "slide_type": ""
    },
    "tags": []
   },
   "source": [
    "На выходе получаем ожидаемую картинку. Тестовая модель выдаёт постоянные значения для любых Х. Значение метрики ожидаемо близко к 0 так как коэффициент детерминации сравнивает качество работы как раз со моделью среднего значения"
   ]
  },
  {
   "cell_type": "markdown",
   "id": "0a67c110-195e-492f-928e-12a2d4ee227f",
   "metadata": {},
   "source": [
    "На практике при работе в IDE рекомендуется сверху описать все необходимые классы, а тестирование производить нижу внутри конструкции \n",
    "\n",
    "if __name__ == '__main__':\n",
    "\n",
    "\n",
    "Это точка входа в программу, которая выполняется только если запускается именно ваш файл и игнорируется, если файл импортируется. Это поможет нам избежать конфликтов и ненужных операции при импортировании моделей. Если ваша модель долго обучается, то имеет смысл описать методы save() и load() для загрузки заранее обученной модели."
   ]
  },
  {
   "cell_type": "code",
   "execution_count": 151,
   "id": "e2c0fbd1-de93-437f-a860-0008b5edf042",
   "metadata": {},
   "outputs": [
    {
     "data": {
      "text/plain": [
       "array([3.00462347e+02, 1.55950207e-03, 3.94503446e+01, 5.58008691e+00,\n",
       "       2.30999965e+02, 7.11480743e-01, 2.51490076e+04, 5.58975547e+00,\n",
       "       3.98301016e-03, 1.69586990e+01, 5.58975547e+00, 4.63078554e-03,\n",
       "       2.95180338e+01, 4.94629296e+01, 1.61315276e-03, 1.93086235e+01,\n",
       "       7.68904095e+01, 4.19002499e+01, 1.01155090e-02, 1.20878616e+02,\n",
       "       4.99458977e-01, 3.04369058e+01, 3.11909989e-03, 7.58029350e+00,\n",
       "       4.27296775e-02, 5.10126292e+01, 8.85878601e+01, 3.51763070e+00,\n",
       "       5.34959779e+00, 5.79827072e-01, 1.83514535e+01, 9.32731244e+01,\n",
       "       3.07577023e+02, 5.60454945e-01, 4.52907151e-02, 7.09471025e+01,\n",
       "       5.35276872e-02, 4.98517299e-01, 8.89221389e+03, 2.52263756e+01,\n",
       "       2.74289473e+01, 9.10188476e+00, 6.90207899e+01, 3.32084989e+01,\n",
       "       4.94629296e+01, 1.91853086e+02, 6.60160076e+01, 8.24398328e-02,\n",
       "       4.28574433e-03, 1.55062963e+00, 4.94833333e-02, 1.27689487e+02,\n",
       "       4.89328528e-02, 1.26555909e+02, 1.48022280e-02, 1.66764039e+02,\n",
       "       7.82910436e-01, 1.68553690e+01, 6.18594080e+01, 2.43379881e+01,\n",
       "       1.37255547e+01, 2.95166820e+00, 1.43060118e+01, 3.65144010e-02,\n",
       "       2.81418928e+00, 2.20152140e+02, 1.61912583e+00, 3.14546073e+00,\n",
       "       3.77282617e-02, 1.58890434e+01, 1.01306437e+00, 1.37366431e+05,\n",
       "       9.63899499e+01, 4.82140419e-02, 9.75438583e-01, 2.02803777e-01,\n",
       "       7.32500344e+01, 1.01395434e+01, 1.79919619e+00, 4.52674532e-02,\n",
       "       9.37071065e-03, 9.80162370e+00, 3.48704526e-01, 1.51338779e+01,\n",
       "       6.93640209e+00, 1.20515289e+00, 3.03790192e-02, 3.07577023e+02,\n",
       "       9.99956443e+00, 3.50070728e+00, 2.75599654e+00])"
      ]
     },
     "execution_count": 151,
     "metadata": {},
     "output_type": "execute_result"
    }
   ],
   "source": [
    "Test_sensor_1.x_scaler.var_"
   ]
  },
  {
   "cell_type": "code",
   "execution_count": 124,
   "id": "a4787fad-05e4-4793-ac3a-1e66372e4401",
   "metadata": {},
   "outputs": [],
   "source": [
    "arr = [True, False, True, False]"
   ]
  },
  {
   "cell_type": "code",
   "execution_count": 125,
   "id": "98c5c7a5-44e6-4fa6-8fef-f1c89adb7362",
   "metadata": {},
   "outputs": [],
   "source": [
    "b = [i for i, x in enumerate(arr) if x]"
   ]
  },
  {
   "cell_type": "code",
   "execution_count": 126,
   "id": "e24c6677-a855-4dab-bfdd-f5b3b035a421",
   "metadata": {},
   "outputs": [
    {
     "data": {
      "text/plain": [
       "array([[1., 3.],\n",
       "       [1., 3.]])"
      ]
     },
     "execution_count": 126,
     "metadata": {},
     "output_type": "execute_result"
    }
   ],
   "source": [
    "np.delete(a, b, 1)"
   ]
  },
  {
   "cell_type": "code",
   "execution_count": null,
   "id": "4adb664f-1005-4bff-8e13-446cf959fd3a",
   "metadata": {},
   "outputs": [],
   "source": []
  }
 ],
 "metadata": {
  "kernelspec": {
   "display_name": "Python 3 (ipykernel)",
   "language": "python",
   "name": "python3"
  },
  "language_info": {
   "codemirror_mode": {
    "name": "ipython",
    "version": 3
   },
   "file_extension": ".py",
   "mimetype": "text/x-python",
   "name": "python",
   "nbconvert_exporter": "python",
   "pygments_lexer": "ipython3",
   "version": "3.10.7"
  }
 },
 "nbformat": 4,
 "nbformat_minor": 5
}
