{
 "cells": [
  {
   "cell_type": "code",
   "execution_count": null,
   "id": "a87558e7-115c-4bbe-9e4f-89e04dc1415a",
   "metadata": {},
   "outputs": [],
   "source": [
    "import seaborn\n",
    "import matplotlib.pyplot as plt\n",
    "import numpy as np\n",
    "import pandas as pd\n",
    "\n",
    "from collections import Counter"
   ]
  },
  {
   "cell_type": "code",
   "execution_count": null,
   "id": "08b2404b-c502-430f-96b6-62e1224fbf63",
   "metadata": {},
   "outputs": [],
   "source": [
    "def load_file(path) -> pd.DataFrame:\n",
    "    df = pd.read_excel(path, header=0)\n",
    "    df['DateTime']= pd.to_datetime(df['Date'].astype(str)+' '+ df['Time'].astype(str))\n",
    "    df = df.drop(['Date', 'Time'], axis=1)\n",
    "    return df\n",
    "\n",
    "\n",
    "def plot_timedelta_distr(df: pd.DataFrame):\n",
    "    delta_arr = []\n",
    "    for i in range(1, len(df)):\n",
    "        delta_arr.append(df.iloc[i, -1] - df.iloc[i-1, -1])\n",
    "    print(Counter(delta_arr), '\\n')\n",
    "    hist_arr = [i.total_seconds()/60 for i in delta_arr]\n",
    "    plt.hist(hist_arr)\n",
    "    plt.show()\n",
    "\n",
    "\n",
    "def construct_XY(df_X: pd.DataFrame, df_Y: pd.DataFrame, max_diff: pd.Timedelta, diff2: pd.Timedelta):\n",
    "    num = 0\n",
    "    Y = df_Y.iloc[num,:-1].to_numpy()\n",
    "    X = np.array([],).reshape(0, len(df_X.columns)-1)\n",
    "    for i in range(len(df_X)):\n",
    "        timeX = df_X.iloc[i, -1]\n",
    "        timeY = df_Y.iloc[num, -1]\n",
    "        if timeX > timeY:\n",
    "            if timeX - timeY < diff2:\n",
    "                tmp_X = df_X.iloc[i, :-1].to_numpy()\n",
    "                X = np.vstack((X, tmp_X))\n",
    "            yield X, Y\n",
    "            num += 1            \n",
    "            if num >= len(df_Y):\n",
    "                break\n",
    "            \n",
    "            X = np.array([],).reshape(0, len(df_X.columns)-1)\n",
    "            Y = df_Y.iloc[num,:-1].to_numpy()\n",
    "            continue\n",
    "        if timeY - timeX > max_diff:\n",
    "            continue\n",
    "        tmp_X = df_X.iloc[i, :-1].to_numpy()\n",
    "        X = np.vstack((X, tmp_X))\n",
    "\n",
    "\n",
    "def plot_num_distr(gen):\n",
    "    shapes = []\n",
    "    i = 0\n",
    "    for x, y in gen:\n",
    "        i += 1\n",
    "        shapes.append(len(x))\n",
    "    print(f\"Количество точек {i} \\n\")\n",
    "    print(f'Распределение количества примеров \\n {Counter(shapes)} \\n')\n",
    "    plt.hist(shapes)\n",
    "    plt.plot()"
   ]
  },
  {
   "cell_type": "code",
   "execution_count": null,
   "id": "f392aa55-3bef-4cec-a1cd-62c2c19ff03d",
   "metadata": {},
   "outputs": [],
   "source": [
    "df_Y1 = load_file('Лабораторные анализы Давление насыщенных паров в продукте, зимний период.xlsx')\n",
    "df_Y2 = load_file('Лабораторные анализы Конец кипения легкого бензина.xlsx')\n",
    "df_Y3 = load_file('Лабораторные анализы Содержание олефинов в продукте.xlsx')\n",
    "\n",
    "df_X1 = load_file('Процессные данные Давление насыщенных паров в продукте, зимний период.xlsx')\n",
    "df_X2 = load_file('Процессные данные Конец кипения легкого бензина.xlsx')\n",
    "df_X3 = load_file('Процессные данные Содержание олефинов в продукте.xlsx')"
   ]
  },
  {
   "cell_type": "code",
   "execution_count": null,
   "id": "f33ed161-e80d-4be0-9dc9-16198db0db77",
   "metadata": {},
   "outputs": [],
   "source": [
    "print(df_Y1.isnull().any().any())\n",
    "print(df_Y2.isnull().any().any())\n",
    "print(df_Y3.isnull().any().any())\n",
    "\n",
    "print(df_X1.isnull().any().any())\n",
    "print(df_X2.isnull().any().any())\n",
    "print(df_X3.isnull().any().any())"
   ]
  },
  {
   "cell_type": "code",
   "execution_count": null,
   "id": "e906deaa-efc1-4eed-bab4-b4f6336142a4",
   "metadata": {},
   "outputs": [],
   "source": [
    "df_Y1"
   ]
  },
  {
   "cell_type": "code",
   "execution_count": null,
   "id": "617c9065-4316-4f6b-88ae-f715cf8d2b6d",
   "metadata": {},
   "outputs": [],
   "source": [
    "df_X1"
   ]
  },
  {
   "cell_type": "code",
   "execution_count": null,
   "id": "740c9f04-e837-4b15-8fc3-2dc985145c54",
   "metadata": {},
   "outputs": [],
   "source": [
    "plot_timedelta_distr(df_X1)"
   ]
  },
  {
   "cell_type": "code",
   "execution_count": null,
   "id": "418b2520-805b-42cb-99dd-2061d8011449",
   "metadata": {},
   "outputs": [],
   "source": [
    "diff = pd.to_timedelta('3.5h')\n",
    "diff2 = pd.to_timedelta('0.5h')\n",
    "gen_1 = construct_XY(df_X1, df_Y1, diff, diff2)\n",
    "gen_2 = construct_XY(df_X2, df_Y2, diff, diff2)\n",
    "gen_3 = construct_XY(df_X3, df_Y3, diff, diff2)"
   ]
  },
  {
   "cell_type": "code",
   "execution_count": null,
   "id": "c5ee7e0d-0338-42bb-a9aa-d674c6db4ba8",
   "metadata": {},
   "outputs": [],
   "source": [
    "plot_num_distr(construct_XY(df_X1, df_Y1, diff, diff2))"
   ]
  },
  {
   "cell_type": "code",
   "execution_count": null,
   "id": "f984fd45-4b1c-40eb-b09f-ed7937d9e939",
   "metadata": {},
   "outputs": [],
   "source": [
    "plot_num_distr(construct_XY(df_X2, df_Y2, diff, diff2))"
   ]
  },
  {
   "cell_type": "code",
   "execution_count": null,
   "id": "bec9f9d2-3a4b-42d2-b4d2-409338efbde6",
   "metadata": {},
   "outputs": [],
   "source": [
    "plot_num_distr(construct_XY(df_X3, df_Y3, diff, diff2))"
   ]
  }
 ],
 "metadata": {
  "kernelspec": {
   "display_name": "Python 3 (ipykernel)",
   "language": "python",
   "name": "python3"
  },
  "language_info": {
   "codemirror_mode": {
    "name": "ipython",
    "version": 3
   },
   "file_extension": ".py",
   "mimetype": "text/x-python",
   "name": "python",
   "nbconvert_exporter": "python",
   "pygments_lexer": "ipython3",
   "version": "3.10.7"
  }
 },
 "nbformat": 4,
 "nbformat_minor": 5
}
