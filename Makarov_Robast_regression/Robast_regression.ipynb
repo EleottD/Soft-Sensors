{
 "cells": [
  {
   "cell_type": "code",
   "execution_count": 100,
   "id": "ef4eb98b-798a-4e71-b982-a86c4aa12ba5",
   "metadata": {
    "editable": true,
    "slideshow": {
     "slide_type": ""
    },
    "tags": []
   },
   "outputs": [],
   "source": [
    "import sys\n",
    "sys.path.append(\"..\")\n",
    "\n",
    "import Essentials\n"
   ]
  },
  {
   "cell_type": "code",
   "execution_count": 101,
   "id": "ddfd73aa-5dd4-4f6d-9b27-79e640a9f3bc",
   "metadata": {},
   "outputs": [],
   "source": [
    "import numpy as np\n",
    "from sklearn.linear_model import HuberRegressor\n",
    "from sklearn.preprocessing import StandardScaler\n",
    "import Essentials\n",
    "import pandas as pd\n",
    "from sklearn.cross_decomposition import PLSRegression\n",
    "from sklearn.preprocessing import StandardScaler\n",
    "from sklearn.model_selection import cross_val_score, train_test_split\n",
    "from sklearn.metrics import r2_score\n",
    "from abc import ABC, abstractmethod"
   ]
  },
  {
   "cell_type": "code",
   "execution_count": 102,
   "id": "abe1e9e4-447a-4089-954e-50325ebc8d6d",
   "metadata": {},
   "outputs": [],
   "source": [
    "# Загрузка данных\n",
    "data_archive = np.load('C:\\\\Users\\\\misha\\\\Makarov\\\\Data_Average.npz', allow_pickle=True)\n",
    "\n"
   ]
  },
  {
   "cell_type": "code",
   "execution_count": 103,
   "id": "a43a83d0",
   "metadata": {},
   "outputs": [],
   "source": [
    "def prepare_Y(y):\n",
    "    timestamp = y[:, 1]   \n",
    "    y = y[:, 0].reshape(len(y), 1)\n",
    "    y = y.astype(np.float64)\n",
    "\n",
    "    return y, timestamp\n",
    "ALL_column_names_1 = data_archive['column_names_1'] \n",
    "all_X_1 = data_archive['all_X_1']\n",
    "all_Y_1 = data_archive['all_Y_1']\n",
    "\n",
    "ALL_column_names_2 = data_archive['column_names_2_cat'] \n",
    "all_X_2 = data_archive['all_X_2']\n",
    "all_Y_2 = data_archive['all_Y_2']\n",
    "\n",
    "ALL_column_names_3 = data_archive['column_names_3_cat']\n",
    "all_X_3 = data_archive['all_X_3']\n",
    "all_Y_3 = data_archive['all_Y_3']\n",
    "x_train, x_test, y_train, y_test = train_test_split(all_X_1, all_Y_1, test_size=0.3, random_state=42)\n",
    "y_train, timestamp_train = prepare_Y(y_train)\n",
    "y_test, timestamp_test = prepare_Y(y_test)\n"
   ]
  },
  {
   "cell_type": "code",
   "execution_count": 104,
   "id": "034794af-eb1d-4d01-ab60-488029685820",
   "metadata": {
    "editable": true,
    "slideshow": {
     "slide_type": ""
    },
    "tags": []
   },
   "outputs": [],
   "source": [
    "class RobustLinearSoftSensor(Essentials.SoftSensor):\n",
    "    def __init__(self, name, x_train, y_train, column_names):\n",
    "        super().__init__(name)\n",
    "        self.name = name\n",
    "        self.column_names = column_names  # Добавляем список названий признаков\n",
    "        self.train(x_train, y_train)  \n",
    "\n",
    "    def preprocessing(self, x):\n",
    "        return x\n",
    "\n",
    "    def postprocessing(self, pred_values):\n",
    "        if pred_values.ndim == 1:\n",
    "            pred_values = pred_values.reshape(-1, 1)\n",
    "        return pred_values\n",
    "\n",
    "    def evaluate_model(self, x):\n",
    "        if self.get_model() is None:\n",
    "            raise ValueError(\"Model is not trained yet.\")\n",
    "        return self.get_model().predict(x)\n",
    "\n",
    "    def train(self, x_train, y_train):\n",
    "        self.set_model(HuberRegressor())\n",
    "        self.get_model().fit(x_train, y_train)\n",
    "        self.r2_score = self.get_model().score(x_train, y_train)\n",
    "        self.coefficients = self.get_model().coef_\n",
    "\n",
    "    def __str__(self):\n",
    "        if self.get_model() is not None:\n",
    "            # Форматирование названий признаков и коэффициентов для вывода\n",
    "            max_len = max(len(name) for name in self.column_names)\n",
    "            coefs_str = \"\\n\".join(\n",
    "                [f\"{name.ljust(max_len)}: {coef:.4f}\" for name, coef in zip(self.column_names, self.coefficients)]\n",
    "            )\n",
    "            \n",
    "            return (f\"Robust Linear Soft Sensor '{self.name}':\\n\"\n",
    "                    f\"Коэффициенты:\\n{coefs_str}\\n\"\n",
    "                    f\"R^2 score: {self.r2_score:.4f}\")\n",
    "        else:\n",
    "            return \"Robust Linear Soft Sensor Model has not been trained yet.\""
   ]
  },
  {
   "cell_type": "code",
   "execution_count": 105,
   "id": "06d778a4-61a1-4b63-aece-f1fdc45c5383",
   "metadata": {
    "editable": true,
    "slideshow": {
     "slide_type": ""
    },
    "tags": []
   },
   "outputs": [
    {
     "name": "stderr",
     "output_type": "stream",
     "text": [
      "c:\\Users\\misha\\AppData\\Local\\Programs\\Python\\Python312\\Lib\\site-packages\\sklearn\\utils\\validation.py:1300: DataConversionWarning: A column-vector y was passed when a 1d array was expected. Please change the shape of y to (n_samples, ), for example using ravel().\n",
      "  y = column_or_1d(y, warn=True)\n",
      "c:\\Users\\misha\\AppData\\Local\\Programs\\Python\\Python312\\Lib\\site-packages\\sklearn\\linear_model\\_huber.py:342: ConvergenceWarning: lbfgs failed to converge (status=1):\n",
      "STOP: TOTAL NO. of ITERATIONS REACHED LIMIT.\n",
      "\n",
      "Increase the number of iterations (max_iter) or scale the data as shown in:\n",
      "    https://scikit-learn.org/stable/modules/preprocessing.html\n",
      "  self.n_iter_ = _check_optimize_result(\"lbfgs\", opt_res, self.max_iter)\n"
     ]
    }
   ],
   "source": [
    "sensor = RobustLinearSoftSensor(\"Robust Sensor\", x_train, y_train, column_names=ALL_column_names_1)"
   ]
  },
  {
   "cell_type": "code",
   "execution_count": 106,
   "id": "a7b09359-82c3-4e4e-be6f-7f8534041b69",
   "metadata": {},
   "outputs": [
    {
     "name": "stdout",
     "output_type": "stream",
     "text": [
      "Robust Linear Soft Sensor 'Robust Sensor':\n",
      "Коэффициенты:\n",
      "Расход бензина ККР на установку           : 0.0805\n",
      "Расход нафты ККР на установку             : -0.1034\n",
      "Расход бензина на рециркуляцию от Е-1205  : -0.0543\n",
      "Температура бензина ККР на установку      : 0.0481\n",
      "Расход сырья после Р-1101                 : 0.0188\n",
      "Показатель соотношения водород к углероду : 0.0019\n",
      "Расход водорода на смешение перед Е-1101  : -0.0050\n",
      "Температура сырья перед Е-1101            : 0.0485\n",
      "Давление сырья перед Е-1101               : 0.0106\n",
      "Температура сырья перед Е-1102            : 0.0024\n",
      "Температура сырья перед Е-1103            : 0.0485\n",
      "Давление сырья перед Е-1103               : 0.0106\n",
      "Температура сырья после Е-1103            : 0.0817\n",
      "Температура ТБ перед Е-1101               : 0.0051\n",
      "Давление ТБ перед Е-1101                  : 0.0069\n",
      "Температура ТБ после Е-1101               : 0.0087\n",
      "Температура бензина перед Е-1102          : 0.0907\n",
      "Температура бензина после Е-1102          : 0.0509\n",
      "Давление бензина после Е-1102             : 0.0101\n",
      "Температура пара перед Е-1103             : -0.0038\n",
      "Давление пара перед Е-1103                : -0.0041\n",
      "Давление на входе в R-1101                : 0.0104\n",
      "Температура на входе в R-1101             : 0.0805\n",
      "Перепад давления реактора R-1101          : 0.0011\n",
      "Температура на входе в С-1101             : -0.0053\n",
      "Давление верха С-1101                     : 0.0042\n",
      "Температура 2-ой тарелки С-1101           : -0.1225\n",
      "Расход ЛБ от С-1101                       : 0.0182\n",
      "Температура ЛБ от С-1101                  : -0.0634\n",
      "Температура 9-ой тарелки С-1101           : -0.0352\n",
      "Температура куба С-1101                   : 0.0147\n",
      "Уровень куба С-1101                       : 0.0151\n",
      "Расход ТБ с куба С-1101                   : -0.0030\n",
      "Расход пара на ребойлеры Е-1105           : -0.0236\n",
      "Температура ТБ после ребойлеров Е-1105    : 0.0173\n",
      "Давление ЛБ после АВО А-1101              : 0.0045\n",
      "Температура ЛБ после АВО А-1101           : -0.1687\n",
      "Давление в емкости V-1102                 : 0.0044\n",
      "Уровень в емкости V-1102                  : 0.0361\n",
      "Расход насыщенного газа после V-1102      : 0.0088\n",
      "Температура окружающей среды              : -0.0621\n",
      "Температура ТБ перед Е-1201А              : -0.0388\n",
      "Температура ТБ после Е-1201С перед Е-1201D: 0.0210\n",
      "Температура ТБ после Е-1201D              : -0.0041\n",
      "Температура ТБ после Е-1201D перед Е-1201C: -0.0045\n",
      "Температура ТБ после Е-1201A              : 0.0051\n",
      "Расход ЛБ на орошение С-1101              : 0.0183\n",
      "Температура на входе в R-1201             : -0.0001\n",
      "Давление на входе в R-1201                : 0.0067\n",
      "Перепад давления реактора R-1201          : -0.0000\n",
      "Расход квенча реактора R-1201             : -0.0172\n",
      "Давление на выходе из R-1201              : 0.0067\n",
      "Температура на выходе из R-2101           : -0.0228\n",
      "Давление на входе в H-1201                : 0.0067\n",
      "Температура на входе в H-1201             : -0.0208\n",
      "Давление на выходе из H-1201              : 0.0069\n",
      "Температура на выходе из H-1201           : 0.0393\n",
      "Уровень в емкости V-1201                  : 0.0072\n",
      "Давление в емкости V-1201                 : 0.0069\n",
      "Температура в емкости V-1201              : 0.0057\n",
      "Расход ТБ из емкости V-1201               : -0.0346\n",
      "Температура перед А-1201                  : 0.0049\n",
      "Температура после А-1201                  : -0.0015\n",
      "Уровень в емкости V-1202                  : 0.0129\n",
      "Температура в емкости V-1202              : -0.0011\n",
      "Давление верха С-1202                     : 0.0044\n",
      "Температура верха С-1202                  : -0.0540\n",
      "Температура питания С-1202                : 0.0247\n",
      "Температура С-1202                        : 0.0121\n",
      "Температура глухой тарелки С-1202         : 0.0217\n",
      "Давление С-1202                           : 0.0045\n",
      "Уровень куба С-1202                       : 0.0015\n",
      "Температура куба С-1202                   : 0.0301\n",
      "Расход пара на ребойлер Е-1204            : 0.0011\n",
      "Температура пара на ребойлер Е-1204       : -0.0259\n",
      "Давление пара на ребойлер Е-1204          : -0.0126\n",
      "Температура ТБ после ребойлера Е-1204     : 0.0317\n",
      "Возврат ТБ в С-1202 после насосов Р-1204  : -0.0076\n",
      "Расход ТБ после Е-1203                    : -0.0277\n",
      "Температура ТБ после Е-1203               : -0.0077\n",
      "Уровень в емкости V-1205                  : 0.0238\n",
      "Давление в емкости V-1205                 : 0.0051\n",
      "Возврат ТБ в V-1205 после насосов Р-1203  : 0.0034\n",
      "Расход ТБ из V-1205 после насосов Р-1203  : -0.0318\n",
      "Давление ЛБ перед А-1203                  : 0.0080\n",
      "Температура продукта после А-1203         : -0.0048\n",
      "Температура продукта после Е-1205         : 0.0143\n",
      "Давление продукта после Е-1205            : -0.0068\n",
      "Давление продукта на выходе с установки   : -0.0054\n",
      "Расход продукта на выходе с установки     : -0.0236\n",
      "Уровень V-1203                            : -0.0291\n",
      "Температура V-1203                        : 0.0128\n",
      "Давление V-1203                           : 0.0063\n",
      "Температура верха С-1201                  : 0.0222\n",
      "Давление верха С-1201                     : 0.0060\n",
      "Давление С-1201                           : 0.0062\n",
      "R^2 score: 0.7035\n"
     ]
    }
   ],
   "source": [
    "print(sensor)"
   ]
  },
  {
   "cell_type": "code",
   "execution_count": 107,
   "id": "51589a95-805d-4a53-b1a1-476893091791",
   "metadata": {
    "editable": true,
    "scrolled": true,
    "slideshow": {
     "slide_type": ""
    },
    "tags": []
   },
   "outputs": [],
   "source": [
    "metric = Essentials.R2Metric()"
   ]
  },
  {
   "cell_type": "code",
   "execution_count": 108,
   "id": "5f2b5f89",
   "metadata": {},
   "outputs": [],
   "source": [
    "test_visual_1 = Essentials.Visualizer(x_train, y_train, timestamp_train, [metric], 'Test SoftSensor R2 metric')"
   ]
  },
  {
   "cell_type": "code",
   "execution_count": 109,
   "id": "81cab735",
   "metadata": {},
   "outputs": [
    {
     "name": "stdout",
     "output_type": "stream",
     "text": [
      "               Coefficient of determination\n",
      "Robust Sensor                      0.703545\n"
     ]
    },
    {
     "data": {
      "image/png": "[encoded data removed]",
      "text/plain": [
       "<Figure size 640x480 with 1 Axes>"
      ]
     },
     "metadata": {},
     "output_type": "display_data"
    }
   ],
   "source": [
    "\n",
    "test_visual_1.visualize([sensor])"
   ]
  },
  {
   "cell_type": "code",
   "execution_count": 110,
   "id": "90aacfc2",
   "metadata": {},
   "outputs": [],
   "source": [
    "test_visual = Essentials.Visualizer(x_test, y_test, timestamp_test, [metric], 'Test SoftSensor R2 metric')"
   ]
  },
  {
   "cell_type": "code",
   "execution_count": 111,
   "id": "61d6a59c",
   "metadata": {},
   "outputs": [
    {
     "name": "stdout",
     "output_type": "stream",
     "text": [
      "               Coefficient of determination\n",
      "Robust Sensor                      0.616243\n"
     ]
    },
    {
     "data": {
      "image/png": "[encoded data removed]",
      "text/plain": [
       "<Figure size 640x480 with 1 Axes>"
      ]
     },
     "metadata": {},
     "output_type": "display_data"
    }
   ],
   "source": [
    "test_visual.visualize([sensor])"
   ]
  }
 ],
 "metadata": {
  "kernelspec": {
   "display_name": "Python 3 (ipykernel)",
   "language": "python",
   "name": "python3"
  },
  "language_info": {
   "codemirror_mode": {
    "name": "ipython",
    "version": 3
   },
   "file_extension": ".py",
   "mimetype": "text/x-python",
   "name": "python",
   "nbconvert_exporter": "python",
   "pygments_lexer": "ipython3",
   "version": "3.12.0"
  }
 },
 "nbformat": 4,
 "nbformat_minor": 5
}
