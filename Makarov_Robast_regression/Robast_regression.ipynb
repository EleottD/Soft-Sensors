{
 "cells": [
  {
   "cell_type": "code",
   "execution_count": 19,
   "id": "ef4eb98b-798a-4e71-b982-a86c4aa12ba5",
   "metadata": {
    "editable": true,
    "slideshow": {
     "slide_type": ""
    },
    "tags": []
   },
   "outputs": [],
   "source": [
    "import sys\n",
    "sys.path.append(\"..\")\n",
    "\n",
    "import Essentials\n"
   ]
  },
  {
   "cell_type": "code",
   "execution_count": 20,
   "id": "ddfd73aa-5dd4-4f6d-9b27-79e640a9f3bc",
   "metadata": {},
   "outputs": [],
   "source": [
    "import numpy as np\n",
    "from sklearn.linear_model import HuberRegressor\n",
    "from sklearn.preprocessing import StandardScaler\n",
    "import Essentials\n",
    "import numpy as np\n",
    "from sklearn.cross_decomposition import PLSRegression\n",
    "from sklearn.preprocessing import StandardScaler\n",
    "from sklearn.model_selection import cross_val_score, train_test_split\n",
    "from sklearn.metrics import r2_score\n",
    "from abc import ABC, abstractmethod"
   ]
  },
  {
   "cell_type": "code",
   "execution_count": 21,
   "id": "abe1e9e4-447a-4089-954e-50325ebc8d6d",
   "metadata": {},
   "outputs": [],
   "source": [
    "# Загрузка данных\n",
    "a = np.load('C:\\\\Users\\\\misha\\\\Soft-Sensors\\\\Makarov_Robast_regression\\\\Data_First.npz', allow_pickle=True)\n",
    "\n"
   ]
  },
  {
   "cell_type": "code",
   "execution_count": 22,
   "id": "a43a83d0",
   "metadata": {},
   "outputs": [],
   "source": [
    "def prepare_Y(y):\n",
    "    timestamp = y[:, 1]   \n",
    "    y = y[:, 0].reshape(len(y), 1)\n",
    "    y = y.astype(np.float64)\n",
    "\n",
    "    return y, timestamp\n",
    "all_X_1 = a['all_X_1']\n",
    "all_Y_1 = a['all_Y_1']\n",
    "\n",
    "all_X_2 = a['all_X_2']\n",
    "all_Y_2 = a['all_Y_2']\n",
    "\n",
    "all_X_3 = a['all_X_3']\n",
    "all_Y_3 = a['all_Y_3']\n",
    "x_train, x_test, y_train, y_test = train_test_split(all_X_1, all_Y_1, test_size=0.3, random_state=42)\n",
    "y_train, timestamp_train = prepare_Y(y_train)\n",
    "y_test, timestamp_test = prepare_Y(y_test)\n"
   ]
  },
  {
   "cell_type": "code",
   "execution_count": 23,
   "id": "034794af-eb1d-4d01-ab60-488029685820",
   "metadata": {
    "editable": true,
    "slideshow": {
     "slide_type": ""
    },
    "tags": []
   },
   "outputs": [],
   "source": [
    "class RobustLinearSoftSensor(Essentials.SoftSensor):\n",
    "    def __init__(self, name, x_train, y_train):\n",
    "        super().__init__(name)  \n",
    "        self.train(x_train, y_train)  \n",
    "\n",
    "    def preprocessing(self, x):\n",
    "        # Никакой предобработки данных не требуется\n",
    "        return x\n",
    "\n",
    "    def postprocessing(self, pred_values):\n",
    "        # для визуализатора\n",
    "        if pred_values.ndim == 1:\n",
    "            pred_values = pred_values.reshape(-1, 1)\n",
    "        return pred_values\n",
    "\n",
    "    def evaluate_model(self, x):\n",
    "        if self.get_model() is None:\n",
    "            raise ValueError(\"Model is not trained yet.\")\n",
    "        return self.get_model().predict(x)\n",
    "\n",
    "    def train(self, x_train, y_train):\n",
    "        # Обучение модели HuberRegressor\n",
    "        self.set_model(HuberRegressor())\n",
    "        self.get_model().fit(x_train, y_train)\n",
    "        # Оценка модели и сохранение коэффициента детерминации\n",
    "        self.r2_score = self.get_model().score(x_train, y_train)\n",
    "        self.coefficients = self.get_model().coef_\n",
    "\n",
    "    def __str__(self):\n",
    "        coefs_str = \"\\n\".join([f\"{coef:.4f}\" for coef in self.coefficients])\n",
    "        return (f\"Robust Linear Soft Sensor '{self.get_name()}':\\n\"\n",
    "                f\"Coefficients:\\n{coefs_str}\\n\"\n",
    "                f\"R2 score: {self.r2_score:.4f}\")\n",
    "\n"
   ]
  },
  {
   "cell_type": "code",
   "execution_count": 24,
   "id": "06d778a4-61a1-4b63-aece-f1fdc45c5383",
   "metadata": {
    "editable": true,
    "slideshow": {
     "slide_type": ""
    },
    "tags": []
   },
   "outputs": [
    {
     "name": "stderr",
     "output_type": "stream",
     "text": [
      "c:\\Users\\misha\\AppData\\Local\\Programs\\Python\\Python312\\Lib\\site-packages\\sklearn\\utils\\validation.py:1300: DataConversionWarning: A column-vector y was passed when a 1d array was expected. Please change the shape of y to (n_samples, ), for example using ravel().\n",
      "  y = column_or_1d(y, warn=True)\n",
      "c:\\Users\\misha\\AppData\\Local\\Programs\\Python\\Python312\\Lib\\site-packages\\sklearn\\linear_model\\_huber.py:342: ConvergenceWarning: lbfgs failed to converge (status=1):\n",
      "STOP: TOTAL NO. of ITERATIONS REACHED LIMIT.\n",
      "\n",
      "Increase the number of iterations (max_iter) or scale the data as shown in:\n",
      "    https://scikit-learn.org/stable/modules/preprocessing.html\n",
      "  self.n_iter_ = _check_optimize_result(\"lbfgs\", opt_res, self.max_iter)\n"
     ]
    }
   ],
   "source": [
    "sensor = RobustLinearSoftSensor(name='Robust Linear Sensor', x_train=x_train, y_train=y_train)"
   ]
  },
  {
   "cell_type": "code",
   "execution_count": 25,
   "id": "a7b09359-82c3-4e4e-be6f-7f8534041b69",
   "metadata": {},
   "outputs": [
    {
     "name": "stdout",
     "output_type": "stream",
     "text": [
      "Robust Linear Soft Sensor 'Robust Linear Sensor':\n",
      "Coefficients:\n",
      "0.0638\n",
      "-0.1116\n",
      "-0.0653\n",
      "0.0457\n",
      "0.0375\n",
      "0.0007\n",
      "-0.0074\n",
      "0.0427\n",
      "0.0103\n",
      "0.0081\n",
      "0.0427\n",
      "0.0102\n",
      "0.0891\n",
      "0.0083\n",
      "0.0064\n",
      "0.0132\n",
      "0.0935\n",
      "0.0554\n",
      "0.0092\n",
      "-0.0138\n",
      "-0.0033\n",
      "0.0099\n",
      "0.0895\n",
      "0.0015\n",
      "0.0031\n",
      "0.0046\n",
      "-0.1220\n",
      "0.0338\n",
      "-0.0574\n",
      "-0.0134\n",
      "0.0269\n",
      "0.0797\n",
      "0.0038\n",
      "-0.0123\n",
      "0.0291\n",
      "0.0047\n",
      "-0.1400\n",
      "0.0048\n",
      "0.0376\n",
      "0.0013\n",
      "-0.0747\n",
      "-0.0233\n",
      "0.0300\n",
      "-0.0061\n",
      "-0.0010\n",
      "0.0083\n",
      "-0.0282\n",
      "-0.0036\n",
      "0.0067\n",
      "0.0000\n",
      "-0.0148\n",
      "0.0066\n",
      "-0.0279\n",
      "0.0066\n",
      "-0.0236\n",
      "0.0067\n",
      "0.0209\n",
      "0.0013\n",
      "0.0064\n",
      "0.0090\n",
      "-0.0212\n",
      "0.0009\n",
      "-0.0024\n",
      "0.0107\n",
      "-0.0039\n",
      "0.0052\n",
      "-0.0361\n",
      "0.0036\n",
      "0.0136\n",
      "0.0197\n",
      "0.0053\n",
      "0.0014\n",
      "0.0352\n",
      "0.0004\n",
      "-0.0595\n",
      "-0.0099\n",
      "0.0360\n",
      "-0.0075\n",
      "-0.0031\n",
      "-0.0012\n",
      "0.0266\n",
      "0.0058\n",
      "0.0028\n",
      "-0.0279\n",
      "0.0065\n",
      "-0.0515\n",
      "0.0025\n",
      "-0.0015\n",
      "-0.0033\n",
      "-0.0123\n",
      "0.0197\n",
      "0.0134\n",
      "0.0059\n",
      "0.0161\n",
      "0.0059\n",
      "R2 score: 0.7110\n"
     ]
    }
   ],
   "source": [
    "print(sensor)"
   ]
  },
  {
   "cell_type": "code",
   "execution_count": 26,
   "id": "51589a95-805d-4a53-b1a1-476893091791",
   "metadata": {
    "editable": true,
    "scrolled": true,
    "slideshow": {
     "slide_type": ""
    },
    "tags": []
   },
   "outputs": [],
   "source": [
    "metric = Essentials.R2Metric()"
   ]
  },
  {
   "cell_type": "code",
   "execution_count": 27,
   "id": "5f2b5f89",
   "metadata": {},
   "outputs": [],
   "source": [
    "test_visual_1 = Essentials.Visualizer(x_train, y_train, timestamp_train, [metric], 'Test SoftSensor R2 metric')"
   ]
  },
  {
   "cell_type": "code",
   "execution_count": 28,
   "id": "81cab735",
   "metadata": {},
   "outputs": [
    {
     "name": "stdout",
     "output_type": "stream",
     "text": [
      "                      Coefficient of determination\n",
      "Robust Linear Sensor                      0.711032\n"
     ]
    },
    {
     "data": {
      "image/png": "[encoded data removed]",
      "text/plain": [
       "<Figure size 640x480 with 1 Axes>"
      ]
     },
     "metadata": {},
     "output_type": "display_data"
    }
   ],
   "source": [
    "\n",
    "test_visual_1.visualize([sensor])"
   ]
  },
  {
   "cell_type": "code",
   "execution_count": 29,
   "id": "90aacfc2",
   "metadata": {},
   "outputs": [],
   "source": [
    "test_visual = Essentials.Visualizer(x_test, y_test, timestamp_test, [metric], 'Test SoftSensor R2 metric')"
   ]
  },
  {
   "cell_type": "code",
   "execution_count": 30,
   "id": "61d6a59c",
   "metadata": {},
   "outputs": [
    {
     "name": "stdout",
     "output_type": "stream",
     "text": [
      "                      Coefficient of determination\n",
      "Robust Linear Sensor                      0.645258\n"
     ]
    },
    {
     "data": {
      "image/png": "[encoded data removed]",
      "text/plain": [
       "<Figure size 640x480 with 1 Axes>"
      ]
     },
     "metadata": {},
     "output_type": "display_data"
    }
   ],
   "source": [
    "test_visual.visualize([sensor])"
   ]
  }
 ],
 "metadata": {
  "kernelspec": {
   "display_name": "Python 3 (ipykernel)",
   "language": "python",
   "name": "python3"
  },
  "language_info": {
   "codemirror_mode": {
    "name": "ipython",
    "version": 3
   },
   "file_extension": ".py",
   "mimetype": "text/x-python",
   "name": "python",
   "nbconvert_exporter": "python",
   "pygments_lexer": "ipython3",
   "version": "3.12.0"
  }
 },
 "nbformat": 4,
 "nbformat_minor": 5
}
