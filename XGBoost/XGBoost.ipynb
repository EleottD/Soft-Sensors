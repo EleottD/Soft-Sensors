{
 "cells": [
  {
   "cell_type": "code",
   "execution_count": 93,
   "id": "fd089e5c-073c-4899-b1fc-e51d8550cc19",
   "metadata": {},
   "outputs": [],
   "source": [
    "import sys\n",
    "sys.path.append(\"..\")\n",
    "import Essentials"
   ]
  },
  {
   "cell_type": "code",
   "execution_count": 94,
   "id": "13d89c2c-e559-41ad-bff9-dbc07c7793bc",
   "metadata": {},
   "outputs": [],
   "source": [
    "import numpy as np\n",
    "from sklearn.linear_model import LinearRegression\n",
    "import xgboost as xgb\n",
    "from sklearn.model_selection import train_test_split\n",
    "from sklearn.preprocessing import StandardScaler\n",
    "from sklearn.model_selection import RandomizedSearchCV\n",
    "from sklearn.metrics import r2_score"
   ]
  },
  {
   "cell_type": "code",
   "execution_count": 95,
   "id": "dd53eeb4-e972-45e1-850d-de1c2920ca30",
   "metadata": {},
   "outputs": [],
   "source": [
    "data_archive = np.load('../Data_First.npz', allow_pickle=True)"
   ]
  },
  {
   "cell_type": "code",
   "execution_count": 96,
   "id": "25214361-3a31-4b64-8533-72d964db39ae",
   "metadata": {},
   "outputs": [],
   "source": [
    "def prepare_Y(y):\n",
    "    timestamp = y[:, 1]   \n",
    "    y = y[:, 0].reshape(len(y), 1)\n",
    "    y = y.astype(np.float64)\n",
    "\n",
    "    return y, timestamp"
   ]
  },
  {
   "cell_type": "code",
   "execution_count": 97,
   "id": "ea1726ec-2d6e-4e3f-85da-1ed6f0b48172",
   "metadata": {},
   "outputs": [],
   "source": [
    "all_X_1 = data_archive['all_X_1']\n",
    "all_Y_1 = data_archive['all_Y_1']\n",
    "\n",
    "all_X_2 = data_archive['all_X_2']\n",
    "all_Y_2 = data_archive['all_Y_2']\n",
    "\n",
    "all_X_3 = data_archive['all_X_3']\n",
    "all_Y_3 = data_archive['all_Y_3']\n",
    "\n",
    "x_summer_half_2 = data_archive['x_summer_half_2']\n",
    "y_summer_half_2 = data_archive['y_summer_half_2']\n",
    "x_winter_half_2 = data_archive['x_winter_half_2']\n",
    "y_winter_half_2 = data_archive['y_winter_half_2']\n",
    "\n",
    "x_summer_half_3 = data_archive['x_summer_half_3']\n",
    "y_summer_half_3 = data_archive['y_summer_half_3']\n",
    "x_winter_half_3 = data_archive['x_winter_half_3']\n",
    "y_winter_half_3 = data_archive['y_winter_half_3']"
   ]
  },
  {
   "cell_type": "code",
   "execution_count": 98,
   "id": "c2d13f8b-4012-4415-b8c0-595fa8d2c18e",
   "metadata": {},
   "outputs": [],
   "source": [
    "x_train, x_test, y_train, y_test = train_test_split(all_X_1, all_Y_1, test_size=0.35, random_state=42)"
   ]
  },
  {
   "cell_type": "code",
   "execution_count": 99,
   "id": "d823e1e2-bceb-4067-a903-a2e0c9f0dc1d",
   "metadata": {},
   "outputs": [],
   "source": [
    "y_train, timestamp_train = prepare_Y(y_train)"
   ]
  },
  {
   "cell_type": "code",
   "execution_count": 100,
   "id": "eb434174-070c-4354-b88a-85e8f25a85d0",
   "metadata": {},
   "outputs": [],
   "source": [
    "y_test, timestamp_test = prepare_Y(y_test)"
   ]
  },
  {
   "cell_type": "code",
   "execution_count": 101,
   "id": "9305063b-ac5b-44fb-8a86-3964a03fbde6",
   "metadata": {},
   "outputs": [],
   "source": [
    "x_train_winter, x_test_winter, y_train_winter, y_test_winter = train_test_split(x_winter_half_3, y_winter_half_3, test_size=0.2, random_state=42)"
   ]
  },
  {
   "cell_type": "code",
   "execution_count": 102,
   "id": "fa86d522-d4be-4ad5-ae02-20eef9879e02",
   "metadata": {},
   "outputs": [],
   "source": [
    "x_train_summer, x_test_summer, y_train_summer, y_test_summer = train_test_split(x_summer_half_3, y_summer_half_3, test_size=0.2, random_state=42)"
   ]
  },
  {
   "cell_type": "code",
   "execution_count": 103,
   "id": "b0c029b1-02d2-4df4-bbbd-6f189714c638",
   "metadata": {},
   "outputs": [],
   "source": [
    "y_train_summer, timestamp_train_summer = prepare_Y(y_train_summer)"
   ]
  },
  {
   "cell_type": "code",
   "execution_count": 104,
   "id": "f8f57eb0-2a7a-42e4-9efb-7e1ad9859139",
   "metadata": {},
   "outputs": [],
   "source": [
    "y_train_winter, timestamp_train_winter = prepare_Y(y_train_winter)"
   ]
  },
  {
   "cell_type": "code",
   "execution_count": 105,
   "id": "17cc4527-29a4-4a13-b761-00576c14c185",
   "metadata": {},
   "outputs": [],
   "source": [
    "y_test_summer, timestamp_test_summer = prepare_Y(y_test_summer)"
   ]
  },
  {
   "cell_type": "code",
   "execution_count": 106,
   "id": "6cf1df64-6e29-4c90-a1ea-c935ec573eca",
   "metadata": {},
   "outputs": [],
   "source": [
    "y_test_winter, timestamp_test_winter = prepare_Y(y_test_winter)"
   ]
  },
  {
   "cell_type": "code",
   "execution_count": 107,
   "id": "2a0f8950-7408-41c6-ae1b-7341fcf8059c",
   "metadata": {},
   "outputs": [],
   "source": [
    "class XGBoost(Essentials.SoftSensor):\n",
    "    def __init__(self,name, x_train, y_train):\n",
    "        super().__init__(name)\n",
    "        self.model = xgb.XGBRegressor()\n",
    "        self.x_scaler = StandardScaler() \n",
    "        self.y_scaler = StandardScaler()\n",
    "        self.fit_scaler(x_train, y_train)\n",
    "        self.RandomizedSearchCV(x_train, y_train)\n",
    "        self.train(x_train, y_train)\n",
    "        self.set_model(self.model)\n",
    "\n",
    "    def preprocessing(self, x):\n",
    "        try:\n",
    "            return self.x_scaler.transform(x)\n",
    "        except:\n",
    "            try:\n",
    "               return self.y_scaler.transform(x)\n",
    "            except BaseException as err:\n",
    "                print(\"Ошибка скейлера\")\n",
    "                raise err\n",
    "            \n",
    "\n",
    "    def postprocessing(self, x):\n",
    "        try:\n",
    "            return self.x_scaler.inverse_transform(x)\n",
    "        except:\n",
    "            try:\n",
    "               return self.y_scaler.inverse_transform(x)\n",
    "            except BaseException as err:\n",
    "                print(\"Ошибка скейлера\")\n",
    "                raise err\n",
    "\n",
    "    def fit_scaler(self, x_train, y_train):\n",
    "        self.x_scaler.fit(x_train)\n",
    "        self.y_scaler.fit(y_train)\n",
    "\n",
    "    def evaluate_model(self, x):\n",
    "        predictions = self.get_model().predict(x)\n",
    "        return predictions.reshape(-1,1)\n",
    "    \n",
    "    def RandomizedSearchCV(self,x_train,y_train):\n",
    "        x_train_scaled = self.preprocessing(x_train) \n",
    "        y_train_scaled = self.preprocessing(y_train) \n",
    "        param_distributions = {\n",
    "            'n_estimators': np.arange(50, 201, 50),\n",
    "            'learning_rate': np.linspace(0.01, 0.1, num=10),\n",
    "            'max_depth': np.arange(3, 11),\n",
    "            'min_child_weight': np.arange(1, 6),\n",
    "            'subsample': np.linspace(0.5, 1.0, num=6),\n",
    "            'colsample_bytree': np.linspace(0.5, 1.0, num=6),\n",
    "            'gamma': np.linspace(0, 0.5, num=6),\n",
    "            'reg_alpha': np.linspace(0, 1, num=11),\n",
    "            'reg_lambda': np.linspace(1, 5, num=5)\n",
    "        }\n",
    "\n",
    "        self.random_search = RandomizedSearchCV(\n",
    "            estimator=self.model,\n",
    "            param_distributions=param_distributions,\n",
    "            n_iter=100,  # Количество итераций поиска. Увеличьте или уменьшите в зависимости от вычислительных ресурсов.\n",
    "            scoring='r2',\n",
    "            cv=3,  # Кросс-валидация по 3 блокам\n",
    "            verbose=1,\n",
    "            random_state=42,\n",
    "            n_jobs=-1  # Используйте все доступные ядра\n",
    "        )\n",
    "        self.random_search.fit(x_train_scaled, y_train_scaled)\n",
    "    \n",
    "    def train(self, x_train, y_train):\n",
    "        x_train_scaled = self.preprocessing(x_train) \n",
    "        y_train_scaled = self.preprocessing(y_train)\n",
    "        self.model = xgb.XGBRegressor(**self.random_search.best_params_)\n",
    "        self.model.fit(x_train_scaled,y_train_scaled)\n",
    "\n",
    "    def __str__(self):\n",
    "        feature_importance = self.get_model().feature_importances_\n",
    "        return f\"Важность признаков: = {feature_importance.reshape(-1, 1)}\""
   ]
  },
  {
   "cell_type": "code",
   "execution_count": 108,
   "id": "02fc1be8-6972-4342-9162-22d026a3fc3f",
   "metadata": {},
   "outputs": [
    {
     "name": "stdout",
     "output_type": "stream",
     "text": [
      "Fitting 3 folds for each of 100 candidates, totalling 300 fits\n"
     ]
    }
   ],
   "source": [
    "XGBoost_test = XGBoost(\"XGBoost\",x_train, y_train)"
   ]
  },
  {
   "cell_type": "code",
   "execution_count": 109,
   "id": "8f472de4-3a08-449c-b2cf-c479921407e9",
   "metadata": {},
   "outputs": [],
   "source": [
    "metric = Essentials.R2Metric()"
   ]
  },
  {
   "cell_type": "code",
   "execution_count": 110,
   "id": "cacadc14-ff37-45f8-bb78-d47ed568032b",
   "metadata": {},
   "outputs": [
    {
     "name": "stdout",
     "output_type": "stream",
     "text": [
      "Важность признаков: = [[3.39285731e-02]\n",
      " [1.10734515e-02]\n",
      " [8.17970373e-03]\n",
      " [5.90523565e-03]\n",
      " [8.61748355e-04]\n",
      " [4.78171743e-03]\n",
      " [5.87701425e-03]\n",
      " [3.54168215e-03]\n",
      " [6.51974604e-03]\n",
      " [7.25870067e-03]\n",
      " [0.00000000e+00]\n",
      " [3.19508696e-03]\n",
      " [2.42204051e-02]\n",
      " [3.09810066e-03]\n",
      " [1.00286875e-03]\n",
      " [1.81354731e-02]\n",
      " [1.27047002e-02]\n",
      " [2.30910257e-03]\n",
      " [4.17728312e-02]\n",
      " [6.67534582e-03]\n",
      " [3.23819951e-03]\n",
      " [9.02021304e-03]\n",
      " [2.54840795e-02]\n",
      " [3.18968967e-02]\n",
      " [4.71655931e-03]\n",
      " [7.81220989e-03]\n",
      " [1.26248121e-01]\n",
      " [8.13337974e-03]\n",
      " [4.52796556e-02]\n",
      " [7.48490170e-03]\n",
      " [2.43155938e-03]\n",
      " [2.75702495e-03]\n",
      " [7.96915090e-04]\n",
      " [3.42555763e-03]\n",
      " [3.15270131e-03]\n",
      " [3.28539088e-02]\n",
      " [1.03010582e-02]\n",
      " [2.27324129e-03]\n",
      " [2.09679622e-02]\n",
      " [3.33377067e-03]\n",
      " [5.02522057e-03]\n",
      " [5.30955661e-03]\n",
      " [4.29258635e-03]\n",
      " [2.14076098e-02]\n",
      " [4.09923075e-03]\n",
      " [0.00000000e+00]\n",
      " [2.41261930e-03]\n",
      " [2.70557450e-03]\n",
      " [2.34229374e-03]\n",
      " [7.90739286e-05]\n",
      " [8.13344144e-04]\n",
      " [0.00000000e+00]\n",
      " [1.66935064e-02]\n",
      " [0.00000000e+00]\n",
      " [0.00000000e+00]\n",
      " [7.03169091e-04]\n",
      " [4.77267336e-03]\n",
      " [1.36555927e-02]\n",
      " [6.21046312e-02]\n",
      " [3.53767350e-02]\n",
      " [1.46460196e-03]\n",
      " [8.34184512e-03]\n",
      " [1.05861751e-02]\n",
      " [2.70213443e-03]\n",
      " [6.97879074e-03]\n",
      " [4.57541458e-03]\n",
      " [1.02805328e-02]\n",
      " [6.91893045e-03]\n",
      " [4.08128183e-03]\n",
      " [3.32510262e-03]\n",
      " [3.93032581e-02]\n",
      " [6.33461326e-02]\n",
      " [2.20082537e-03]\n",
      " [3.73273599e-03]\n",
      " [3.21864337e-03]\n",
      " [2.03310302e-03]\n",
      " [3.09944898e-03]\n",
      " [3.65472981e-03]\n",
      " [0.00000000e+00]\n",
      " [1.95847126e-03]\n",
      " [1.01125622e-02]\n",
      " [1.80700105e-02]\n",
      " [1.31019847e-02]\n",
      " [3.25541943e-03]\n",
      " [3.07909329e-03]\n",
      " [6.42643077e-03]\n",
      " [6.61728904e-03]\n",
      " [1.54062733e-03]\n",
      " [6.45487756e-03]\n",
      " [0.00000000e+00]\n",
      " [5.10383490e-03]\n",
      " [3.56990681e-03]\n",
      " [1.45829923e-03]\n",
      " [2.22851429e-03]\n",
      " [1.87574769e-03]\n",
      " [8.60473316e-04]]\n"
     ]
    }
   ],
   "source": [
    "print(XGBoost_test)"
   ]
  },
  {
   "cell_type": "code",
   "execution_count": 111,
   "id": "f0ab78b9-1742-4e81-8b94-622231eb5ae2",
   "metadata": {},
   "outputs": [
    {
     "data": {
      "text/plain": [
       "(array([[56.76267 ],\n",
       "        [57.717014],\n",
       "        [56.496338],\n",
       "        [57.288494],\n",
       "        [59.41283 ],\n",
       "        [56.91162 ],\n",
       "        [59.8569  ],\n",
       "        [51.970222],\n",
       "        [61.596443],\n",
       "        [58.79964 ],\n",
       "        [53.652462],\n",
       "        [58.868687],\n",
       "        [59.566643],\n",
       "        [54.47685 ],\n",
       "        [53.51733 ],\n",
       "        [51.994785],\n",
       "        [59.189907],\n",
       "        [61.950592],\n",
       "        [57.944244],\n",
       "        [59.402477],\n",
       "        [56.61443 ],\n",
       "        [55.425545],\n",
       "        [57.583183],\n",
       "        [56.056946],\n",
       "        [59.531254],\n",
       "        [62.285088],\n",
       "        [59.38696 ],\n",
       "        [58.937717],\n",
       "        [62.26124 ],\n",
       "        [52.005573],\n",
       "        [57.276855],\n",
       "        [60.35043 ],\n",
       "        [58.556885],\n",
       "        [57.359417],\n",
       "        [61.04051 ],\n",
       "        [59.8415  ],\n",
       "        [58.095005],\n",
       "        [57.54569 ],\n",
       "        [58.80903 ],\n",
       "        [58.376774],\n",
       "        [58.74353 ],\n",
       "        [58.070328],\n",
       "        [54.452816],\n",
       "        [59.16165 ],\n",
       "        [56.745663],\n",
       "        [60.387657]], dtype=float32),\n",
       " 0.5841050626531579)"
      ]
     },
     "execution_count": 111,
     "metadata": {},
     "output_type": "execute_result"
    }
   ],
   "source": [
    "XGBoost_test.test(x_test, y_test, metric)"
   ]
  },
  {
   "cell_type": "code",
   "execution_count": 112,
   "id": "5ef12783-2460-4be1-aa82-76b9a391a60b",
   "metadata": {},
   "outputs": [],
   "source": [
    "XGBoost_test_visual_train = Essentials.Visualizer(x_train, y_train, timestamp_train, [metric], 'XGBoost SoftSensor R2 metric on Train')"
   ]
  },
  {
   "cell_type": "code",
   "execution_count": 113,
   "id": "7f8a24a2-aa98-4d9a-9e32-fc92ef684cd2",
   "metadata": {},
   "outputs": [
    {
     "name": "stdout",
     "output_type": "stream",
     "text": [
      "         Coefficient of determination\n",
      "XGBoost                      0.982685\n"
     ]
    },
    {
     "data": {
      "image/png": "[encoded data removed]",
      "text/plain": [
       "<Figure size 640x480 with 1 Axes>"
      ]
     },
     "metadata": {},
     "output_type": "display_data"
    }
   ],
   "source": [
    "XGBoost_test_visual_train.visualize([XGBoost_test])"
   ]
  },
  {
   "cell_type": "code",
   "execution_count": 114,
   "id": "f6ca9f82-da7b-40b5-9e65-9397973dce78",
   "metadata": {},
   "outputs": [],
   "source": [
    "XGBoost_test_visual_test = Essentials.Visualizer(x_test, y_test, timestamp_test, [metric], 'XGBoost SoftSensor R2 metric on Test')"
   ]
  },
  {
   "cell_type": "code",
   "execution_count": 115,
   "id": "9efeaae2-96fa-4df5-93f6-7e95e34e7305",
   "metadata": {},
   "outputs": [
    {
     "name": "stdout",
     "output_type": "stream",
     "text": [
      "         Coefficient of determination\n",
      "XGBoost                      0.584105\n"
     ]
    },
    {
     "data": {
      "image/png": "[encoded data removed]",
      "text/plain": [
       "<Figure size 640x480 with 1 Axes>"
      ]
     },
     "metadata": {},
     "output_type": "display_data"
    }
   ],
   "source": [
    "XGBoost_test_visual_test.visualize([XGBoost_test])"
   ]
  }
 ],
 "metadata": {
  "kernelspec": {
   "display_name": "Python 3 (ipykernel)",
   "language": "python",
   "name": "python3"
  },
  "language_info": {
   "codemirror_mode": {
    "name": "ipython",
    "version": 3
   },
   "file_extension": ".py",
   "mimetype": "text/x-python",
   "name": "python",
   "nbconvert_exporter": "python",
   "pygments_lexer": "ipython3",
   "version": "3.11.7"
  }
 },
 "nbformat": 4,
 "nbformat_minor": 5
}
