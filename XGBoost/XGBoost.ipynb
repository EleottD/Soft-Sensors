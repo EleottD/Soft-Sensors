{
 "cells": [
  {
   "cell_type": "code",
   "execution_count": 26,
   "id": "fd089e5c-073c-4899-b1fc-e51d8550cc19",
   "metadata": {},
   "outputs": [],
   "source": [
    "import sys\n",
    "sys.path.append(\"..\")\n",
    "import Essentials"
   ]
  },
  {
   "cell_type": "code",
   "execution_count": 27,
   "id": "13d89c2c-e559-41ad-bff9-dbc07c7793bc",
   "metadata": {},
   "outputs": [],
   "source": [
    "import numpy as np\n",
    "from sklearn.linear_model import LinearRegression\n",
    "import xgboost as xgb\n",
    "from sklearn.model_selection import train_test_split\n",
    "from sklearn.preprocessing import StandardScaler\n",
    "from sklearn.model_selection import RandomizedSearchCV\n",
    "from sklearn.metrics import r2_score"
   ]
  },
  {
   "cell_type": "code",
   "execution_count": 28,
   "id": "dd53eeb4-e972-45e1-850d-de1c2920ca30",
   "metadata": {},
   "outputs": [],
   "source": [
    "data_archive = np.load('../Data_Average.npz', allow_pickle=True)"
   ]
  },
  {
   "cell_type": "code",
   "execution_count": 29,
   "id": "25214361-3a31-4b64-8533-72d964db39ae",
   "metadata": {},
   "outputs": [],
   "source": [
    "def prepare_Y(y):\n",
    "    timestamp = y[:, 1]   \n",
    "    y = y[:, 0].reshape(len(y), 1)\n",
    "    y = y.astype(np.float64)\n",
    "\n",
    "    return y, timestamp"
   ]
  },
  {
   "cell_type": "code",
   "execution_count": 30,
   "id": "ea1726ec-2d6e-4e3f-85da-1ed6f0b48172",
   "metadata": {},
   "outputs": [],
   "source": [
    "all_X_1 = data_archive['all_X_1']\n",
    "all_Y_1 = data_archive['all_Y_1']\n",
    "\n",
    "all_X_2 = data_archive['all_X_2']\n",
    "all_Y_2 = data_archive['all_Y_2']\n",
    "\n",
    "all_X_3 = data_archive['all_X_3']\n",
    "all_Y_3 = data_archive['all_Y_3']\n",
    "\n",
    "x_summer_half_2 = data_archive['x_summer_half_2']\n",
    "y_summer_half_2 = data_archive['y_summer_half_2']\n",
    "x_winter_half_2 = data_archive['x_winter_half_2']\n",
    "y_winter_half_2 = data_archive['y_winter_half_2']\n",
    "\n",
    "x_summer_half_3 = data_archive['x_summer_half_3']\n",
    "y_summer_half_3 = data_archive['y_summer_half_3']\n",
    "x_winter_half_3 = data_archive['x_winter_half_3']\n",
    "y_winter_half_3 = data_archive['y_winter_half_3']"
   ]
  },
  {
   "cell_type": "code",
   "execution_count": 31,
   "id": "319d5d30-e0d5-4e82-83cf-217e7cd6e052",
   "metadata": {},
   "outputs": [
    {
     "data": {
      "text/plain": [
       "(129, 96)"
      ]
     },
     "execution_count": 31,
     "metadata": {},
     "output_type": "execute_result"
    }
   ],
   "source": [
    "all_X_1.shape"
   ]
  },
  {
   "cell_type": "code",
   "execution_count": 32,
   "id": "c2d13f8b-4012-4415-b8c0-595fa8d2c18e",
   "metadata": {},
   "outputs": [],
   "source": [
    "x_train, x_test, y_train, y_test = train_test_split(all_X_1, all_Y_1, test_size=0.25, random_state=42)"
   ]
  },
  {
   "cell_type": "code",
   "execution_count": 33,
   "id": "6cbd7234-9dbd-4068-adfb-eda1cb8ee613",
   "metadata": {},
   "outputs": [
    {
     "data": {
      "text/plain": [
       "(96, 96)"
      ]
     },
     "execution_count": 33,
     "metadata": {},
     "output_type": "execute_result"
    }
   ],
   "source": [
    "x_train.shape"
   ]
  },
  {
   "cell_type": "code",
   "execution_count": 34,
   "id": "d823e1e2-bceb-4067-a903-a2e0c9f0dc1d",
   "metadata": {},
   "outputs": [],
   "source": [
    "y_train, timestamp_train = prepare_Y(y_train)"
   ]
  },
  {
   "cell_type": "code",
   "execution_count": 35,
   "id": "eb434174-070c-4354-b88a-85e8f25a85d0",
   "metadata": {},
   "outputs": [],
   "source": [
    "y_test, timestamp_test = prepare_Y(y_test)"
   ]
  },
  {
   "cell_type": "code",
   "execution_count": 36,
   "id": "9305063b-ac5b-44fb-8a86-3964a03fbde6",
   "metadata": {},
   "outputs": [],
   "source": [
    "x_train_winter, x_test_winter, y_train_winter, y_test_winter = train_test_split(x_winter_half_3, y_winter_half_3, test_size=0.2, random_state=42)"
   ]
  },
  {
   "cell_type": "code",
   "execution_count": 37,
   "id": "fa86d522-d4be-4ad5-ae02-20eef9879e02",
   "metadata": {},
   "outputs": [],
   "source": [
    "x_train_summer, x_test_summer, y_train_summer, y_test_summer = train_test_split(x_summer_half_3, y_summer_half_3, test_size=0.2, random_state=42)"
   ]
  },
  {
   "cell_type": "code",
   "execution_count": 38,
   "id": "b0c029b1-02d2-4df4-bbbd-6f189714c638",
   "metadata": {},
   "outputs": [],
   "source": [
    "y_train_summer, timestamp_train_summer = prepare_Y(y_train_summer)"
   ]
  },
  {
   "cell_type": "code",
   "execution_count": 39,
   "id": "f8f57eb0-2a7a-42e4-9efb-7e1ad9859139",
   "metadata": {},
   "outputs": [],
   "source": [
    "y_train_winter, timestamp_train_winter = prepare_Y(y_train_winter)"
   ]
  },
  {
   "cell_type": "code",
   "execution_count": 40,
   "id": "17cc4527-29a4-4a13-b761-00576c14c185",
   "metadata": {},
   "outputs": [],
   "source": [
    "y_test_summer, timestamp_test_summer = prepare_Y(y_test_summer)"
   ]
  },
  {
   "cell_type": "code",
   "execution_count": 41,
   "id": "6cf1df64-6e29-4c90-a1ea-c935ec573eca",
   "metadata": {},
   "outputs": [],
   "source": [
    "y_test_winter, timestamp_test_winter = prepare_Y(y_test_winter)"
   ]
  },
  {
   "cell_type": "code",
   "execution_count": 42,
   "id": "2a0f8950-7408-41c6-ae1b-7341fcf8059c",
   "metadata": {},
   "outputs": [],
   "source": [
    "class XGBoost(Essentials.SoftSensor):\n",
    "    def __init__(self,name, x_train, y_train):\n",
    "        super().__init__(name)\n",
    "        self.model = xgb.XGBRegressor()\n",
    "        self.x_scaler = StandardScaler() \n",
    "        self.y_scaler = StandardScaler()\n",
    "        self.fit_scaler(x_train, y_train)\n",
    "        self.RandomizedSearchCV(x_train, y_train)\n",
    "        self.train(x_train, y_train)\n",
    "        self.set_model(self.model)\n",
    "\n",
    "    def preprocessing(self, x):\n",
    "        try:\n",
    "            return self.x_scaler.transform(x)\n",
    "        except:\n",
    "            try:\n",
    "               return self.y_scaler.transform(x)\n",
    "            except BaseException as err:\n",
    "                print(\"Ошибка скейлера\")\n",
    "                raise err\n",
    "            \n",
    "    def postprocessing(self, x):\n",
    "        try:\n",
    "            return self.x_scaler.inverse_transform(x)\n",
    "        except:\n",
    "            try:\n",
    "               return self.y_scaler.inverse_transform(x)\n",
    "            except BaseException as err:\n",
    "                print(\"Ошибка скейлера\")\n",
    "                raise err\n",
    "\n",
    "    def fit_scaler(self, x_train, y_train):\n",
    "        self.x_scaler.fit(x_train)\n",
    "        self.y_scaler.fit(y_train)\n",
    "\n",
    "    def evaluate_model(self, x):\n",
    "        predictions = self.get_model().predict(x)\n",
    "        return predictions.reshape(-1,1)\n",
    "    \n",
    "    def RandomizedSearchCV(self,x_train,y_train):\n",
    "        x_train_scaled = self.preprocessing(x_train) \n",
    "        y_train_scaled = self.preprocessing(y_train) \n",
    "        param_distributions = {\n",
    "            'n_estimators': np.arange(50, 201, 50),\n",
    "            'learning_rate': np.linspace(0.01, 0.1, num=10),\n",
    "            'max_depth': np.arange(3, 11),\n",
    "            'min_child_weight': np.arange(1, 6),\n",
    "            'subsample': np.linspace(0.5, 1.0, num=6),\n",
    "            'colsample_bytree': np.linspace(0.5, 1.0, num=6),\n",
    "            'gamma': np.linspace(0, 0.5, num=6),\n",
    "            'reg_alpha': np.linspace(0, 1, num=11),\n",
    "            'reg_lambda': np.linspace(1, 5, num=5)\n",
    "        }\n",
    "\n",
    "        self.random_search = RandomizedSearchCV(\n",
    "            estimator=self.model,\n",
    "            param_distributions=param_distributions,\n",
    "            n_iter=100,  # Количество итераций поиска. Увеличьте или уменьшите в зависимости от вычислительных ресурсов.\n",
    "            scoring='r2',\n",
    "            cv=3,  # Кросс-валидация по 3 блокам\n",
    "            verbose=1,\n",
    "            random_state=42,\n",
    "            n_jobs=-1  # Используйте все доступные ядра\n",
    "        )\n",
    "        self.random_search.fit(x_train_scaled, y_train_scaled)\n",
    "    \n",
    "    def train(self, x_train, y_train):\n",
    "        x_train_scaled = self.preprocessing(x_train) \n",
    "        y_train_scaled = self.preprocessing(y_train)\n",
    "        self.model = xgb.XGBRegressor(**self.random_search.best_params_)\n",
    "        self.model.fit(x_train_scaled,y_train_scaled)\n",
    "\n",
    "    def __str__(self):\n",
    "        feature_importance = self.get_model().feature_importances_\n",
    "        return f\"Важность признаков: = {feature_importance.reshape(-1, 1)}\""
   ]
  },
  {
   "cell_type": "code",
   "execution_count": 43,
   "id": "02fc1be8-6972-4342-9162-22d026a3fc3f",
   "metadata": {},
   "outputs": [
    {
     "name": "stdout",
     "output_type": "stream",
     "text": [
      "Fitting 3 folds for each of 100 candidates, totalling 300 fits\n"
     ]
    }
   ],
   "source": [
    "XGBoost_test = XGBoost(\"XGBoost\",x_train, y_train)"
   ]
  },
  {
   "cell_type": "code",
   "execution_count": 44,
   "id": "8f472de4-3a08-449c-b2cf-c479921407e9",
   "metadata": {},
   "outputs": [],
   "source": [
    "metric = Essentials.R2Metric()"
   ]
  },
  {
   "cell_type": "code",
   "execution_count": 45,
   "id": "cacadc14-ff37-45f8-bb78-d47ed568032b",
   "metadata": {},
   "outputs": [
    {
     "name": "stdout",
     "output_type": "stream",
     "text": [
      "Важность признаков: = [[0.00907928]\n",
      " [0.03275635]\n",
      " [0.01297752]\n",
      " [0.00266472]\n",
      " [0.00359391]\n",
      " [0.00298865]\n",
      " [0.00202923]\n",
      " [0.0062208 ]\n",
      " [0.01017772]\n",
      " [0.0106171 ]\n",
      " [0.00189295]\n",
      " [0.00929877]\n",
      " [0.11725441]\n",
      " [0.00242314]\n",
      " [0.00467263]\n",
      " [0.06056397]\n",
      " [0.06784752]\n",
      " [0.00694298]\n",
      " [0.01169669]\n",
      " [0.00537646]\n",
      " [0.00647445]\n",
      " [0.0191001 ]\n",
      " [0.01925264]\n",
      " [0.00262054]\n",
      " [0.01497181]\n",
      " [0.00387856]\n",
      " [0.06242655]\n",
      " [0.0061151 ]\n",
      " [0.03272938]\n",
      " [0.01088686]\n",
      " [0.00663373]\n",
      " [0.00194005]\n",
      " [0.00145037]\n",
      " [0.00144346]\n",
      " [0.00983254]\n",
      " [0.0019308 ]\n",
      " [0.00206159]\n",
      " [0.00441119]\n",
      " [0.00781184]\n",
      " [0.01863767]\n",
      " [0.00872245]\n",
      " [0.00262064]\n",
      " [0.01333803]\n",
      " [0.01815321]\n",
      " [0.0051727 ]\n",
      " [0.00047932]\n",
      " [0.00684148]\n",
      " [0.0071668 ]\n",
      " [0.0047571 ]\n",
      " [0.00797653]\n",
      " [0.00720264]\n",
      " [0.00395984]\n",
      " [0.01398522]\n",
      " [0.        ]\n",
      " [0.00133865]\n",
      " [0.00378926]\n",
      " [0.00224865]\n",
      " [0.02314395]\n",
      " [0.03434385]\n",
      " [0.00015545]\n",
      " [0.0030214 ]\n",
      " [0.04028127]\n",
      " [0.0072375 ]\n",
      " [0.00254618]\n",
      " [0.00387584]\n",
      " [0.00088994]\n",
      " [0.00880851]\n",
      " [0.020676  ]\n",
      " [0.0048939 ]\n",
      " [0.00168717]\n",
      " [0.003061  ]\n",
      " [0.01539693]\n",
      " [0.00618954]\n",
      " [0.00215907]\n",
      " [0.00525024]\n",
      " [0.00578119]\n",
      " [0.00329034]\n",
      " [0.00349825]\n",
      " [0.00130576]\n",
      " [0.00124725]\n",
      " [0.01206256]\n",
      " [0.00097478]\n",
      " [0.00920156]\n",
      " [0.00373573]\n",
      " [0.00464809]\n",
      " [0.00449457]\n",
      " [0.00342566]\n",
      " [0.00206089]\n",
      " [0.00542277]\n",
      " [0.00137632]\n",
      " [0.00481562]\n",
      " [0.00438636]\n",
      " [0.00115568]\n",
      " [0.00303225]\n",
      " [0.01299364]\n",
      " [0.00403637]]\n"
     ]
    }
   ],
   "source": [
    "print(XGBoost_test)"
   ]
  },
  {
   "cell_type": "code",
   "execution_count": 46,
   "id": "f0ab78b9-1742-4e81-8b94-622231eb5ae2",
   "metadata": {},
   "outputs": [
    {
     "data": {
      "text/plain": [
       "(array([[54.98992 ],\n",
       "        [58.800285],\n",
       "        [56.609512],\n",
       "        [57.448917],\n",
       "        [59.946106],\n",
       "        [54.832035],\n",
       "        [59.79351 ],\n",
       "        [51.34802 ],\n",
       "        [58.906956],\n",
       "        [58.62024 ],\n",
       "        [55.184006],\n",
       "        [58.542442],\n",
       "        [58.591774],\n",
       "        [52.620407],\n",
       "        [52.215702],\n",
       "        [51.7686  ],\n",
       "        [59.83779 ],\n",
       "        [58.21873 ],\n",
       "        [55.070747],\n",
       "        [56.448353],\n",
       "        [56.510124],\n",
       "        [54.793568],\n",
       "        [59.46846 ],\n",
       "        [57.089535],\n",
       "        [57.585625],\n",
       "        [60.34547 ],\n",
       "        [58.90138 ],\n",
       "        [58.954803],\n",
       "        [62.16038 ],\n",
       "        [53.435883],\n",
       "        [56.9908  ],\n",
       "        [58.82209 ],\n",
       "        [57.71151 ]], dtype=float32),\n",
       " 0.6474440591645381)"
      ]
     },
     "execution_count": 46,
     "metadata": {},
     "output_type": "execute_result"
    }
   ],
   "source": [
    "XGBoost_test.test(x_test, y_test, metric)"
   ]
  },
  {
   "cell_type": "code",
   "execution_count": 47,
   "id": "5ef12783-2460-4be1-aa82-76b9a391a60b",
   "metadata": {},
   "outputs": [],
   "source": [
    "XGBoost_test_visual_train = Essentials.Visualizer(x_train, y_train, timestamp_train, [metric], 'XGBoost SoftSensor R2 metric on Train')"
   ]
  },
  {
   "cell_type": "code",
   "execution_count": 48,
   "id": "7f8a24a2-aa98-4d9a-9e32-fc92ef684cd2",
   "metadata": {},
   "outputs": [
    {
     "name": "stdout",
     "output_type": "stream",
     "text": [
      "         Coefficient of determination\n",
      "XGBoost                      0.973446\n"
     ]
    },
    {
     "data": {
      "image/png": "[encoded data removed]",
      "text/plain": [
       "<Figure size 640x480 with 1 Axes>"
      ]
     },
     "metadata": {},
     "output_type": "display_data"
    }
   ],
   "source": [
    "XGBoost_test_visual_train.visualize([XGBoost_test])"
   ]
  },
  {
   "cell_type": "code",
   "execution_count": 49,
   "id": "f6ca9f82-da7b-40b5-9e65-9397973dce78",
   "metadata": {},
   "outputs": [],
   "source": [
    "XGBoost_test_visual_test = Essentials.Visualizer(x_test, y_test, timestamp_test, [metric], 'XGBoost SoftSensor R2 metric on Test')"
   ]
  },
  {
   "cell_type": "code",
   "execution_count": 50,
   "id": "9efeaae2-96fa-4df5-93f6-7e95e34e7305",
   "metadata": {},
   "outputs": [
    {
     "name": "stdout",
     "output_type": "stream",
     "text": [
      "         Coefficient of determination\n",
      "XGBoost                      0.647444\n"
     ]
    },
    {
     "data": {
      "image/png": "[encoded data removed]",
      "text/plain": [
       "<Figure size 640x480 with 1 Axes>"
      ]
     },
     "metadata": {},
     "output_type": "display_data"
    }
   ],
   "source": [
    "XGBoost_test_visual_test.visualize([XGBoost_test])"
   ]
  }
 ],
 "metadata": {
  "kernelspec": {
   "display_name": "Python 3 (ipykernel)",
   "language": "python",
   "name": "python3"
  },
  "language_info": {
   "codemirror_mode": {
    "name": "ipython",
    "version": 3
   },
   "file_extension": ".py",
   "mimetype": "text/x-python",
   "name": "python",
   "nbconvert_exporter": "python",
   "pygments_lexer": "ipython3",
   "version": "3.11.7"
  }
 },
 "nbformat": 4,
 "nbformat_minor": 5
}
