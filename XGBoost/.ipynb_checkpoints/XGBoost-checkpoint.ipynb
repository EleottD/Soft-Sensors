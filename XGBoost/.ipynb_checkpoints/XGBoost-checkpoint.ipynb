{
 "cells": [
  {
   "cell_type": "code",
   "execution_count": 275,
   "id": "fd089e5c-073c-4899-b1fc-e51d8550cc19",
   "metadata": {},
   "outputs": [],
   "source": [
    "import sys\n",
    "sys.path.append(\"..\")\n",
    "import Essentials"
   ]
  },
  {
   "cell_type": "code",
   "execution_count": 276,
   "id": "13d89c2c-e559-41ad-bff9-dbc07c7793bc",
   "metadata": {},
   "outputs": [],
   "source": [
    "import numpy as np\n",
    "import matplotlib.pyplot as plt\n",
    "from sklearn.linear_model import LinearRegression\n",
    "import xgboost as xgb\n",
    "from sklearn.model_selection import train_test_split\n",
    "from sklearn.preprocessing import StandardScaler\n",
    "from sklearn.model_selection import RandomizedSearchCV\n",
    "from sklearn.metrics import r2_score\n",
    "from xgboost import plot_tree\n",
    "import pandas as pd\n",
    "pd.set_option('display.max_columns', None)  # Не ограничивать количество отображаемых столбцов\n",
    "pd.set_option('display.max_rows', None)  # Не ограничивать количество отображаемых строк"
   ]
  },
  {
   "cell_type": "code",
   "execution_count": 277,
   "id": "dd53eeb4-e972-45e1-850d-de1c2920ca30",
   "metadata": {},
   "outputs": [],
   "source": [
    "data_archive = np.load('../Data_Average_Nikita.npz', allow_pickle=True)"
   ]
  },
  {
   "cell_type": "code",
   "execution_count": 278,
   "id": "25214361-3a31-4b64-8533-72d964db39ae",
   "metadata": {},
   "outputs": [],
   "source": [
    "def prepare_Y(y):\n",
    "    timestamp = y[:, 1]   \n",
    "    y = y[:, 0].reshape(len(y), 1)\n",
    "    y = y.astype(np.float64)\n",
    "\n",
    "    return y, timestamp"
   ]
  },
  {
   "cell_type": "code",
   "execution_count": 279,
   "id": "ea1726ec-2d6e-4e3f-85da-1ed6f0b48172",
   "metadata": {},
   "outputs": [],
   "source": [
    "ALL_column_names_1 = data_archive['column_names_1'] \n",
    "all_X_1 = data_archive['all_X_1']\n",
    "all_Y_1 = data_archive['all_Y_1']\n",
    "\n",
    "ALL_column_names_2 = data_archive['column_names_2_cat'] \n",
    "all_X_2 = data_archive['all_X_2']\n",
    "all_Y_2 = data_archive['all_Y_2']\n",
    "\n",
    "ALL_column_names_3 = data_archive['column_names_3_cat']\n",
    "all_X_3 = data_archive['all_X_3']\n",
    "all_Y_3 = data_archive['all_Y_3']\n",
    "\n",
    "column_names_2 = data_archive['column_names_2']\n",
    "x_summer_half_2 = data_archive['x_summer_half_2']\n",
    "y_summer_half_2 = data_archive['y_summer_half_2']\n",
    "x_winter_half_2 = data_archive['x_winter_half_2']\n",
    "y_winter_half_2 = data_archive['y_winter_half_2']\n",
    "\n",
    "column_names_3 = data_archive['column_names_3']\n",
    "x_summer_half_3 = data_archive['x_summer_half_3']\n",
    "y_summer_half_3 = data_archive['y_summer_half_3']\n",
    "x_winter_half_3 = data_archive['x_winter_half_3']\n",
    "y_winter_half_3 = data_archive['y_winter_half_3']\n"
   ]
  },
  {
   "cell_type": "code",
   "execution_count": 280,
   "id": "319d5d30-e0d5-4e82-83cf-217e7cd6e052",
   "metadata": {},
   "outputs": [
    {
     "data": {
      "text/plain": [
       "(107, 87)"
      ]
     },
     "execution_count": 280,
     "metadata": {},
     "output_type": "execute_result"
    }
   ],
   "source": [
    "all_X_1.shape"
   ]
  },
  {
   "cell_type": "code",
   "execution_count": 281,
   "id": "039f3b43-e779-4206-af86-10f5c1788cce",
   "metadata": {},
   "outputs": [
    {
     "data": {
      "text/plain": [
       "(87,)"
      ]
     },
     "execution_count": 281,
     "metadata": {},
     "output_type": "execute_result"
    }
   ],
   "source": [
    "ALL_column_names_1.shape"
   ]
  },
  {
   "cell_type": "code",
   "execution_count": 282,
   "id": "c2d13f8b-4012-4415-b8c0-595fa8d2c18e",
   "metadata": {},
   "outputs": [],
   "source": [
    "x_train, x_test, y_train, y_test = train_test_split(all_X_1, all_Y_1, test_size=0.2, random_state=42)"
   ]
  },
  {
   "cell_type": "code",
   "execution_count": 283,
   "id": "6cbd7234-9dbd-4068-adfb-eda1cb8ee613",
   "metadata": {},
   "outputs": [
    {
     "data": {
      "text/plain": [
       "(85, 87)"
      ]
     },
     "execution_count": 283,
     "metadata": {},
     "output_type": "execute_result"
    }
   ],
   "source": [
    "x_train.shape"
   ]
  },
  {
   "cell_type": "code",
   "execution_count": 284,
   "id": "d823e1e2-bceb-4067-a903-a2e0c9f0dc1d",
   "metadata": {},
   "outputs": [],
   "source": [
    "y_train, timestamp_train = prepare_Y(y_train)"
   ]
  },
  {
   "cell_type": "code",
   "execution_count": 285,
   "id": "eb434174-070c-4354-b88a-85e8f25a85d0",
   "metadata": {},
   "outputs": [],
   "source": [
    "y_test, timestamp_test = prepare_Y(y_test)"
   ]
  },
  {
   "cell_type": "code",
   "execution_count": 286,
   "id": "9305063b-ac5b-44fb-8a86-3964a03fbde6",
   "metadata": {},
   "outputs": [],
   "source": [
    "x_train_winter, x_test_winter, y_train_winter, y_test_winter = train_test_split(x_winter_half_3, y_winter_half_3, test_size=0.2, random_state=10)"
   ]
  },
  {
   "cell_type": "code",
   "execution_count": 287,
   "id": "fa86d522-d4be-4ad5-ae02-20eef9879e02",
   "metadata": {},
   "outputs": [],
   "source": [
    "x_train_summer, x_test_summer, y_train_summer, y_test_summer = train_test_split(x_summer_half_3, y_summer_half_3, test_size=0.2, random_state=10)"
   ]
  },
  {
   "cell_type": "code",
   "execution_count": 288,
   "id": "b0c029b1-02d2-4df4-bbbd-6f189714c638",
   "metadata": {},
   "outputs": [],
   "source": [
    "y_train_summer, timestamp_train_summer = prepare_Y(y_train_summer)"
   ]
  },
  {
   "cell_type": "code",
   "execution_count": 289,
   "id": "f8f57eb0-2a7a-42e4-9efb-7e1ad9859139",
   "metadata": {},
   "outputs": [],
   "source": [
    "y_train_winter, timestamp_train_winter = prepare_Y(y_train_winter)"
   ]
  },
  {
   "cell_type": "code",
   "execution_count": 290,
   "id": "17cc4527-29a4-4a13-b761-00576c14c185",
   "metadata": {},
   "outputs": [],
   "source": [
    "y_test_summer, timestamp_test_summer = prepare_Y(y_test_summer)"
   ]
  },
  {
   "cell_type": "code",
   "execution_count": 291,
   "id": "6cf1df64-6e29-4c90-a1ea-c935ec573eca",
   "metadata": {},
   "outputs": [],
   "source": [
    "y_test_winter, timestamp_test_winter = prepare_Y(y_test_winter)"
   ]
  },
  {
   "cell_type": "code",
   "execution_count": 292,
   "id": "2a0f8950-7408-41c6-ae1b-7341fcf8059c",
   "metadata": {},
   "outputs": [],
   "source": [
    "class XGBoost(Essentials.SoftSensor):\n",
    "    def __init__(self,name, x_train, y_train,column_names):\n",
    "        super().__init__(name)\n",
    "        self.column_names = column_names\n",
    "        self.model = xgb.XGBRegressor()\n",
    "        self.x_scaler = StandardScaler() \n",
    "        self.y_scaler = StandardScaler()\n",
    "        self.fit_scaler(x_train, y_train)\n",
    "        self.RandomizedSearchCV(x_train, y_train)\n",
    "        self.train(x_train, y_train)\n",
    "        self.set_model(self.model)\n",
    "\n",
    "    def preprocessing(self, x):\n",
    "        try:\n",
    "            return self.x_scaler.transform(x)\n",
    "        except:\n",
    "            try:\n",
    "               return self.y_scaler.transform(x)\n",
    "            except BaseException as err:\n",
    "                print(\"Ошибка скейлера\")\n",
    "                raise err\n",
    "            \n",
    "    def postprocessing(self, x):\n",
    "        try:\n",
    "            return self.x_scaler.inverse_transform(x)\n",
    "        except:\n",
    "            try:\n",
    "               return self.y_scaler.inverse_transform(x)\n",
    "            except BaseException as err:\n",
    "                print(\"Ошибка скейлера\")\n",
    "                raise err\n",
    "\n",
    "    def fit_scaler(self, x_train, y_train):\n",
    "        self.x_scaler.fit(x_train)\n",
    "        self.y_scaler.fit(y_train)\n",
    "\n",
    "    def evaluate_model(self, x):\n",
    "        predictions = self.get_model().predict(x)\n",
    "        return predictions.reshape(-1,1)\n",
    "    \n",
    "    def RandomizedSearchCV(self,x_train,y_train):\n",
    "        x_train_scaled = self.preprocessing(x_train) \n",
    "        y_train_scaled = self.preprocessing(y_train) \n",
    "        param_distributions = {\n",
    "            'n_estimators': np.arange(10, 101, 10),\n",
    "            'max_depth': np.arange(2, 8),\n",
    "            'min_child_weight': np.arange(1, 4),\n",
    "            'subsample': np.linspace(0.7, 1.0, num=4),\n",
    "            'colsample_bytree': np.linspace(0.7, 1.0, num=4),\n",
    "            'gamma': np.linspace(0, 0.3, num=4),\n",
    "            'learning_rate': np.linspace(0.01, 0.07, num=4),\n",
    "            'reg_alpha': np.linspace(0, 0.1, num=2),\n",
    "            'reg_lambda': np.linspace(1, 4, num=4)\n",
    "        }\n",
    "\n",
    "        self.random_search = RandomizedSearchCV(\n",
    "            estimator=self.model,\n",
    "            param_distributions=param_distributions,\n",
    "            n_iter=100,  # Количество итераций поиска. Увеличьте или уменьшите в зависимости от вычислительных ресурсов.\n",
    "            scoring='r2',\n",
    "            cv=3,  # Кросс-валидация по 3 блокам\n",
    "            verbose=1,\n",
    "            random_state=42,\n",
    "            n_jobs=-1  # Используйте все доступные ядра\n",
    "        )\n",
    "        self.random_search.fit(x_train_scaled, y_train_scaled)\n",
    "        self.best_params = self.random_search.best_params_\n",
    "    \n",
    "    def train(self, x_train, y_train):\n",
    "        x_train_scaled = self.preprocessing(x_train) \n",
    "        y_train_scaled = self.preprocessing(y_train)\n",
    "        self.model = xgb.XGBRegressor(**self.random_search.best_params_)\n",
    "        self.model.fit(x_train_scaled,y_train_scaled)\n",
    "\n",
    "    def treeviz(self, feature_names):\n",
    "        random_tree = self.model.estimators[0]\n",
    "        plt.figure(figsize=(100, 80))\n",
    "        plot_tree(random_tree, feature_names=feature_names, class_names=None, filled=True)\n",
    "        plt.show()\n",
    "        plt.savefig('decision_tree.png')\n",
    "\n",
    "    def __str__(self):\n",
    "        # Создайте строковое представление лучших параметров с тремя знаками после запятой для чисел с плавающей точкой\n",
    "        best_params_str = \"\\n\".join(\n",
    "            f\"{key}: {value:.3f}\" if isinstance(value, float) else f\"{key}: {value}\"\n",
    "            for key, value in self.best_params.items()\n",
    "        )\n",
    "        \n",
    "        # Создайте DataFrame для строкового представления важности признаков\n",
    "        feature_importances = self.get_model().feature_importances_\n",
    "        feature_names = self.column_names\n",
    "        importances_with_names = pd.DataFrame({\n",
    "            'Название признака': feature_names,\n",
    "            'Важность': feature_importances\n",
    "        })\n",
    "        \n",
    "        # Возвращение строки с информацией только о параметрах и важности признаков\n",
    "        return (f\"Лучшие параметры:\\n{best_params_str}\\n\\n\"\n",
    "                f\"Важность признаков:\\n{importances_with_names.to_string(index=False)}\")"
   ]
  },
  {
   "cell_type": "code",
   "execution_count": 293,
   "id": "02fc1be8-6972-4342-9162-22d026a3fc3f",
   "metadata": {},
   "outputs": [
    {
     "name": "stdout",
     "output_type": "stream",
     "text": [
      "Fitting 3 folds for each of 100 candidates, totalling 300 fits\n"
     ]
    }
   ],
   "source": [
    "XGBoost_test = XGBoost(\"XGBoost\",x_train, y_train, ALL_column_names_1)"
   ]
  },
  {
   "cell_type": "code",
   "execution_count": 294,
   "id": "8f472de4-3a08-449c-b2cf-c479921407e9",
   "metadata": {},
   "outputs": [],
   "source": [
    "metric = Essentials.R2Metric()"
   ]
  },
  {
   "cell_type": "code",
   "execution_count": 295,
   "id": "cacadc14-ff37-45f8-bb78-d47ed568032b",
   "metadata": {},
   "outputs": [
    {
     "name": "stdout",
     "output_type": "stream",
     "text": [
      "Лучшие параметры:\n",
      "subsample: 1.000\n",
      "reg_lambda: 1.000\n",
      "reg_alpha: 0.100\n",
      "n_estimators: 100\n",
      "min_child_weight: 2\n",
      "max_depth: 2\n",
      "learning_rate: 0.030\n",
      "gamma: 0.200\n",
      "colsample_bytree: 1.000\n",
      "\n",
      "Важность признаков:\n",
      "                         Название признака  Важность\n",
      "           Расход бензина ККР на установку  0.000000\n",
      "             Расход нафты ККР на установку  0.000000\n",
      "  Расход бензина на рециркуляцию от Е-1205  0.000000\n",
      "      Температура бензина ККР на установку  0.020620\n",
      "                 Расход сырья после Р-1101  0.000000\n",
      " Показатель соотношения водород к углероду  0.000000\n",
      "  Расход водорода на смешение перед Е-1101  0.000000\n",
      "            Температура сырья перед Е-1101  0.019679\n",
      "               Давление сырья перед Е-1101  0.000000\n",
      "            Температура сырья перед Е-1102  0.000000\n",
      "            Температура сырья перед Е-1103  0.000000\n",
      "               Давление сырья перед Е-1103  0.027820\n",
      "            Температура сырья после Е-1103  0.000000\n",
      "               Температура ТБ перед Е-1101  0.000000\n",
      "               Температура ТБ после Е-1101  0.000000\n",
      "          Температура бензина перед Е-1102  0.016023\n",
      "          Температура бензина после Е-1102  0.000000\n",
      "             Давление бензина после Е-1102  0.017937\n",
      "             Температура пара перед Е-1103  0.000000\n",
      "                Давление пара перед Е-1103  0.000000\n",
      "             Температура на входе в R-1101  0.000000\n",
      "             Температура на входе в С-1101  0.024725\n",
      "                     Давление верха С-1101  0.000000\n",
      "           Температура 2-ой тарелки С-1101  0.222062\n",
      "                       Расход ЛБ от С-1101  0.024651\n",
      "                  Температура ЛБ от С-1101  0.026283\n",
      "           Температура 9-ой тарелки С-1101  0.021882\n",
      "                   Температура куба С-1101  0.018240\n",
      "                       Уровень куба С-1101  0.023000\n",
      "                   Расход ТБ с куба С-1101  0.000000\n",
      "           Расход пара на ребойлеры Е-1105  0.024102\n",
      "    Температура ТБ после ребойлеров Е-1105  0.000000\n",
      "              Давление ЛБ после АВО А-1101  0.000000\n",
      "           Температура ЛБ после АВО А-1101  0.000000\n",
      "                 Давление в емкости V-1102  0.022717\n",
      "                  Уровень в емкости V-1102  0.000000\n",
      "      Расход насыщенного газа после V-1102  0.000000\n",
      "              Температура окружающей среды  0.019272\n",
      "              Температура ТБ перед Е-1201А  0.000000\n",
      "Температура ТБ после Е-1201С перед Е-1201D  0.000000\n",
      "              Температура ТБ после Е-1201D  0.037782\n",
      "Температура ТБ после Е-1201D перед Е-1201C  0.000000\n",
      "              Температура ТБ после Е-1201A  0.000000\n",
      "              Расход ЛБ на орошение С-1101  0.000000\n",
      "             Температура на входе в R-1201  0.117819\n",
      "                Давление на входе в R-1201  0.000000\n",
      "             Расход квенча реактора R-1201  0.000000\n",
      "              Давление на выходе из R-1201  0.000000\n",
      "           Температура на выходе из R-2101  0.019085\n",
      "                Давление на входе в H-1201  0.000000\n",
      "             Температура на входе в H-1201  0.000000\n",
      "              Давление на выходе из H-1201  0.000000\n",
      "           Температура на выходе из H-1201  0.000000\n",
      "                  Уровень в емкости V-1201  0.018673\n",
      "              Температура в емкости V-1201  0.000000\n",
      "               Расход ТБ из емкости V-1201  0.000000\n",
      "                  Температура перед А-1201  0.071295\n",
      "                  Температура после А-1201  0.000000\n",
      "                  Уровень в емкости V-1202  0.000000\n",
      "              Температура в емкости V-1202  0.000000\n",
      "                     Давление верха С-1202  0.016737\n",
      "                  Температура верха С-1202  0.000000\n",
      "                Температура питания С-1202  0.000000\n",
      "                        Температура С-1202  0.000000\n",
      "         Температура глухой тарелки С-1202  0.000000\n",
      "                           Давление С-1202  0.000000\n",
      "                       Уровень куба С-1202  0.007458\n",
      "                   Температура куба С-1202  0.000000\n",
      "            Расход пара на ребойлер Е-1204  0.000000\n",
      "       Температура пара на ребойлер Е-1204  0.000000\n",
      "          Давление пара на ребойлер Е-1204  0.000000\n",
      "     Температура ТБ после ребойлера Е-1204  0.000000\n",
      "  Возврат ТБ в С-1202 после насосов Р-1204  0.020413\n",
      "                    Расход ТБ после Е-1203  0.000000\n",
      "               Температура ТБ после Е-1203  0.000000\n",
      "                  Уровень в емкости V-1205  0.066236\n",
      "                 Давление в емкости V-1205  0.000000\n",
      "  Расход ТБ из V-1205 после насосов Р-1203  0.000000\n",
      "                  Давление ЛБ перед А-1203  0.000000\n",
      "         Температура продукта после А-1203  0.000000\n",
      "         Температура продукта после Е-1205  0.000000\n",
      "            Давление продукта после Е-1205  0.051286\n",
      "   Давление продукта на выходе с установки  0.044203\n",
      "     Расход продукта на выходе с установки  0.000000\n",
      "                            Уровень V-1203  0.000000\n",
      "                        Температура V-1203  0.000000\n",
      "                  Температура верха С-1201  0.000000\n"
     ]
    }
   ],
   "source": [
    "print(XGBoost_test)"
   ]
  },
  {
   "cell_type": "code",
   "execution_count": 296,
   "id": "f0ab78b9-1742-4e81-8b94-622231eb5ae2",
   "metadata": {},
   "outputs": [
    {
     "data": {
      "text/plain": [
       "<Axes: >"
      ]
     },
     "execution_count": 296,
     "metadata": {},
     "output_type": "execute_result"
    },
    {
     "data": {
      "image/png": "[encoded data removed]",
      "text/plain": [
       "<Figure size 640x480 with 1 Axes>"
      ]
     },
     "metadata": {},
     "output_type": "display_data"
    }
   ],
   "source": [
    "XGBoost_test.model.get_booster().feature_names = list(ALL_column_names_1)\n",
    "xgb.plot_tree(XGBoost_test.model, num_trees=0)"
   ]
  },
  {
   "cell_type": "code",
   "execution_count": 297,
   "id": "5ef12783-2460-4be1-aa82-76b9a391a60b",
   "metadata": {},
   "outputs": [],
   "source": [
    "XGBoost_test_visual_train = Essentials.Visualizer(x_train, y_train, timestamp_train, [metric], 'XGBoost SoftSensor R2 metric on Train')"
   ]
  },
  {
   "cell_type": "code",
   "execution_count": 298,
   "id": "7f8a24a2-aa98-4d9a-9e32-fc92ef684cd2",
   "metadata": {},
   "outputs": [
    {
     "name": "stdout",
     "output_type": "stream",
     "text": [
      "         Coefficient of determination\n",
      "XGBoost                       0.88346\n"
     ]
    },
    {
     "data": {
      "image/png": "[encoded data removed]",
      "text/plain": [
       "<Figure size 640x480 with 1 Axes>"
      ]
     },
     "metadata": {},
     "output_type": "display_data"
    }
   ],
   "source": [
    "XGBoost_test_visual_train.visualize([XGBoost_test])"
   ]
  },
  {
   "cell_type": "code",
   "execution_count": 299,
   "id": "f6ca9f82-da7b-40b5-9e65-9397973dce78",
   "metadata": {},
   "outputs": [],
   "source": [
    "XGBoost_test_visual_test = Essentials.Visualizer(x_test, y_test, timestamp_test, [metric], 'XGBoost SoftSensor R2 metric on Test')"
   ]
  },
  {
   "cell_type": "code",
   "execution_count": 300,
   "id": "9efeaae2-96fa-4df5-93f6-7e95e34e7305",
   "metadata": {},
   "outputs": [
    {
     "name": "stdout",
     "output_type": "stream",
     "text": [
      "         Coefficient of determination\n",
      "XGBoost                      0.706521\n"
     ]
    },
    {
     "data": {
      "image/png": "[encoded data removed]",
      "text/plain": [
       "<Figure size 640x480 with 1 Axes>"
      ]
     },
     "metadata": {},
     "output_type": "display_data"
    }
   ],
   "source": [
    "XGBoost_test_visual_test.visualize([XGBoost_test])"
   ]
  }
 ],
 "metadata": {
  "kernelspec": {
   "display_name": "Python 3 (ipykernel)",
   "language": "python",
   "name": "python3"
  },
  "language_info": {
   "codemirror_mode": {
    "name": "ipython",
    "version": 3
   },
   "file_extension": ".py",
   "mimetype": "text/x-python",
   "name": "python",
   "nbconvert_exporter": "python",
   "pygments_lexer": "ipython3",
   "version": "3.11.7"
  }
 },
 "nbformat": 4,
 "nbformat_minor": 5
}
