{
 "cells": [
  {
   "cell_type": "code",
   "execution_count": 133,
   "id": "a6c5f119-8623-4818-9367-0b8427fa104c",
   "metadata": {},
   "outputs": [],
   "source": [
    "import numpy as np\n",
    "import matplotlib.pyplot as plt\n",
    "import seaborn as sns\n",
    "import pandas as pd\n",
    "import sklearn\n",
    "\n",
    "from abc import ABC\n",
    "from abc import abstractmethod\n",
    "from typing import List, Type"
   ]
  },
  {
   "cell_type": "markdown",
   "id": "984c71e7-534e-4931-914f-d24c6e09bb06",
   "metadata": {},
   "source": [
    "# Определение основных функций подготовки данных и визуализации для создания моделей Виртуальных Анализаторов"
   ]
  },
  {
   "cell_type": "code",
   "execution_count": 134,
   "id": "e10c8694-35b1-4573-80e5-5b9c8b3afde0",
   "metadata": {},
   "outputs": [],
   "source": [
    "class SoftSensor(ABC):    \n",
    "    \n",
    "    def __init__(self, name: str):\n",
    "        self.__model = None\n",
    "        self.__name = name\n",
    "\n",
    "    @abstractmethod\n",
    "    def prepare_data(self):\n",
    "        pass\n",
    "\n",
    "    @abstractmethod\n",
    "    def __call__(self):\n",
    "        pass\n",
    "\n",
    "    @abstractmethod\n",
    "    def train(self):\n",
    "        pass\n",
    "\n",
    "    @abstractmethod\n",
    "    def __str__(self):\n",
    "        pass\n",
    "    \n",
    "    def get_model(self):\n",
    "        return self.__model\n",
    "\n",
    "    def set_model(self, model):\n",
    "        self.__model = model\n",
    "\n",
    "    def test(self, x: np.ndarray, y: np.ndarray):\n",
    "        if len(x.shape) != 2:\n",
    "            raise AttributeError('Неверная размерность X')\n",
    "        if len(y.shape) != 1:\n",
    "            raise AttributeError('Неверная размерность Y') \n",
    "            \n",
    "        try:\n",
    "            pred_values = self.__call__(x)\n",
    "        except BaseException as err:\n",
    "            print('Ошибка обработки массива X ', err)\n",
    "            raise err\n",
    "            \n",
    "        if type(pred_valuese) != np.ndarray:\n",
    "            raise TypeError('Неверный тип данных при обработке')\n",
    "        if len(pred_values.shape) != 1:\n",
    "            raise ValueError('Неверная размерность выходных данных')\n",
    "\n",
    "        return pred_values\n",
    "        "
   ]
  },
  {
   "cell_type": "code",
   "execution_count": 135,
   "id": "57903b57-5a78-4ef9-97be-0708a0d2c65b",
   "metadata": {
    "editable": true,
    "slideshow": {
     "slide_type": ""
    },
    "tags": []
   },
   "outputs": [],
   "source": [
    "class MetricTemplate(ABC):\n",
    "    \n",
    "    @abstractmethod\n",
    "    def __init__(self, name):\n",
    "        if type(name) is not str:\n",
    "            raise AttributeError('Неверное имя метрики')\n",
    "        self.__name = name\n",
    "\n",
    "    @abstractmethod\n",
    "    def __call__(self):\n",
    "        pass\n",
    "\n",
    "    def evaluate(self, y_pred, y_real):\n",
    "        try:\n",
    "            value = self.__call__(y_pred, y_real)\n",
    "        except BaseException as err:\n",
    "            print('Ошибка вычисления метрики')\n",
    "            raise err\n",
    "        if type(value) != float:\n",
    "            raise ValueError('Неверный тип данных метрики')\n",
    "        if value.size != 1:\n",
    "            raise ValueError('Неверное количество данных метрики')\n",
    "        return value\n",
    "        \n",
    "    def get_name(self):\n",
    "        return self.__name\n"
   ]
  },
  {
   "cell_type": "code",
   "execution_count": 136,
   "id": "ca82f5d5-0301-4765-af11-a370711c96fe",
   "metadata": {
    "editable": true,
    "slideshow": {
     "slide_type": ""
    },
    "tags": []
   },
   "outputs": [],
   "source": [
    "class Visualizer():\n",
    "\n",
    "    def __init__(self, x, y, timestamps, metrics: List[Type[MetricTemplate]], name):\n",
    "    \n",
    "        try:\n",
    "            self.x_test = np.array(x, dtype=np.float64)\n",
    "            self.y_real = np.array(y, dtype=np.float64)\n",
    "        except BaseException as err:\n",
    "            print('Ошибка преобразования данных')\n",
    "            raise err\n",
    "        self.timestamps = timestamps\n",
    "        self.metrics = metrics\n",
    "        self.name = name\n",
    "        \n",
    "\n",
    "    def visualize(self, models: List[Type[SoftSensor]], verbose=True, all=True, each=True):\n",
    "        metric_num = len(self.metrics)\n",
    "        metric_dict = {}\n",
    "        if verbose:\n",
    "            for metric in self.metric:\n",
    "                metric_values = []\n",
    "                for model in models:\n",
    "                    model_pred = model.test(self.x_test)\n",
    "                    metric_value = metric.evaluate(model_pred, self.y_real)\n",
    "                    metric_values.append(metric_value)\n",
    "                metric_dict[metric.get_name()] = metric_values\n",
    "            index = []\n",
    "            for model in models:\n",
    "                index.append(model.get_name())\n",
    "            df_metric = pd.DataFrame(data=metric_dict, index=index)\n",
    "            print(df_metric)\n",
    "\n",
    "        results = {}\n",
    "        results['Лабораторный анализ'] = self.y_real\n",
    "        for model in models:\n",
    "            results[model.get_name()] = model.test(model.test(self.x_test))\n",
    "        res_df = pd.DataFrame(data=results, index=self.timestamps)\n",
    "\n",
    "        if all:\n",
    "            fig = sns.scatterplot(res_df, x=self.timestamps)\n",
    "            \n",
    "\n",
    "        \n",
    "            \n",
    "            "
   ]
  },
  {
   "cell_type": "code",
   "execution_count": null,
   "id": "d3c1d6cc-f8e6-4c84-b56f-72915f5eb78d",
   "metadata": {},
   "outputs": [],
   "source": []
  },
  {
   "cell_type": "code",
   "execution_count": 137,
   "id": "95aa9f07-70ff-4d0a-84fb-7afad4bd0fb6",
   "metadata": {},
   "outputs": [],
   "source": [
    "class MSE(MetricTemplate):\n",
    "\n",
    "    def __init__(self):\n",
    "        super().__init__('MSE')\n",
    "\n",
    "    def __call__(self, y_pred, y_real):\n",
    "        return ((y_pred-y_real)**2).mean().item()"
   ]
  },
  {
   "cell_type": "code",
   "execution_count": 138,
   "id": "e91041dd-5102-4621-bd01-8d3eecb2816d",
   "metadata": {
    "editable": true,
    "slideshow": {
     "slide_type": ""
    },
    "tags": []
   },
   "outputs": [],
   "source": [
    "class R2Metric(MetricTemplate):\n",
    "    def __init__(self):\n",
    "        super().__init__('Коэффициент детерминации')\n",
    "\n",
    "    def __call__(self, y_pred, y_real):\n",
    "        return float(sklearn.metrics.r2_score(y_real, y_pred))"
   ]
  }
 ],
 "metadata": {
  "kernelspec": {
   "display_name": "Python 3 (ipykernel)",
   "language": "python",
   "name": "python3"
  },
  "language_info": {
   "codemirror_mode": {
    "name": "ipython",
    "version": 3
   },
   "file_extension": ".py",
   "mimetype": "text/x-python",
   "name": "python",
   "nbconvert_exporter": "python",
   "pygments_lexer": "ipython3",
   "version": "3.10.7"
  }
 },
 "nbformat": 4,
 "nbformat_minor": 5
}
