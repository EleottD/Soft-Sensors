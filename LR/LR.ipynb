{
 "cells": [
  {
   "cell_type": "code",
   "execution_count": 1,
   "id": "fd089e5c-073c-4899-b1fc-e51d8550cc19",
   "metadata": {},
   "outputs": [],
   "source": [
    "import sys\n",
    "sys.path.append(\"..\")\n",
    "\n",
    "import Essentials"
   ]
  },
  {
   "cell_type": "code",
   "execution_count": 2,
   "id": "13d89c2c-e559-41ad-bff9-dbc07c7793bc",
   "metadata": {},
   "outputs": [],
   "source": [
    "import numpy as np\n",
    "from sklearn.linear_model import LinearRegression\n",
    "from sklearn.model_selection import train_test_split\n",
    "from sklearn.preprocessing import StandardScaler"
   ]
  },
  {
   "cell_type": "code",
   "execution_count": 3,
   "id": "dd53eeb4-e972-45e1-850d-de1c2920ca30",
   "metadata": {},
   "outputs": [],
   "source": [
    "data_archive = np.load('../Data_First.npz', allow_pickle=True)"
   ]
  },
  {
   "cell_type": "code",
   "execution_count": 4,
   "id": "85169fed-92f7-4245-8939-d998ab19f306",
   "metadata": {},
   "outputs": [],
   "source": [
    "def prepare_Y(y):\n",
    "    timestamp = y[:, 1]   \n",
    "    y = y[:, 0].reshape(len(y), 1)\n",
    "    y = y.astype(np.float64)\n",
    "\n",
    "    return y, timestamp"
   ]
  },
  {
   "cell_type": "code",
   "execution_count": 5,
   "id": "ea1726ec-2d6e-4e3f-85da-1ed6f0b48172",
   "metadata": {},
   "outputs": [],
   "source": [
    "all_X_1 = data_archive['all_X_1']\n",
    "all_Y_1 = data_archive['all_Y_1']\n",
    "\n",
    "all_X_2 = data_archive['all_X_2']\n",
    "all_Y_2 = data_archive['all_Y_2']\n",
    "\n",
    "all_X_3 = data_archive['all_X_3']\n",
    "all_Y_3 = data_archive['all_Y_3']\n",
    "\n",
    "x_summer_half_2 = data_archive['x_summer_half_2']\n",
    "y_summer_half_2 = data_archive['y_summer_half_2']\n",
    "x_winter_half_2 = data_archive['x_winter_half_2']\n",
    "y_winter_half_2 = data_archive['y_winter_half_2']\n",
    "\n",
    "x_summer_half_3 = data_archive['x_summer_half_3']\n",
    "y_summer_half_3 = data_archive['y_summer_half_3']\n",
    "x_winter_half_3 = data_archive['x_winter_half_3']\n",
    "y_winter_half_3 = data_archive['y_winter_half_3']"
   ]
  },
  {
   "cell_type": "code",
   "execution_count": 6,
   "id": "ac01c4a1-95d2-4f33-9664-afacc0265bec",
   "metadata": {},
   "outputs": [],
   "source": [
    "x_train, x_test, y_train, y_test = train_test_split(all_X_1, all_Y_1, test_size=0.3, random_state=42)"
   ]
  },
  {
   "cell_type": "code",
   "execution_count": 7,
   "id": "8293daa0-34e1-4521-aa0f-fb9847d0599b",
   "metadata": {},
   "outputs": [],
   "source": [
    "y_train, timestamp_train = prepare_Y(y_train)"
   ]
  },
  {
   "cell_type": "code",
   "execution_count": 8,
   "id": "3062d47e-1b33-44de-9afa-f163e8f60775",
   "metadata": {},
   "outputs": [],
   "source": [
    "y_test, timestamp_test = prepare_Y(y_test)"
   ]
  },
  {
   "cell_type": "code",
   "execution_count": 9,
   "id": "114b0910-2936-4510-98b7-96d60975c1a0",
   "metadata": {},
   "outputs": [],
   "source": [
    "x_train_summer, x_test_summer, y_train_summer, y_test_summer = train_test_split(x_summer_half_2, y_summer_half_2, test_size=0.2, random_state=42)"
   ]
  },
  {
   "cell_type": "code",
   "execution_count": 10,
   "id": "5beca199-593d-4619-91d4-340797c914d2",
   "metadata": {},
   "outputs": [],
   "source": [
    "x_train_winter, x_test_winter, y_train_winter, y_test_winter = train_test_split(x_winter_half_2, y_winter_half_2, test_size=0.2, random_state=42)"
   ]
  },
  {
   "cell_type": "code",
   "execution_count": 11,
   "id": "d9f09abe-d4e2-4bd7-a171-25d19dd4924e",
   "metadata": {},
   "outputs": [],
   "source": [
    "y_train_summer, timestamp_train_summer = prepare_Y(y_train_summer)"
   ]
  },
  {
   "cell_type": "code",
   "execution_count": 12,
   "id": "85403776-10c2-4e0b-90bc-c094db6f3154",
   "metadata": {},
   "outputs": [],
   "source": [
    "y_train_winter, timestamp_train_winter = prepare_Y(y_train_winter)"
   ]
  },
  {
   "cell_type": "code",
   "execution_count": 13,
   "id": "1760d538-421b-4ff3-976d-8b36fa69d729",
   "metadata": {},
   "outputs": [],
   "source": [
    "y_test_summer, timestamp_test_summer = prepare_Y(y_test_summer)"
   ]
  },
  {
   "cell_type": "code",
   "execution_count": 14,
   "id": "c68904c6-4186-43eb-a95c-1452f6e38212",
   "metadata": {},
   "outputs": [],
   "source": [
    "y_test_winter, timestamp_test_winter = prepare_Y(y_test_winter)"
   ]
  },
  {
   "cell_type": "code",
   "execution_count": 15,
   "id": "f1fd780d-427f-41d4-97d5-95118cd5fdcc",
   "metadata": {},
   "outputs": [
    {
     "data": {
      "text/plain": [
       "(90, 96)"
      ]
     },
     "execution_count": 15,
     "metadata": {},
     "output_type": "execute_result"
    }
   ],
   "source": [
    "x_train.shape"
   ]
  },
  {
   "cell_type": "code",
   "execution_count": 16,
   "id": "2a0f8950-7408-41c6-ae1b-7341fcf8059c",
   "metadata": {},
   "outputs": [],
   "source": [
    "class LR(Essentials.SoftSensor):\n",
    "    def __init__(self, name, x_train, y_train):\n",
    "        super().__init__(name)\n",
    "        self.model = LinearRegression()\n",
    "        self.train(x_train, y_train)\n",
    "        self.set_model(self.model)\n",
    "\n",
    "    def preprocessing(self, x):\n",
    "        return x\n",
    "    \n",
    "    def postprocessing(self, x):\n",
    "        return x\n",
    "\n",
    "    def evaluate_model(self, x):\n",
    "        predictions = self.get_model().predict(x)\n",
    "        return predictions\n",
    "\n",
    "    def train(self, x_train, y_train):\n",
    "        self.model.fit(x_train,y_train)\n",
    "\n",
    "    def __str__(self):\n",
    "        return  f\"Коэффициенты линейной регрссии = {self.get_model().coef_.reshape(-1,1)}, Свободный член = {self.get_model().intercept_.reshape(-1, 1)}\""
   ]
  },
  {
   "cell_type": "code",
   "execution_count": 17,
   "id": "02fc1be8-6972-4342-9162-22d026a3fc3f",
   "metadata": {},
   "outputs": [],
   "source": [
    "LR_test = LR(\"LR\", x_train, y_train)"
   ]
  },
  {
   "cell_type": "code",
   "execution_count": 18,
   "id": "8f472de4-3a08-449c-b2cf-c479921407e9",
   "metadata": {},
   "outputs": [],
   "source": [
    "metric = Essentials.R2Metric()"
   ]
  },
  {
   "cell_type": "code",
   "execution_count": 19,
   "id": "1b077180-df0b-4448-bf08-33fa7c9bc061",
   "metadata": {},
   "outputs": [
    {
     "name": "stdout",
     "output_type": "stream",
     "text": [
      "Коэффициенты линейной регрссии = [[-4.05962786e-01]\n",
      " [ 1.16413137e-01]\n",
      " [-2.10139298e-01]\n",
      " [-2.32974863e-01]\n",
      " [-1.42985810e+00]\n",
      " [-3.42019287e+01]\n",
      " [ 2.27651973e-01]\n",
      " [ 1.55860414e+00]\n",
      " [ 4.11826080e+00]\n",
      " [-1.49697184e+00]\n",
      " [ 1.55860415e+00]\n",
      " [ 1.64143141e+02]\n",
      " [ 2.02713633e+01]\n",
      " [ 1.60242984e+00]\n",
      " [-1.13529061e+02]\n",
      " [-2.61341229e+00]\n",
      " [-3.34050522e+00]\n",
      " [ 1.64284409e+01]\n",
      " [ 5.06408723e+00]\n",
      " [ 2.70261447e-01]\n",
      " [ 4.61992347e-01]\n",
      " [-1.92087394e+02]\n",
      " [-2.27824897e+01]\n",
      " [-1.64509310e+01]\n",
      " [-1.39252050e+00]\n",
      " [ 1.09183797e+02]\n",
      " [ 9.94532150e-02]\n",
      " [ 8.76112581e-02]\n",
      " [-1.91187880e+00]\n",
      " [-7.14966263e-01]\n",
      " [-2.26711780e+01]\n",
      " [ 1.97675820e-01]\n",
      " [-1.65271994e+00]\n",
      " [ 9.40354617e-02]\n",
      " [ 1.22607010e+01]\n",
      " [ 1.08414495e+02]\n",
      " [-8.66967994e-02]\n",
      " [-1.76592222e+02]\n",
      " [ 1.37967831e+00]\n",
      " [ 7.39700875e-02]\n",
      " [-2.96597179e-01]\n",
      " [ 7.22703042e-02]\n",
      " [-1.27457175e+00]\n",
      " [ 8.36526097e+00]\n",
      " [-5.15695591e+00]\n",
      " [ 1.60242984e+00]\n",
      " [-1.70055923e+00]\n",
      " [-2.25025898e-02]\n",
      " [ 6.96402209e+01]\n",
      " [-3.32950468e+02]\n",
      " [-2.67476606e+00]\n",
      " [-6.77440102e+01]\n",
      " [ 7.97851148e+00]\n",
      " [-1.43381321e+00]\n",
      " [-7.02782374e+00]\n",
      " [-5.82137155e+00]\n",
      " [-5.04476481e+00]\n",
      " [ 3.13643278e+00]\n",
      " [ 9.36854046e+01]\n",
      " [ 2.82093778e-01]\n",
      " [ 2.43096325e+00]\n",
      " [ 2.18474607e-01]\n",
      " [-5.35822306e+00]\n",
      " [-1.54847387e+00]\n",
      " [ 6.33807599e+00]\n",
      " [-1.62400528e+02]\n",
      " [ 1.09050728e+00]\n",
      " [ 1.43196358e+00]\n",
      " [ 1.39562797e-01]\n",
      " [ 6.58081166e-01]\n",
      " [ 2.82844594e+02]\n",
      " [-1.55584999e-03]\n",
      " [ 2.06981417e+01]\n",
      " [ 7.08435947e-02]\n",
      " [-4.17855167e-01]\n",
      " [ 4.43207504e+01]\n",
      " [-2.54626133e+01]\n",
      " [-5.40468076e-01]\n",
      " [-6.40013013e-01]\n",
      " [-1.07399248e+00]\n",
      " [ 1.54312334e+00]\n",
      " [-1.47225314e+02]\n",
      " [-6.93362068e+00]\n",
      " [-1.13064658e+01]\n",
      " [ 3.68218784e+00]\n",
      " [-4.17187039e-01]\n",
      " [ 1.26901792e+00]\n",
      " [-1.66824358e+00]\n",
      " [-7.53049971e+00]\n",
      " [ 9.40354616e-02]\n",
      " [-2.44612400e-01]\n",
      " [ 2.07126901e+00]\n",
      " [ 1.35196641e+02]\n",
      " [-6.44507165e+00]\n",
      " [ 2.09843881e+01]\n",
      " [-5.68061171e+01]], Свободный член = [[653.26833372]]\n"
     ]
    }
   ],
   "source": [
    "print(LR_test)"
   ]
  },
  {
   "cell_type": "code",
   "execution_count": 20,
   "id": "f0ab78b9-1742-4e81-8b94-622231eb5ae2",
   "metadata": {},
   "outputs": [
    {
     "data": {
      "text/plain": [
       "(array([[  32.99441447],\n",
       "        [  56.70528296],\n",
       "        [  45.64448813],\n",
       "        [  49.68317781],\n",
       "        [  63.61013604],\n",
       "        [  54.458664  ],\n",
       "        [  59.92130945],\n",
       "        [  52.27598115],\n",
       "        [  58.42952227],\n",
       "        [  61.01320569],\n",
       "        [  54.06859507],\n",
       "        [  59.81464068],\n",
       "        [  56.30103308],\n",
       "        [  59.54757478],\n",
       "        [  48.58570653],\n",
       "        [  47.16008572],\n",
       "        [  58.03090614],\n",
       "        [  63.03559025],\n",
       "        [  57.65233495],\n",
       "        [  53.70600689],\n",
       "        [  58.92703362],\n",
       "        [  49.6802146 ],\n",
       "        [  67.96665054],\n",
       "        [  50.36578845],\n",
       "        [  61.47136305],\n",
       "        [  66.0942213 ],\n",
       "        [-107.4736866 ],\n",
       "        [  59.69602903],\n",
       "        [  57.1329976 ],\n",
       "        [  54.12362531],\n",
       "        [  54.0858856 ],\n",
       "        [  60.22302705],\n",
       "        [  71.48904475],\n",
       "        [  52.97832193],\n",
       "        [  58.08361458],\n",
       "        [  65.28256774],\n",
       "        [  59.80465636],\n",
       "        [  57.74446574],\n",
       "        [  47.79296821]]),\n",
       " -59.20084041756272)"
      ]
     },
     "execution_count": 20,
     "metadata": {},
     "output_type": "execute_result"
    }
   ],
   "source": [
    "LR_test.test(x_test, y_test, metric)"
   ]
  },
  {
   "cell_type": "code",
   "execution_count": 21,
   "id": "5ef12783-2460-4be1-aa82-76b9a391a60b",
   "metadata": {},
   "outputs": [],
   "source": [
    "LR_test_visual_train = Essentials.Visualizer(x_train, y_train, timestamp_train, [metric], 'LR SoftSensor R2 metric on Train')"
   ]
  },
  {
   "cell_type": "code",
   "execution_count": 22,
   "id": "7f8a24a2-aa98-4d9a-9e32-fc92ef684cd2",
   "metadata": {},
   "outputs": [
    {
     "name": "stdout",
     "output_type": "stream",
     "text": [
      "    Coefficient of determination\n",
      "LR                           1.0\n"
     ]
    },
    {
     "data": {
      "image/png": "[encoded data removed]",
      "text/plain": [
       "<Figure size 640x480 with 1 Axes>"
      ]
     },
     "metadata": {},
     "output_type": "display_data"
    }
   ],
   "source": [
    "LR_test_visual_train.visualize([LR_test])"
   ]
  },
  {
   "cell_type": "code",
   "execution_count": 23,
   "id": "f6ca9f82-da7b-40b5-9e65-9397973dce78",
   "metadata": {},
   "outputs": [],
   "source": [
    "LR_test_visual_test = Essentials.Visualizer(x_test, y_test, timestamp_test, [metric], 'LR SoftSensor R2 metric on Test')"
   ]
  },
  {
   "cell_type": "code",
   "execution_count": 24,
   "id": "9efeaae2-96fa-4df5-93f6-7e95e34e7305",
   "metadata": {},
   "outputs": [
    {
     "name": "stdout",
     "output_type": "stream",
     "text": [
      "    Coefficient of determination\n",
      "LR                     -59.20084\n"
     ]
    },
    {
     "data": {
      "image/png": "[encoded data removed]",
      "text/plain": [
       "<Figure size 640x480 with 1 Axes>"
      ]
     },
     "metadata": {},
     "output_type": "display_data"
    }
   ],
   "source": [
    "LR_test_visual_test.visualize([LR_test])"
   ]
  }
 ],
 "metadata": {
  "kernelspec": {
   "display_name": "Python 3 (ipykernel)",
   "language": "python",
   "name": "python3"
  },
  "language_info": {
   "codemirror_mode": {
    "name": "ipython",
    "version": 3
   },
   "file_extension": ".py",
   "mimetype": "text/x-python",
   "name": "python",
   "nbconvert_exporter": "python",
   "pygments_lexer": "ipython3",
   "version": "3.11.7"
  }
 },
 "nbformat": 4,
 "nbformat_minor": 5
}
