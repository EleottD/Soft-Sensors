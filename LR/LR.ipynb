{
 "cells": [
  {
   "cell_type": "code",
   "execution_count": 73,
   "id": "fd089e5c-073c-4899-b1fc-e51d8550cc19",
   "metadata": {},
   "outputs": [],
   "source": [
    "import sys\n",
    "sys.path.append(\"..\")\n",
    "\n",
    "import Essentials"
   ]
  },
  {
   "cell_type": "code",
   "execution_count": 74,
   "id": "13d89c2c-e559-41ad-bff9-dbc07c7793bc",
   "metadata": {},
   "outputs": [],
   "source": [
    "import numpy as np\n",
    "from sklearn.linear_model import LinearRegression\n",
    "from sklearn.model_selection import train_test_split\n",
    "from sklearn.preprocessing import StandardScaler"
   ]
  },
  {
   "cell_type": "code",
   "execution_count": 75,
   "id": "dd53eeb4-e972-45e1-850d-de1c2920ca30",
   "metadata": {},
   "outputs": [],
   "source": [
    "data_archive = np.load('../Data_First_Nikita.npz', allow_pickle=True)"
   ]
  },
  {
   "cell_type": "code",
   "execution_count": 76,
   "id": "85169fed-92f7-4245-8939-d998ab19f306",
   "metadata": {},
   "outputs": [],
   "source": [
    "def prepare_Y(y):\n",
    "    timestamp = y[:, 1]   \n",
    "    y = y[:, 0].reshape(len(y), 1)\n",
    "    y = y.astype(np.float64)\n",
    "\n",
    "    return y, timestamp"
   ]
  },
  {
   "cell_type": "code",
   "execution_count": 77,
   "id": "ea1726ec-2d6e-4e3f-85da-1ed6f0b48172",
   "metadata": {},
   "outputs": [],
   "source": [
    "all_X_1 = data_archive['all_X_1']\n",
    "all_Y_1 = data_archive['all_Y_1']\n",
    "\n",
    "all_X_2 = data_archive['all_X_2']\n",
    "all_Y_2 = data_archive['all_Y_2']\n",
    "\n",
    "all_X_3 = data_archive['all_X_3']\n",
    "all_Y_3 = data_archive['all_Y_3']\n",
    "\n",
    "x_summer_half_2 = data_archive['x_summer_half_2']\n",
    "y_summer_half_2 = data_archive['y_summer_half_2']\n",
    "x_winter_half_2 = data_archive['x_winter_half_2']\n",
    "y_winter_half_2 = data_archive['y_winter_half_2']\n",
    "\n",
    "x_summer_half_3 = data_archive['x_summer_half_3']\n",
    "y_summer_half_3 = data_archive['y_summer_half_3']\n",
    "x_winter_half_3 = data_archive['x_winter_half_3']\n",
    "y_winter_half_3 = data_archive['y_winter_half_3']"
   ]
  },
  {
   "cell_type": "code",
   "execution_count": 78,
   "id": "ac01c4a1-95d2-4f33-9664-afacc0265bec",
   "metadata": {},
   "outputs": [],
   "source": [
    "x_train, x_test, y_train, y_test = train_test_split(all_X_2, all_Y_2, test_size=0.25, random_state=42)"
   ]
  },
  {
   "cell_type": "code",
   "execution_count": 79,
   "id": "8293daa0-34e1-4521-aa0f-fb9847d0599b",
   "metadata": {},
   "outputs": [],
   "source": [
    "y_train, timestamp_train = prepare_Y(y_train)"
   ]
  },
  {
   "cell_type": "code",
   "execution_count": 80,
   "id": "3062d47e-1b33-44de-9afa-f163e8f60775",
   "metadata": {},
   "outputs": [],
   "source": [
    "y_test, timestamp_test = prepare_Y(y_test)"
   ]
  },
  {
   "cell_type": "code",
   "execution_count": 81,
   "id": "114b0910-2936-4510-98b7-96d60975c1a0",
   "metadata": {},
   "outputs": [],
   "source": [
    "x_train_summer, x_test_summer, y_train_summer, y_test_summer = train_test_split(x_summer_half_2, y_summer_half_2, test_size=0.2, random_state=42)"
   ]
  },
  {
   "cell_type": "code",
   "execution_count": 82,
   "id": "5beca199-593d-4619-91d4-340797c914d2",
   "metadata": {},
   "outputs": [],
   "source": [
    "x_train_winter, x_test_winter, y_train_winter, y_test_winter = train_test_split(x_winter_half_2, y_winter_half_2, test_size=0.2, random_state=42)"
   ]
  },
  {
   "cell_type": "code",
   "execution_count": 83,
   "id": "d9f09abe-d4e2-4bd7-a171-25d19dd4924e",
   "metadata": {},
   "outputs": [],
   "source": [
    "y_train_summer, timestamp_train_summer = prepare_Y(y_train_summer)"
   ]
  },
  {
   "cell_type": "code",
   "execution_count": 84,
   "id": "85403776-10c2-4e0b-90bc-c094db6f3154",
   "metadata": {},
   "outputs": [],
   "source": [
    "y_train_winter, timestamp_train_winter = prepare_Y(y_train_winter)"
   ]
  },
  {
   "cell_type": "code",
   "execution_count": 85,
   "id": "1760d538-421b-4ff3-976d-8b36fa69d729",
   "metadata": {},
   "outputs": [],
   "source": [
    "y_test_summer, timestamp_test_summer = prepare_Y(y_test_summer)"
   ]
  },
  {
   "cell_type": "code",
   "execution_count": 86,
   "id": "c68904c6-4186-43eb-a95c-1452f6e38212",
   "metadata": {},
   "outputs": [],
   "source": [
    "y_test_winter, timestamp_test_winter = prepare_Y(y_test_winter)"
   ]
  },
  {
   "cell_type": "code",
   "execution_count": 87,
   "id": "f1fd780d-427f-41d4-97d5-95118cd5fdcc",
   "metadata": {},
   "outputs": [
    {
     "data": {
      "text/plain": [
       "(78, 43)"
      ]
     },
     "execution_count": 87,
     "metadata": {},
     "output_type": "execute_result"
    }
   ],
   "source": [
    "x_train.shape"
   ]
  },
  {
   "cell_type": "code",
   "execution_count": 88,
   "id": "2a0f8950-7408-41c6-ae1b-7341fcf8059c",
   "metadata": {},
   "outputs": [],
   "source": [
    "class LR(Essentials.SoftSensor):\n",
    "    def __init__(self, name, x_train, y_train):\n",
    "        super().__init__(name)\n",
    "        self.model = LinearRegression()\n",
    "        self.train(x_train, y_train)\n",
    "        self.set_model(self.model)\n",
    "\n",
    "    def preprocessing(self, x):\n",
    "        return x\n",
    "    \n",
    "    def postprocessing(self, x):\n",
    "        return x\n",
    "\n",
    "    def evaluate_model(self, x):\n",
    "        predictions = self.get_model().predict(x)\n",
    "        return predictions\n",
    "\n",
    "    def train(self, x_train, y_train):\n",
    "        self.model.fit(x_train,y_train)\n",
    "\n",
    "    def __str__(self):\n",
    "        return  f\"Коэффициенты линейной регрссии = {self.get_model().coef_.reshape(-1,1)}, Свободный член = {self.get_model().intercept_.reshape(-1, 1)}\""
   ]
  },
  {
   "cell_type": "code",
   "execution_count": 89,
   "id": "02fc1be8-6972-4342-9162-22d026a3fc3f",
   "metadata": {},
   "outputs": [],
   "source": [
    "LR_test = LR(\"LR\", x_train, y_train)"
   ]
  },
  {
   "cell_type": "code",
   "execution_count": 90,
   "id": "8f472de4-3a08-449c-b2cf-c479921407e9",
   "metadata": {},
   "outputs": [],
   "source": [
    "metric = Essentials.R2Metric()"
   ]
  },
  {
   "cell_type": "code",
   "execution_count": 91,
   "id": "1b077180-df0b-4448-bf08-33fa7c9bc061",
   "metadata": {},
   "outputs": [
    {
     "name": "stdout",
     "output_type": "stream",
     "text": [
      "Коэффициенты линейной регрссии = [[-1.43823855e+00]\n",
      " [ 2.90260851e+00]\n",
      " [-2.50092185e-01]\n",
      " [-4.33174075e-01]\n",
      " [-6.49439633e-01]\n",
      " [ 3.13902337e+01]\n",
      " [-1.20490731e-01]\n",
      " [ 4.05649581e+00]\n",
      " [ 1.21810471e+02]\n",
      " [ 6.02757929e+00]\n",
      " [-5.45207775e-01]\n",
      " [ 3.75006538e+01]\n",
      " [-4.33584205e+00]\n",
      " [-4.88540315e-01]\n",
      " [ 7.84969593e+01]\n",
      " [ 8.85784746e-01]\n",
      " [ 2.69104190e+00]\n",
      " [-4.58133768e+00]\n",
      " [ 1.47320429e+00]\n",
      " [-3.21936921e+00]\n",
      " [ 5.12710350e-02]\n",
      " [ 2.13188857e+00]\n",
      " [ 4.89022018e-01]\n",
      " [-2.10621810e-01]\n",
      " [ 2.47369215e+01]\n",
      " [ 5.62953715e-01]\n",
      " [-8.84006423e+01]\n",
      " [ 2.02112454e+00]\n",
      " [ 2.60822648e-01]\n",
      " [-1.10819379e+00]\n",
      " [ 9.65667591e-01]\n",
      " [-6.39945613e+00]\n",
      " [ 5.87791307e-01]\n",
      " [-6.95922303e-01]\n",
      " [-5.73608551e-01]\n",
      " [-2.18521786e+00]\n",
      " [ 4.89022018e-01]\n",
      " [-3.94972546e-01]\n",
      " [-4.80063563e+01]\n",
      " [-4.80365679e+01]\n",
      " [-1.06669629e+00]\n",
      " [-1.20113752e-03]\n",
      " [-4.55558501e+00]], Свободный член = [[-2818.88200603]]\n"
     ]
    }
   ],
   "source": [
    "print(LR_test)"
   ]
  },
  {
   "cell_type": "code",
   "execution_count": 92,
   "id": "f0ab78b9-1742-4e81-8b94-622231eb5ae2",
   "metadata": {},
   "outputs": [
    {
     "data": {
      "text/plain": [
       "(array([[101.08595868],\n",
       "        [ 61.8863768 ],\n",
       "        [ 70.38590079],\n",
       "        [ 82.65686962],\n",
       "        [ 97.71832388],\n",
       "        [ 78.86978765],\n",
       "        [ 95.54400515],\n",
       "        [ 13.53508781],\n",
       "        [ 94.48870521],\n",
       "        [110.48345158],\n",
       "        [ 67.41863153],\n",
       "        [ 94.01895506],\n",
       "        [106.38860216],\n",
       "        [ 98.2094639 ],\n",
       "        [ 87.68156154],\n",
       "        [ 61.10051746],\n",
       "        [ 86.99404411],\n",
       "        [108.46680305],\n",
       "        [ 90.25716959],\n",
       "        [ 93.96085738],\n",
       "        [103.01666332],\n",
       "        [ 83.10605577],\n",
       "        [ 99.00574962],\n",
       "        [ 89.71651908],\n",
       "        [102.58793069],\n",
       "        [ 77.50834923],\n",
       "        [ 97.89688834]]),\n",
       " -5.048006571107887)"
      ]
     },
     "execution_count": 92,
     "metadata": {},
     "output_type": "execute_result"
    }
   ],
   "source": [
    "LR_test.test(x_test, y_test, metric)"
   ]
  },
  {
   "cell_type": "code",
   "execution_count": 93,
   "id": "5ef12783-2460-4be1-aa82-76b9a391a60b",
   "metadata": {},
   "outputs": [],
   "source": [
    "LR_test_visual_train = Essentials.Visualizer(x_train, y_train, timestamp_train, [metric], 'LR SoftSensor R2 metric on Train')"
   ]
  },
  {
   "cell_type": "code",
   "execution_count": 94,
   "id": "7f8a24a2-aa98-4d9a-9e32-fc92ef684cd2",
   "metadata": {},
   "outputs": [
    {
     "name": "stdout",
     "output_type": "stream",
     "text": [
      "    Coefficient of determination\n",
      "LR                      0.776076\n"
     ]
    },
    {
     "data": {
      "image/png": "[encoded data removed]",
      "text/plain": [
       "<Figure size 640x480 with 1 Axes>"
      ]
     },
     "metadata": {},
     "output_type": "display_data"
    }
   ],
   "source": [
    "LR_test_visual_train.visualize([LR_test])"
   ]
  },
  {
   "cell_type": "code",
   "execution_count": 95,
   "id": "f6ca9f82-da7b-40b5-9e65-9397973dce78",
   "metadata": {},
   "outputs": [],
   "source": [
    "LR_test_visual_test = Essentials.Visualizer(x_test, y_test, timestamp_test, [metric], 'LR SoftSensor R2 metric on Test')"
   ]
  },
  {
   "cell_type": "code",
   "execution_count": 96,
   "id": "9efeaae2-96fa-4df5-93f6-7e95e34e7305",
   "metadata": {},
   "outputs": [
    {
     "name": "stdout",
     "output_type": "stream",
     "text": [
      "    Coefficient of determination\n",
      "LR                     -5.048007\n"
     ]
    },
    {
     "data": {
      "image/png": "[encoded data removed]",
      "text/plain": [
       "<Figure size 640x480 with 1 Axes>"
      ]
     },
     "metadata": {},
     "output_type": "display_data"
    }
   ],
   "source": [
    "LR_test_visual_test.visualize([LR_test])"
   ]
  }
 ],
 "metadata": {
  "kernelspec": {
   "display_name": "Python 3 (ipykernel)",
   "language": "python",
   "name": "python3"
  },
  "language_info": {
   "codemirror_mode": {
    "name": "ipython",
    "version": 3
   },
   "file_extension": ".py",
   "mimetype": "text/x-python",
   "name": "python",
   "nbconvert_exporter": "python",
   "pygments_lexer": "ipython3",
   "version": "3.11.7"
  }
 },
 "nbformat": 4,
 "nbformat_minor": 5
}
