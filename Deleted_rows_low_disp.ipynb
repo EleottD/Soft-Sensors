{
 "cells": [
  {
   "cell_type": "code",
   "execution_count": 1,
   "id": "b9b13fd3-b6f2-4008-965b-af64817b8e3c",
   "metadata": {},
   "outputs": [],
   "source": [
    "import seaborn as sns\n",
    "import matplotlib.pyplot as plt\n",
    "import numpy as np\n",
    "import pandas as pd\n",
    "\n",
    "from collections import Counter\n",
    "from typing import Generator, Tuple"
   ]
  },
  {
   "cell_type": "code",
   "execution_count": 2,
   "id": "29422e17-a4a8-459d-88af-5d7636b8f545",
   "metadata": {},
   "outputs": [],
   "source": [
    "def load_file(path) -> pd.DataFrame:\n",
    "    \"\"\"Загружает данные из exel файла, удаляет незаполненные значения, формирует колонку временной метки\"\"\"\n",
    "    \n",
    "    df = pd.read_excel(path, header=0)\n",
    "    df['DateTime']= pd.to_datetime(df['Date'].astype(str)+' '+ df['Time'].astype(str))\n",
    "    df = df.drop(['Date', 'Time'], axis=1)\n",
    "    df.replace('-',np.NaN, inplace=True)\n",
    "    df.dropna(axis=0, how='any', inplace=True)\n",
    "    return df\n",
    "\n",
    "def remove_outliers_with_datetime(df: pd.DataFrame, threshold_multiplier: float) -> pd.DataFrame:\n",
    "    # Копируем DataFrame, чтобы сохранить оригинальные данные\n",
    "    filtered_df = df.copy()\n",
    "    # Список для сохранения индексов строк, которые не являются выбросами\n",
    "    valid_indices = []\n",
    "\n",
    "    # Проходим по всем столбцам, кроме последнего (DateTime)\n",
    "    for column in df.columns[:-1]:\n",
    "        # Вычисление среднего и стандартного отклонения\n",
    "        mean = df[column].mean()\n",
    "        std = df[column].std()\n",
    "\n",
    "        # Определение границ для выбросов\n",
    "        upper_threshold = mean + threshold_multiplier * std\n",
    "        lower_threshold = mean - threshold_multiplier * std\n",
    "\n",
    "        # Находим валидные строки, которые не являются выбросами\n",
    "        valid_mask = (df[column] <= upper_threshold) & (df[column] >= lower_threshold)\n",
    "        \n",
    "        # Сохраняем индексы валидных строк для текущего столбца\n",
    "        if not valid_indices:\n",
    "            # Если список индексов еще пуст, инициализируем его\n",
    "            valid_indices = df.index[valid_mask].tolist()\n",
    "        else:\n",
    "            # Объединяем индексы с уже существующими, оставляя только те, которые валидны во всех колонках\n",
    "            valid_indices = [index for index in valid_indices if index in df.index[valid_mask]]\n",
    "\n",
    "    # Отфильтровываем DataFrame, оставляя только строки с валидными индексами\n",
    "    filtered_df = df.loc[valid_indices].reset_index(drop=True)\n",
    "\n",
    "    return filtered_df\n"
   ]
  },
  {
   "cell_type": "code",
   "execution_count": 12,
   "id": "2dd160be-4144-4ca4-aa09-769766d2c96f",
   "metadata": {},
   "outputs": [
    {
     "data": {
      "text/plain": [
       "(11570, 88)"
      ]
     },
     "execution_count": 12,
     "metadata": {},
     "output_type": "execute_result"
    }
   ],
   "source": [
    "df_X1.shape"
   ]
  },
  {
   "cell_type": "code",
   "execution_count": 3,
   "id": "0a221194-8bfc-4316-ab67-a6c6b69e1a7d",
   "metadata": {},
   "outputs": [],
   "source": [
    "df_X1 = remove_outliers_with_datetime(load_file('Исходные данные/Процессные данные Давление насыщенных паров в продукте, зимний период.xlsx'),3)\n",
    "df_X2 = remove_outliers_with_datetime(load_file('Исходные данные/Процессные данные Конец кипения легкого бензина.xlsx'),3)\n",
    "df_X3 = remove_outliers_with_datetime(load_file('Исходные данные/Процессные данные Содержание олефинов в продукте.xlsx'),3)"
   ]
  },
  {
   "cell_type": "code",
   "execution_count": 4,
   "id": "b8a3674e-2715-4221-bd27-e65248a9f5f6",
   "metadata": {},
   "outputs": [],
   "source": [
    "pd.set_option('display.max_columns', None)\n",
    "min_var = 0.01"
   ]
  },
  {
   "cell_type": "code",
   "execution_count": 5,
   "id": "798db1cc-f5db-4f34-8b82-da2619b9c8e8",
   "metadata": {},
   "outputs": [],
   "source": [
    "def dataframe_info(df):\n",
    "    df = df.drop(columns=['DateTime'])\n",
    "    variance = df.var()\n",
    "    std = df.std()\n",
    "    means = df.mean()\n",
    "    medians = df.median()\n",
    "    mins = df.min()\n",
    "    maxes = df.max()\n",
    "    df_info = pd.DataFrame([variance, std, means, medians, mins, maxes], index=['variance', 'standart deviation', 'mean', 'median', 'min', 'max'])\n",
    "    return df_info\n",
    "\n",
    "def drop_low_variance(df, df_info, min_var):\n",
    "    # Получение названий столбцов до удаления\n",
    "    original_cols = set(df.columns)\n",
    "    \n",
    "    # Создание маски булевых значений, которое будет True для столбцов с дисперсией\n",
    "    # меньше, чем заданный порог (min_var), и False для остальных\n",
    "    m1 = df_info.loc['variance'] < min_var\n",
    "    \n",
    "    # Выбор имен столбцов из исходного DataFrame, которые соответствуют условию маски\n",
    "    drop_cols = df.columns[:-1][m1]\n",
    "    \n",
    "    # Удаление столбцов с низкой дисперсией из исходного DataFrame\n",
    "    df.drop(columns=list(drop_cols), inplace=True)\n",
    "    \n",
    "    # Получение названий столбцов после удаления\n",
    "    remaining_cols = set(df.columns)\n",
    "    \n",
    "    # Определение разницы между двумя наборами названий столбцов, чтобы увидеть, какие были удалены\n",
    "    removed_cols = list(original_cols - remaining_cols)\n",
    "    \n",
    "    # Возвращаем исходный DataFrame (уже измененный) и список удаленных столбцов\n",
    "    return removed_cols"
   ]
  },
  {
   "cell_type": "code",
   "execution_count": 6,
   "id": "be898569-3c54-42e8-97cb-fb9bccda25d9",
   "metadata": {},
   "outputs": [],
   "source": [
    "df_info_X1 = dataframe_info(df_X1)\n"
   ]
  },
  {
   "cell_type": "code",
   "execution_count": 7,
   "id": "2fdf492d-06c9-453f-aac8-779a32033374",
   "metadata": {},
   "outputs": [
    {
     "name": "stdout",
     "output_type": "stream",
     "text": [
      "Удаленные столбцы: ['Давление С-1201', 'Давление в емкости V-1201', 'Возврат ТБ в V-1205 после насосов Р-1203', 'Давление ТБ перед Е-1101', 'Давление верха С-1201', 'Перепад давления реактора R-1201', 'Давление на входе в R-1101', 'Давление V-1203', 'Давление в емкости V-1101', 'Перепад давления реактора R-1101', 'Расход пара перед Е-1103']\n"
     ]
    }
   ],
   "source": [
    "removed_cols_1 = drop_low_variance(df_X1, df_info_X1, min_var)\n",
    "print(\"Удаленные столбцы:\", removed_cols_1)"
   ]
  },
  {
   "cell_type": "code",
   "execution_count": 8,
   "id": "7357d487-5607-49b2-9861-6d648bf4adf8",
   "metadata": {},
   "outputs": [],
   "source": [
    "df_info_X2 = dataframe_info(df_X2)"
   ]
  },
  {
   "cell_type": "code",
   "execution_count": 9,
   "id": "d00d6f20-c5a6-4752-a8b4-a6418c2726e1",
   "metadata": {},
   "outputs": [
    {
     "name": "stdout",
     "output_type": "stream",
     "text": [
      "Удаленные столбцы: ['Давление в емкости V-1101', 'Давление на входе в R-1101', 'Давление ВСГ на входе в К-1201', 'Перепад давления реактора R-1101', 'Расход пара перед Е-1103']\n"
     ]
    }
   ],
   "source": [
    "removed_cols_2 = drop_low_variance(df_X2, df_info_X2, min_var)\n",
    "print(\"Удаленные столбцы:\", removed_cols_2)"
   ]
  },
  {
   "cell_type": "code",
   "execution_count": 10,
   "id": "440cce78-6456-4baf-914d-e68650c22033",
   "metadata": {},
   "outputs": [],
   "source": [
    "df_info_X3 = dataframe_info(df_X3)"
   ]
  },
  {
   "cell_type": "code",
   "execution_count": 11,
   "id": "7f892895-394f-4f18-bca7-50256c8934e9",
   "metadata": {},
   "outputs": [
    {
     "name": "stdout",
     "output_type": "stream",
     "text": [
      "Удаленные столбцы: ['4PDI_R1201_DACA_PV/Var/MV/Перепад давления реактора R-1201/', '4PI2028_DACA_PV/Var/MV/Давление в емкости V-1201/', '4FI2028_DACA_PV/Var/MV/Возврат ТБ в V-1205 после насосов Р-1203/', '4PIC1016_PIDA_PV/Var/MV/Давление на входе в R-1101/', '4PDI_R1101_DACA_PV/Var/MV/Перепад давления реактора R-1101/', '4PI1015_DACA_PV/Var/MV/Давление ТБ перед Е-1101/', '4PIC2035_PIDA_PV/Var/MV/Давление в емкости V-1202/', '4PIC1035A_PIDA_PV/Var/MV/Давление в емкости V-1101/']\n"
     ]
    }
   ],
   "source": [
    "removed_cols_3 = drop_low_variance(df_X3, df_info_X3, min_var)\n",
    "print(\"Удаленные столбцы:\", removed_cols_3)"
   ]
  }
 ],
 "metadata": {
  "kernelspec": {
   "display_name": "Python 3 (ipykernel)",
   "language": "python",
   "name": "python3"
  },
  "language_info": {
   "codemirror_mode": {
    "name": "ipython",
    "version": 3
   },
   "file_extension": ".py",
   "mimetype": "text/x-python",
   "name": "python",
   "nbconvert_exporter": "python",
   "pygments_lexer": "ipython3",
   "version": "3.11.7"
  }
 },
 "nbformat": 4,
 "nbformat_minor": 5
}
